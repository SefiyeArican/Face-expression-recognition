{
  "cells": [
    {
      "cell_type": "markdown",
      "metadata": {
        "id": "view-in-github",
        "colab_type": "text"
      },
      "source": [
        "<a href=\"https://colab.research.google.com/github/SefiyeArican/Face-expression-recognition/blob/main/Face_expression_recognition.ipynb\" target=\"_parent\"><img src=\"https://colab.research.google.com/assets/colab-badge.svg\" alt=\"Open In Colab\"/></a>"
      ]
    },
    {
      "cell_type": "markdown",
      "metadata": {
        "id": "AQmSl9Nvaa-w"
      },
      "source": [
        "**Access to the dataset via google drive**"
      ]
    },
    {
      "cell_type": "code",
      "execution_count": 1,
      "metadata": {
        "colab": {
          "base_uri": "https://localhost:8080/"
        },
        "id": "hYn130DRry7V",
        "outputId": "65dc9416-f5bb-431f-ea2a-5ef9eecf5f52"
      },
      "outputs": [
        {
          "output_type": "stream",
          "name": "stdout",
          "text": [
            "Mounted at /content/drive\n"
          ]
        }
      ],
      "source": [
        "from google.colab import drive\n",
        "drive.mount('/content/drive')"
      ]
    },
    {
      "cell_type": "code",
      "execution_count": 2,
      "metadata": {
        "id": "t9e_FbNYaknD"
      },
      "outputs": [],
      "source": [
        "import zipfile\n",
        "import os\n",
        "\n",
        "dataset_path = \"/content/drive/MyDrive/archive.zip\"\n",
        "\n",
        "with zipfile.ZipFile(os.path.join(dataset_path), 'r') as zip_ref:\n",
        "    zip_ref.extractall(\"/content/\")"
      ]
    },
    {
      "cell_type": "markdown",
      "metadata": {
        "id": "zPm-Vo8mvxm4"
      },
      "source": [
        "**Data loading and review**"
      ]
    },
    {
      "cell_type": "code",
      "execution_count": 3,
      "metadata": {
        "colab": {
          "base_uri": "https://localhost:8080/"
        },
        "id": "uR9knopva-XC",
        "outputId": "ac410ed9-3894-4ac6-d2ab-7b02da62a891"
      },
      "outputs": [
        {
          "output_type": "stream",
          "name": "stdout",
          "text": [
            "Number of images in the Train folder: 28821\n",
            "Number of images in the Validation folder: 7066\n"
          ]
        }
      ],
      "source": [
        "import os\n",
        "from PIL import Image\n",
        "\n",
        "data_dir = '/content/images/images'\n",
        "\n",
        "def count_images_in_directory(data_dir):\n",
        "    image_extensions = ['.jpg', '.jpeg', '.png', '.gif', '.bmp', '.tiff', '.webp']\n",
        "\n",
        "    image_count = 0\n",
        "\n",
        "    for root, dirs, files in os.walk(data_dir):\n",
        "        for file in files:\n",
        "            if any(file.lower().endswith(ext) for ext in image_extensions):\n",
        "                try:\n",
        "                    # Check if it is visual\n",
        "                    with Image.open(os.path.join(root, file)) as img:\n",
        "                        img.verify()  # This line checks if the image is broken\n",
        "                    image_count += 1\n",
        "                except (IOError, SyntaxError):\n",
        "                    # Skip non-visual files\n",
        "                    continue\n",
        "\n",
        "    return image_count\n",
        "\n",
        "data_dir = '/content/images/images/train'\n",
        "print(f\"Number of images in the Train folder: {count_images_in_directory(data_dir)}\")\n",
        "data_dir = '/content/images/images/validation'\n",
        "print(f\"Number of images in the Validation folder: {count_images_in_directory(data_dir)}\")"
      ]
    },
    {
      "cell_type": "markdown",
      "metadata": {
        "id": "uMDo3g6_9355"
      },
      "source": [
        "Since the number of data seems sufficient, I don't see the need to generate data, I will work with the existing dataset."
      ]
    },
    {
      "cell_type": "markdown",
      "metadata": {
        "id": "0RFzv7Dh51u_"
      },
      "source": [
        "**What is the type of these images in the dataset?**"
      ]
    },
    {
      "cell_type": "code",
      "execution_count": 4,
      "metadata": {
        "colab": {
          "base_uri": "https://localhost:8080/"
        },
        "id": "y5mUVT9H53sH",
        "outputId": "2be65602-0165-439a-849a-ec3dfa18da09"
      },
      "outputs": [
        {
          "output_type": "stream",
          "name": "stdout",
          "text": [
            "Types of images in Train set:\n",
            ".jpg: 28821 images\n",
            "Types of images in Validation set:\n",
            ".jpg: 7066 images\n"
          ]
        }
      ],
      "source": [
        "import os\n",
        "from collections import defaultdict\n",
        "\n",
        "data_dir = '/content/images/images'\n",
        "\n",
        "def count_image_types(data_dir):\n",
        "    # Create a dictionary of image types and numbers\n",
        "    image_types = defaultdict(int)\n",
        "\n",
        "    # Navigate files in folders and subfolders\n",
        "    for root, dirs, files in os.walk(data_dir):\n",
        "        for file in files:\n",
        "            # Get file extension\n",
        "            ext = os.path.splitext(file)[1].lower()\n",
        "            if ext in ['.jpg', '.jpeg', '.png', '.gif', '.bmp', '.tiff', '.webp']:\n",
        "                image_types[ext] += 1\n",
        "\n",
        "    return image_types\n",
        "\n",
        "print(\"Types of images in Train set:\")\n",
        "data_dir = '/content/images/images/train'\n",
        "image_types_counts = count_image_types(data_dir)\n",
        "\n",
        "for ext, count in image_types_counts.items():\n",
        "    print(f\"{ext}: {count} image{'s' if count > 1 else ''}\")\n",
        "\n",
        "\n",
        "print(\"Types of images in Validation set:\")\n",
        "data_dir = '/content/images/images/validation'\n",
        "image_types_counts = count_image_types(data_dir)\n",
        "\n",
        "for ext, count in image_types_counts.items():\n",
        "    print(f\"{ext}: {count} image{'s' if count > 1 else ''}\")\n"
      ]
    },
    {
      "cell_type": "markdown",
      "metadata": {
        "id": "qhBlVPqr6sX0"
      },
      "source": [
        "All images type is .jpg"
      ]
    },
    {
      "cell_type": "code",
      "execution_count": 5,
      "metadata": {
        "colab": {
          "base_uri": "https://localhost:8080/"
        },
        "id": "-ywsN9TWr1Up",
        "outputId": "53f5e958-288d-43f7-a877-688a3ceababd"
      },
      "outputs": [
        {
          "output_type": "stream",
          "name": "stdout",
          "text": [
            "Number of subfolders (classes) in the Train folder: 7\n",
            "The name of subfolders (classes) in the Train folder:\n",
            "happy\n",
            "fear\n",
            "sad\n",
            "neutral\n",
            "angry\n",
            "surprise\n",
            "disgust\n",
            "\n",
            "\n",
            "Number of subfolders (classes) in the Validation folder: 7\n",
            "The name of subfolders (classes) in the Validation folder:\n",
            "happy\n",
            "fear\n",
            "sad\n",
            "neutral\n",
            "angry\n",
            "surprise\n",
            "disgust\n"
          ]
        }
      ],
      "source": [
        "import os\n",
        "\n",
        "def count_and_list_subfolders(data_dir):\n",
        "    #  List subclasses\n",
        "    subfolders = [f for f in os.listdir(data_dir) if os.path.isdir(os.path.join(data_dir, f))]\n",
        "    return len(subfolders), subfolders\n",
        "\n",
        "# Get the number and names of subfolders in the Train folder\n",
        "data_dir = '/content/images/images/train'\n",
        "num_subfolders_train, subfolders_train = count_and_list_subfolders(data_dir)\n",
        "print(f\"Number of subfolders (classes) in the Train folder: {num_subfolders_train}\")\n",
        "\n",
        "print(\"The name of subfolders (classes) in the Train folder:\")\n",
        "for subfolder in subfolders_train:\n",
        "    print(subfolder)\n",
        "\n",
        "print(\"\\n\")\n",
        "\n",
        "# Get the number and names of subfolders in the Validation folder\n",
        "data_dir = '/content/images/images/validation'\n",
        "num_subfolders_validation, subfolders_validation = count_and_list_subfolders(data_dir)\n",
        "print(f\"Number of subfolders (classes) in the Validation folder: {num_subfolders_validation}\")\n",
        "\n",
        "print(\"The name of subfolders (classes) in the Validation folder:\")\n",
        "for subfolder in subfolders_validation:\n",
        "    print(subfolder)\n",
        "\n"
      ]
    },
    {
      "cell_type": "markdown",
      "metadata": {
        "id": "UqqF8GuWz0Kw"
      },
      "source": [
        "There are 2 main classes in the dataset; Train and Validation. These classes have 7 subclasses. The names of these subclasses are \"disgust, neutral, sad, angry, surprise, happy, fear\"."
      ]
    },
    {
      "cell_type": "code",
      "execution_count": 6,
      "metadata": {
        "colab": {
          "base_uri": "https://localhost:8080/"
        },
        "id": "WV_WmpGD0uXB",
        "outputId": "b5706655-d3ca-4481-a530-f9dfabaf5a4b"
      },
      "outputs": [
        {
          "output_type": "stream",
          "name": "stdout",
          "text": [
            "Train Folder\n",
            "* happy - 7164\n",
            "* fear - 4103\n",
            "* sad - 4938\n",
            "* neutral - 4982\n",
            "* angry - 3993\n",
            "* surprise - 3205\n",
            "* disgust - 436\n",
            "\n",
            "\n",
            "Validation Folder\n",
            "* happy - 1825\n",
            "* fear - 1018\n",
            "* sad - 1139\n",
            "* neutral - 1216\n",
            "* angry - 960\n",
            "* surprise - 797\n",
            "* disgust - 111\n"
          ]
        }
      ],
      "source": [
        "import os\n",
        "from PIL import Image\n",
        "\n",
        "data_dir = '/content/images/images'\n",
        "\n",
        "def count_images_in_directory(data_dir):\n",
        "\n",
        "    image_extensions = ['.jpg', '.jpeg', '.png', '.gif', '.bmp', '.tiff', '.webp']\n",
        "\n",
        "    image_counts = {}\n",
        "\n",
        "    # Navigate files in folders and subfolders\n",
        "    for root, dirs, files in os.walk(data_dir):\n",
        "        image_count = 0\n",
        "        for file in files:\n",
        "            if any(file.lower().endswith(ext) for ext in image_extensions):\n",
        "                try:\n",
        "                    # Check if it is visual\n",
        "                    with Image.open(os.path.join(root, file)) as img:\n",
        "                        img.verify()  # This line checks if the image is broken\n",
        "                    image_count += 1\n",
        "                except (IOError, SyntaxError):\n",
        "                    # Skip non-visual files\n",
        "                    continue\n",
        "        # Store image counts in subfolders\n",
        "        if image_count > 0:\n",
        "            image_counts[os.path.basename(root)] = image_count # get only the last part of the file path, i.e. the name of the folder\n",
        "\n",
        "    return image_counts\n",
        "\n",
        "train_data_dir = '/content/images/images/train'\n",
        "image_counts = count_images_in_directory(train_data_dir)\n",
        "print(\"Train Folder\")\n",
        "# Print names and image counts of subfolders\n",
        "for folder, count in image_counts.items():\n",
        "    print(f\"* {folder} - {count}\")\n",
        "\n",
        "print(\"\\n\")\n",
        "\n",
        "validation_data_dir = '/content/images/images/validation'\n",
        "image_counts = count_images_in_directory(validation_data_dir)\n",
        "print(\"Validation Folder\")\n",
        "# Print names and image counts of subfolders\n",
        "for folder, count in image_counts.items():\n",
        "    print(f\"* {folder} - {count}\")\n"
      ]
    },
    {
      "cell_type": "markdown",
      "metadata": {
        "id": "smt--qCHGGYR"
      },
      "source": [
        "**Data distribution tables**"
      ]
    },
    {
      "cell_type": "code",
      "execution_count": 7,
      "metadata": {
        "colab": {
          "base_uri": "https://localhost:8080/",
          "height": 1000
        },
        "id": "s5sMJsPpDO20",
        "outputId": "c3339fed-bf11-49c0-92df-d0576afea80b"
      },
      "outputs": [
        {
          "output_type": "display_data",
          "data": {
            "text/plain": [
              "<Figure size 1000x600 with 1 Axes>"
            ],
            "image/png": "[encoded data removed]"
          },
          "metadata": {}
        },
        {
          "output_type": "display_data",
          "data": {
            "text/plain": [
              "<Figure size 1000x600 with 1 Axes>"
            ],
            "image/png": "[encoded data removed]"
          },
          "metadata": {}
        }
      ],
      "source": [
        "import matplotlib.pyplot as plt\n",
        "\n",
        "# Class names and number of images in the class for train folder\n",
        "class_names = ['neutral', 'happy', 'angry', 'fear', 'disgust', 'sad', 'surprise']\n",
        "class_counts = [4982, 7164, 3993, 4103, 436, 4938, 3205]\n",
        "\n",
        "\n",
        "colors = ['turquoise', 'gold', 'red', 'purple', 'green', 'blue', 'orange']\n",
        "\n",
        "plt.figure(figsize=(10, 6))\n",
        "plt.bar(class_names, class_counts, color=colors)\n",
        "plt.xlabel('Classes')\n",
        "plt.ylabel('Number of Images')\n",
        "plt.title('Train Class Distribution')\n",
        "plt.xticks(rotation=45)\n",
        "plt.show()\n",
        "\n",
        "\n",
        "# Class names and number of images in the class validation folder\n",
        "class_names = ['neutral', 'happy', 'angry', 'fear', 'disgust', 'sad', 'surprise']\n",
        "class_counts = [1216, 1825, 960, 1018, 111, 1139, 797]\n",
        "\n",
        "colors = ['turquoise', 'gold', 'red', 'purple', 'green', 'blue', 'orange']\n",
        "\n",
        "plt.figure(figsize=(10, 6))\n",
        "plt.bar(class_names, class_counts, color=colors)\n",
        "plt.xlabel('Classes')\n",
        "plt.ylabel('Number of Images')\n",
        "plt.title('Validation Class Distribution')\n",
        "plt.xticks(rotation=45)\n",
        "plt.show()\n"
      ]
    },
    {
      "cell_type": "markdown",
      "metadata": {
        "id": "LamqlmA6_snK"
      },
      "source": [
        "**Visualization of the sample image**\n",
        "\n",
        "This step allows us to learn about the dataset by selecting a random image from the dataset."
      ]
    },
    {
      "cell_type": "code",
      "execution_count": 8,
      "metadata": {
        "colab": {
          "base_uri": "https://localhost:8080/",
          "height": 516
        },
        "id": "_jXz2gLN_yMl",
        "outputId": "1cd3c209-071b-4407-8520-1d052364a4f0"
      },
      "outputs": [
        {
          "output_type": "display_data",
          "data": {
            "text/plain": [
              "<Figure size 900x600 with 6 Axes>"
            ],
            "image/png": "[encoded data removed]"
          },
          "metadata": {}
        }
      ],
      "source": [
        "import matplotlib.pyplot as plt\n",
        "import cv2\n",
        "import os\n",
        "import random\n",
        "\n",
        "data_dir = '/content/images/images'\n",
        "\n",
        "class_train = os.path.join(data_dir, 'train')\n",
        "train_sub_classes = [sub_class for sub_class in os.listdir(class_train) if os.path.isdir(os.path.join(class_train, sub_class))]\n",
        "\n",
        "class_validation = os.path.join(data_dir, 'validation')\n",
        "validation_sub_classes = [sub_class for sub_class in os.listdir(class_validation) if os.path.isdir(os.path.join(class_validation, sub_class))]\n",
        "\n",
        "# Merge 'Train' and 'Validation' subclasses\n",
        "all_classes = train_sub_classes + validation_sub_classes\n",
        "\n",
        "# 6 different random images to show\n",
        "num_images_to_show = 6\n",
        "\n",
        "plt.figure(figsize=(9, 6))\n",
        "\n",
        "for i in range(num_images_to_show):\n",
        "    # Randomly select one of the subclasses\n",
        "    selected_class = random.choice(all_classes)\n",
        "\n",
        "    # Check if the selected subclass is in the \"train\" or \"validation\" folders and create the file path\n",
        "    if selected_class in train_sub_classes:\n",
        "        selected_class_path = os.path.join(class_train, selected_class)\n",
        "    else:\n",
        "        selected_class_path = os.path.join(class_validation, selected_class)\n",
        "\n",
        "    # Randomly select an image from the selected subclass\n",
        "    sample_image_path = os.path.join(selected_class_path, random.choice(os.listdir(selected_class_path)))\n",
        "\n",
        "    # Reading the image\n",
        "    image = cv2.imread(sample_image_path)\n",
        "    image = cv2.cvtColor(image, cv2.COLOR_BGR2RGB)\n",
        "\n",
        "    # Show image as a subplot\n",
        "    plt.subplot(2, 3, i + 1)\n",
        "    plt.imshow(image)\n",
        "    plt.axis('off')\n",
        "    plt.title(selected_class)\n",
        "\n",
        "plt.show()"
      ]
    },
    {
      "cell_type": "markdown",
      "metadata": {
        "id": "uLMhsgR758vu"
      },
      "source": [
        "The images in the dataset are in black and white. So we will not need color editing."
      ]
    },
    {
      "cell_type": "markdown",
      "metadata": {
        "id": "8p-6qnA4-AxM"
      },
      "source": [
        "**Creating 'Test' data set from 'Train' data set**"
      ]
    },
    {
      "cell_type": "code",
      "execution_count": 9,
      "metadata": {
        "colab": {
          "base_uri": "https://localhost:8080/"
        },
        "id": "coHlRFzZA8KN",
        "outputId": "1ebef968-fbb0-441d-a2d8-b5376769fb83"
      },
      "outputs": [
        {
          "output_type": "stream",
          "name": "stdout",
          "text": [
            "Number of images in the Train folder after splitting: 23060\n",
            "Number of images in the Test folder: 5761\n"
          ]
        }
      ],
      "source": [
        "import os\n",
        "import random\n",
        "import shutil\n",
        "\n",
        "def create_test_set_from_train(train_dir, test_dir, test_size=0.2):\n",
        "    # Creating the test folder\n",
        "    if not os.path.exists(test_dir):\n",
        "        os.makedirs(test_dir)\n",
        "\n",
        "    # Creating test data set from Train folder\n",
        "    train_sub_classes = [sub_class for sub_class in os.listdir(train_dir) if os.path.isdir(os.path.join(train_dir, sub_class))]\n",
        "\n",
        "    for sub_class in train_sub_classes:\n",
        "        sub_class_dir = os.path.join(train_dir, sub_class)\n",
        "        images = os.listdir(sub_class_dir)\n",
        "        random.shuffle(images)\n",
        "\n",
        "        # Number of images to be allocated to the test dataset\n",
        "        num_test_images = int(len(images) * test_size)\n",
        "        test_images = images[:num_test_images]\n",
        "\n",
        "        # Creating new test subfolder\n",
        "        test_sub_class_dir = os.path.join(test_dir, sub_class)\n",
        "        if not os.path.exists(test_sub_class_dir):\n",
        "            os.makedirs(test_sub_class_dir)\n",
        "\n",
        "        # Move images to test folder\n",
        "        for image in test_images:\n",
        "            src = os.path.join(sub_class_dir, image)\n",
        "            dst = os.path.join(test_sub_class_dir, image)\n",
        "            shutil.move(src, dst)\n",
        "\n",
        "\n",
        "train_dir = '/content/images/images/train'\n",
        "test_dir = '/content/images/images/test'\n",
        "create_test_set_from_train(train_dir, test_dir, test_size=0.2)\n",
        "\n",
        "# Print the number of images in Train and Test folders\n",
        "def count_images_in_dir(directory):\n",
        "    total_images = 0\n",
        "    sub_classes = [sub_class for sub_class in os.listdir(directory) if os.path.isdir(os.path.join(directory, sub_class))]\n",
        "    for sub_class in sub_classes:\n",
        "        sub_class_dir = os.path.join(directory, sub_class)\n",
        "        total_images += len(os.listdir(sub_class_dir))\n",
        "    return total_images\n",
        "\n",
        "num_train_images = count_images_in_dir(train_dir)\n",
        "num_test_images = count_images_in_dir(test_dir)\n",
        "\n",
        "print(f\"Number of images in the Train folder after splitting: {num_train_images}\")\n",
        "print(f\"Number of images in the Test folder: {num_test_images}\")\n"
      ]
    },
    {
      "cell_type": "markdown",
      "metadata": {
        "id": "9547vRjbhUt8"
      },
      "source": [
        "**Data distribution in the generated 'Test' dataset**"
      ]
    },
    {
      "cell_type": "code",
      "execution_count": 10,
      "metadata": {
        "colab": {
          "base_uri": "https://localhost:8080/",
          "height": 745
        },
        "id": "4AYiVcTUg-LW",
        "outputId": "55ebfc97-d5c0-43e1-971d-1871d5654b77"
      },
      "outputs": [
        {
          "output_type": "stream",
          "name": "stdout",
          "text": [
            "Test Folder\n",
            "* happy - 1432\n",
            "* fear - 820\n",
            "* sad - 987\n",
            "* neutral - 996\n",
            "* angry - 798\n",
            "* surprise - 641\n",
            "* disgust - 87\n"
          ]
        },
        {
          "output_type": "display_data",
          "data": {
            "text/plain": [
              "<Figure size 1000x600 with 1 Axes>"
            ],
            "image/png": "[encoded data removed]"
          },
          "metadata": {}
        }
      ],
      "source": [
        "data_dir = '/content/images/images/test'\n",
        "image_counts = count_images_in_directory(data_dir)\n",
        "print(\"Test Folder\")\n",
        "# Print names and image counts of subfolders\n",
        "for folder, count in image_counts.items():\n",
        "    print(f\"* {folder} - {count}\")\n",
        "\n",
        "# Class names and number of images in the class test folder\n",
        "class_names = ['neutral', 'happy', 'angry', 'fear', 'disgust', 'sad', 'surprise']\n",
        "class_counts = [996, 1432, 798, 820, 87, 987, 641]\n",
        "\n",
        "colors = ['turquoise', 'gold', 'red', 'purple', 'green', 'blue', 'orange']\n",
        "\n",
        "plt.figure(figsize=(10, 6))\n",
        "plt.bar(class_names, class_counts, color=colors)\n",
        "plt.xlabel('Classes')\n",
        "plt.ylabel('Number of Images')\n",
        "plt.title('Test Class Distribution')\n",
        "plt.xticks(rotation=45)\n",
        "plt.show()\n"
      ]
    },
    {
      "cell_type": "markdown",
      "metadata": {
        "id": "AvpRfZ89PYw-"
      },
      "source": [
        "**Are the images all the same size?**"
      ]
    },
    {
      "cell_type": "code",
      "execution_count": 11,
      "metadata": {
        "colab": {
          "base_uri": "https://localhost:8080/"
        },
        "id": "Rpg42rhHA8Bj",
        "outputId": "d981b716-5db0-448f-dbc7-12c3c7f8099c"
      },
      "outputs": [
        {
          "output_type": "stream",
          "name": "stdout",
          "text": [
            "Train set image sizes:\n",
            "All images have the same size: (48, 48)\n",
            "\n",
            "Validation set image sizes:\n",
            "All images have the same size: (48, 48)\n",
            "\n",
            "Test set image sizes:\n",
            "All images have the same size: (48, 48)\n"
          ]
        }
      ],
      "source": [
        "import os\n",
        "import cv2\n",
        "\n",
        "def get_image_sizes(directory):\n",
        "    image_sizes = {}\n",
        "    for root, _, files in os.walk(directory):\n",
        "        for file in files:\n",
        "            if file.lower().endswith(('.png', '.jpg', '.jpeg', '.bmp', '.tiff', '.gif')):\n",
        "                image_path = os.path.join(root, file)\n",
        "                image = cv2.imread(image_path)\n",
        "                if image is not None:\n",
        "                    height, width = image.shape[:2]\n",
        "                    image_sizes[file] = (width, height)\n",
        "    return image_sizes\n",
        "\n",
        "def check_image_sizes(image_sizes):\n",
        "    unique_sizes = set(image_sizes.values())\n",
        "    if len(unique_sizes) == 1:\n",
        "        print(f\"All images have the same size: {unique_sizes.pop()}\")\n",
        "    else:\n",
        "        print(\"Images have different sizes:\")\n",
        "        for file, size in image_sizes.items():\n",
        "            print(f\"{file}: {size}\")\n",
        "\n",
        "train_dir = '/content/images/images/train'\n",
        "validation_dir = '/content/images/images/validation'\n",
        "test_dir = '/content/images/images/test'\n",
        "\n",
        "train_image_sizes = get_image_sizes(train_dir)\n",
        "validation_image_sizes = get_image_sizes(validation_dir)\n",
        "test_image_sizes = get_image_sizes(test_dir)\n",
        "\n",
        "print(\"Train set image sizes:\")\n",
        "check_image_sizes(train_image_sizes)\n",
        "\n",
        "print(\"\\nValidation set image sizes:\")\n",
        "check_image_sizes(validation_image_sizes)\n",
        "\n",
        "print(\"\\nTest set image sizes:\")\n",
        "check_image_sizes(test_image_sizes)\n"
      ]
    },
    {
      "cell_type": "markdown",
      "metadata": {
        "id": "-F8gZaAPP-AI"
      },
      "source": [
        "The images are all the same size so there is no need to reshape them."
      ]
    },
    {
      "cell_type": "markdown",
      "metadata": {
        "id": "bHNJgZb5SNOL"
      },
      "source": [
        "**Normalization**"
      ]
    },
    {
      "cell_type": "code",
      "execution_count": 13,
      "metadata": {
        "id": "QQdEcDPFA73K",
        "colab": {
          "base_uri": "https://localhost:8080/"
        },
        "outputId": "3a54b0ad-0058-420f-fd7f-31f29eb505b5"
      },
      "outputs": [
        {
          "output_type": "stream",
          "name": "stdout",
          "text": [
            "Loading /content/images/images/train\n"
          ]
        },
        {
          "output_type": "stream",
          "name": "stderr",
          "text": [
            "100%|██████████| 5732/5732 [00:00<00:00, 20827.41it/s]\n",
            "100%|██████████| 3283/3283 [00:00<00:00, 20593.89it/s]\n",
            "100%|██████████| 3951/3951 [00:00<00:00, 22880.39it/s]\n",
            "100%|██████████| 3986/3986 [00:00<00:00, 22384.72it/s]\n",
            "100%|██████████| 3195/3195 [00:00<00:00, 20979.70it/s]\n",
            "100%|██████████| 2564/2564 [00:00<00:00, 20115.21it/s]\n",
            "100%|██████████| 349/349 [00:00<00:00, 22131.69it/s]\n"
          ]
        },
        {
          "output_type": "stream",
          "name": "stdout",
          "text": [
            "Loading /content/images/images/test\n"
          ]
        },
        {
          "output_type": "stream",
          "name": "stderr",
          "text": [
            "100%|██████████| 1432/1432 [00:00<00:00, 17102.16it/s]\n",
            "100%|██████████| 820/820 [00:00<00:00, 11476.29it/s]\n",
            "100%|██████████| 987/987 [00:00<00:00, 16713.14it/s]\n",
            "100%|██████████| 996/996 [00:00<00:00, 19903.51it/s]\n",
            "100%|██████████| 798/798 [00:00<00:00, 22742.93it/s]\n",
            "100%|██████████| 641/641 [00:00<00:00, 22295.14it/s]\n",
            "100%|██████████| 87/87 [00:00<00:00, 9632.91it/s]\n"
          ]
        }
      ],
      "source": [
        "import os\n",
        "import cv2 # Import OpenCV library for computer vision tasks\n",
        "import numpy as np # Import NumPy for numerical operations and handling arrays\n",
        "from tqdm import tqdm # Import tqdm for displaying progress bars during iterations\n",
        "\n",
        "train_dir = '/content/images/images/train'\n",
        "test_dir = '/content/images/images/test'\n",
        "\n",
        "class_names = ['angry', 'disgust', 'fear', 'happy', 'neutral', 'sad', 'surprise']\n",
        "class_names_label = {class_name: i for i, class_name in enumerate(class_names)}\n",
        "IMAGE_SIZE = (48, 48)\n",
        "\n",
        "def load_data(dataset_path):\n",
        "    images = []\n",
        "    labels = []\n",
        "\n",
        "    print(\"Loading {}\".format(dataset_path))\n",
        "\n",
        "    # Iterate through each folder corresponding to a category\n",
        "    for folder in os.listdir(dataset_path):\n",
        "        folder_path = os.path.join(dataset_path, folder)\n",
        "        if not os.path.isdir(folder_path):\n",
        "            continue\n",
        "        label = class_names_label[folder]\n",
        "\n",
        "        # Iterate through each image in our folder\n",
        "        for file in tqdm(os.listdir(folder_path)):\n",
        "\n",
        "            # Get the path name of the image\n",
        "            img_path = os.path.join(folder_path, file)\n",
        "\n",
        "            # Open and resize the image\n",
        "            image = cv2.imread(img_path, cv2.IMREAD_GRAYSCALE)\n",
        "            if image is None:\n",
        "                continue\n",
        "            image = cv2.resize(image, IMAGE_SIZE)\n",
        "\n",
        "            # Append the image and its corresponding label to the output\n",
        "            images.append(image)\n",
        "            labels.append(label)\n",
        "\n",
        "    images = np.array(images, dtype='float32')\n",
        "    labels = np.array(labels, dtype='int32')\n",
        "\n",
        "    return images, labels\n",
        "\n",
        "train_images, train_labels = load_data(train_dir)\n",
        "test_images, test_labels = load_data(test_dir)\n",
        "\n",
        "# Normalize images\n",
        "train_images = train_images / 255.0\n",
        "test_images = test_images / 255.0"
      ]
    },
    {
      "cell_type": "markdown",
      "source": [
        "**Labeling**<br>\n",
        "The labeling process is used to encode the labels in the dataset, convert them to one-hot encoding format and visualize the class distribution.<br> LabelEncoder converts categorical labels (such as class names) into numeric values.<br>\n",
        "One-hot encoding creates a separate binary vector for each class. For example, if there are 3 classes: Class 0: [1, 0, 0] Class 1: [0, 1, 0] Class 2: [0, 0, 1]"
      ],
      "metadata": {
        "id": "ZtjrzKqrpV2e"
      }
    },
    {
      "cell_type": "code",
      "source": [
        "from keras.utils import to_categorical\n",
        "from sklearn import preprocessing\n",
        "import matplotlib.pyplot as plt\n",
        "\n",
        "# Encode labels and create classes\n",
        "le = preprocessing.LabelEncoder()\n",
        "le.fit(train_labels) # Use 'train_labels' instead of 'trainLabel'\n",
        "print(\"Classes: \" + str(le.classes_))\n",
        "encodeTrainLabels = le.transform(train_labels) # Use 'train_labels' instead of 'trainLabel'\n",
        "\n",
        "# Convert labels to one-hot encoding\n",
        "clearTrainLabel = to_categorical(encodeTrainLabels)\n",
        "num_classes = clearTrainLabel.shape[1]\n",
        "print(\"Number of classes: \" + str(num_classes))\n",
        "\n",
        "# Plot of label types numbers\n",
        "plt.bar(le.classes_, np.bincount(encodeTrainLabels)) # Use a bar plot to show count of each label\n",
        "plt.xlabel('Emotion Labels')\n",
        "plt.ylabel('Number of Samples')\n",
        "plt.title('Distribution of Emotion Labels in Training Data')\n",
        "plt.show()"
      ],
      "metadata": {
        "colab": {
          "base_uri": "https://localhost:8080/",
          "height": 508
        },
        "id": "8IZPRQugpVnl",
        "outputId": "bc91f7f2-1726-435a-d1bb-d0f2f64448d2"
      },
      "execution_count": 16,
      "outputs": [
        {
          "output_type": "stream",
          "name": "stdout",
          "text": [
            "Classes: [0 1 2 3 4 5 6]\n",
            "Number of classes: 7\n"
          ]
        },
        {
          "output_type": "display_data",
          "data": {
            "text/plain": [
              "<Figure size 640x480 with 1 Axes>"
            ],
            "image/png": "[encoded data removed]"
          },
          "metadata": {}
        }
      ]
    },
    {
      "cell_type": "markdown",
      "source": [
        "Now train_images and test_images are ready to be used in the machine learning model."
      ],
      "metadata": {
        "id": "hX0GP24cblf_"
      }
    },
    {
      "cell_type": "markdown",
      "source": [
        "**MODEL CREATION**"
      ],
      "metadata": {
        "id": "gJ0Zs4RGtBa7"
      }
    },
    {
      "cell_type": "markdown",
      "source": [
        "**Data Generating**<br>\n",
        "Data generation is done to diversify the training data, thereby enhancing the model's generalization ability and preventing overfitting."
      ],
      "metadata": {
        "id": "7aYGxv1pvS6s"
      }
    },
    {
      "cell_type": "code",
      "source": [
        "from tensorflow.keras.preprocessing.image import ImageDataGenerator\n",
        "\n",
        "# Data augmentation and normalization for training\n",
        "train_datagen = ImageDataGenerator(\n",
        "    rescale=1./255,\n",
        "    shear_range=0.2,\n",
        "    zoom_range=0.2,\n",
        "    horizontal_flip=True\n",
        ")\n",
        "\n",
        "# Normalization for validation (or test) data\n",
        "test_datagen = ImageDataGenerator(rescale=1./255)\n",
        "\n",
        "# Assuming your training data is in 'train_dir' and validation data is in 'val_dir'\n",
        "train_generator = train_datagen.flow_from_directory(\n",
        "    '/content/images/images/train',\n",
        "    target_size=(150, 150),\n",
        "    batch_size=32,\n",
        "    class_mode='binary'\n",
        ")\n",
        "\n",
        "validation_generator = test_datagen.flow_from_directory(\n",
        "    '/content/images/images/validation',\n",
        "    target_size=(150, 150),\n",
        "    batch_size=32,\n",
        "    class_mode='binary'\n",
        ")\n",
        "\n",
        "class_labels = train_generator.class_indices\n",
        "print(\"Class labels:\", class_labels)\n",
        "\n",
        "class_labels = validation_generator.class_indices\n",
        "print(\"Class labels:\", class_labels)"
      ],
      "metadata": {
        "colab": {
          "base_uri": "https://localhost:8080/"
        },
        "id": "txS3FvzvuE1G",
        "outputId": "89d44d80-61bd-4ccb-ce20-64141fa72f92"
      },
      "execution_count": 20,
      "outputs": [
        {
          "output_type": "stream",
          "name": "stdout",
          "text": [
            "Found 23060 images belonging to 7 classes.\n",
            "Found 7066 images belonging to 7 classes.\n",
            "Class labels: {'angry': 0, 'disgust': 1, 'fear': 2, 'happy': 3, 'neutral': 4, 'sad': 5, 'surprise': 6}\n",
            "Class labels: {'angry': 0, 'disgust': 1, 'fear': 2, 'happy': 3, 'neutral': 4, 'sad': 5, 'surprise': 6}\n"
          ]
        }
      ]
    },
    {
      "cell_type": "markdown",
      "source": [
        "**Weight calculation**"
      ],
      "metadata": {
        "id": "pLj6iuelvDcg"
      }
    },
    {
      "cell_type": "code",
      "source": [
        "import pandas as pd\n",
        "from prettytable import PrettyTable\n",
        "from keras import models, layers, callbacks\n",
        "\n",
        "#get class indices and labels. calculate class weight\n",
        "label_map = {}\n",
        "for k, v in train_generator.class_indices.items():\n",
        "    label_map[v] = k\n",
        "\n",
        "class_counts = pd.Series(train_generator.classes).value_counts()\n",
        "class_weight = {}\n",
        "\n",
        "for i, c in class_counts.items():\n",
        "    class_weight[i] = 1.0 / c\n",
        "\n",
        "norm_factor = np.mean(list(class_weight.values()))\n",
        "\n",
        "for k in class_counts.keys():\n",
        "    class_weight[k] = class_weight[k] / norm_factor\n",
        "\n",
        "t = PrettyTable(['class_index', 'class_label', 'class_weight'])\n",
        "for i in sorted(class_weight.keys()):\n",
        "    t.add_row([i, label_map[i], '{:.2f}'.format(class_weight[i])])\n",
        "print(t)\n",
        "\n",
        "model = models.Sequential()"
      ],
      "metadata": {
        "colab": {
          "base_uri": "https://localhost:8080/"
        },
        "id": "A1WJToEgpVAL",
        "outputId": "b0fe7e41-d07c-43a9-bcbc-d9def9cf11c0"
      },
      "execution_count": 22,
      "outputs": [
        {
          "output_type": "stream",
          "name": "stdout",
          "text": [
            "+-------------+-------------+--------------+\n",
            "| class_index | class_label | class_weight |\n",
            "+-------------+-------------+--------------+\n",
            "|      0      |    angry    |     0.48     |\n",
            "|      1      |   disgust   |     4.41     |\n",
            "|      2      |     fear    |     0.47     |\n",
            "|      3      |    happy    |     0.27     |\n",
            "|      4      |   neutral   |     0.39     |\n",
            "|      5      |     sad     |     0.39     |\n",
            "|      6      |   surprise  |     0.60     |\n",
            "+-------------+-------------+--------------+\n"
          ]
        }
      ]
    },
    {
      "cell_type": "markdown",
      "source": [
        "#**CNN**"
      ],
      "metadata": {
        "id": "2kCQZFDaicY0"
      }
    },
    {
      "cell_type": "code",
      "source": [
        "import tensorflow as tf\n",
        "model = tf.keras.Sequential([\n",
        "    tf.keras.layers.Conv2D(16, (3, 3), activation = 'relu', input_shape = (48, 48, 1)), # Changed input shape to (48, 48, 1)\n",
        "    tf.keras.layers.BatchNormalization(),\n",
        "    tf.keras.layers.MaxPooling2D(2,2),\n",
        "    tf.keras.layers.Dropout(0.2),\n",
        "\n",
        "    tf.keras.layers.Conv2D(32, (3, 3), activation = 'relu'),\n",
        "    tf.keras.layers.BatchNormalization(),\n",
        "    tf.keras.layers.MaxPooling2D(2,2),\n",
        "    tf.keras.layers.Dropout(0.2),\n",
        "\n",
        "    tf.keras.layers.Conv2D(64, (3, 3), activation = 'relu'),\n",
        "    tf.keras.layers.BatchNormalization(),\n",
        "    tf.keras.layers.MaxPooling2D(2,2),\n",
        "    tf.keras.layers.Dropout(0.2),\n",
        "\n",
        "    tf.keras.layers.Conv2D(128, (3, 3), activation = 'relu'),\n",
        "    tf.keras.layers.BatchNormalization(),\n",
        "    tf.keras.layers.MaxPooling2D(2,2),\n",
        "    tf.keras.layers.Dropout(0.2),\n",
        "\n",
        "    tf.keras.layers.Flatten(),\n",
        "    tf.keras.layers.Dense(128, activation='relu'),\n",
        "    tf.keras.layers.Dropout(0.2),\n",
        "\n",
        "    tf.keras.layers.Dense(7, activation='softmax')\n",
        "])\n",
        "\n",
        "model.compile(optimizer = 'adam', loss = 'sparse_categorical_crossentropy', metrics=['accuracy'])\n",
        "model.summary()"
      ],
      "metadata": {
        "colab": {
          "base_uri": "https://localhost:8080/"
        },
        "id": "Kgzv8ixticGC",
        "outputId": "bbdf143b-0a85-42d8-d374-8ab6640b58dc"
      },
      "execution_count": 14,
      "outputs": [
        {
          "output_type": "stream",
          "name": "stdout",
          "text": [
            "Model: \"sequential\"\n",
            "_________________________________________________________________\n",
            " Layer (type)                Output Shape              Param #   \n",
            "=================================================================\n",
            " conv2d (Conv2D)             (None, 46, 46, 16)        160       \n",
            "                                                                 \n",
            " batch_normalization (Batch  (None, 46, 46, 16)        64        \n",
            " Normalization)                                                  \n",
            "                                                                 \n",
            " max_pooling2d (MaxPooling2  (None, 23, 23, 16)        0         \n",
            " D)                                                              \n",
            "                                                                 \n",
            " dropout (Dropout)           (None, 23, 23, 16)        0         \n",
            "                                                                 \n",
            " conv2d_1 (Conv2D)           (None, 21, 21, 32)        4640      \n",
            "                                                                 \n",
            " batch_normalization_1 (Bat  (None, 21, 21, 32)        128       \n",
            " chNormalization)                                                \n",
            "                                                                 \n",
            " max_pooling2d_1 (MaxPoolin  (None, 10, 10, 32)        0         \n",
            " g2D)                                                            \n",
            "                                                                 \n",
            " dropout_1 (Dropout)         (None, 10, 10, 32)        0         \n",
            "                                                                 \n",
            " conv2d_2 (Conv2D)           (None, 8, 8, 64)          18496     \n",
            "                                                                 \n",
            " batch_normalization_2 (Bat  (None, 8, 8, 64)          256       \n",
            " chNormalization)                                                \n",
            "                                                                 \n",
            " max_pooling2d_2 (MaxPoolin  (None, 4, 4, 64)          0         \n",
            " g2D)                                                            \n",
            "                                                                 \n",
            " dropout_2 (Dropout)         (None, 4, 4, 64)          0         \n",
            "                                                                 \n",
            " conv2d_3 (Conv2D)           (None, 2, 2, 128)         73856     \n",
            "                                                                 \n",
            " batch_normalization_3 (Bat  (None, 2, 2, 128)         512       \n",
            " chNormalization)                                                \n",
            "                                                                 \n",
            " max_pooling2d_3 (MaxPoolin  (None, 1, 1, 128)         0         \n",
            " g2D)                                                            \n",
            "                                                                 \n",
            " dropout_3 (Dropout)         (None, 1, 1, 128)         0         \n",
            "                                                                 \n",
            " flatten (Flatten)           (None, 128)               0         \n",
            "                                                                 \n",
            " dense (Dense)               (None, 128)               16512     \n",
            "                                                                 \n",
            " dropout_4 (Dropout)         (None, 128)               0         \n",
            "                                                                 \n",
            " dense_1 (Dense)             (None, 7)                 903       \n",
            "                                                                 \n",
            "=================================================================\n",
            "Total params: 115527 (451.28 KB)\n",
            "Trainable params: 115047 (449.40 KB)\n",
            "Non-trainable params: 480 (1.88 KB)\n",
            "_________________________________________________________________\n"
          ]
        }
      ]
    },
    {
      "cell_type": "markdown",
      "source": [
        "# cnn'den itibaren tekrar bakılacak!!!!!!!!!!!!!!!"
      ],
      "metadata": {
        "id": "7i7y6EEeqBnn"
      }
    },
    {
      "cell_type": "code",
      "source": [
        "from tensorflow.keras.callbacks import ModelCheckpoint\n",
        "checkpoint = ModelCheckpoint('best_model.keras', monitor='val_loss', save_best_only=True, mode='min')\n",
        "\n",
        "history = model.fit(train_images, train_labels, steps_per_epoch=50, epochs=30, callbacks=[checkpoint], validation_split = 0.1, verbose=1)"
      ],
      "metadata": {
        "colab": {
          "base_uri": "https://localhost:8080/",
          "height": 371
        },
        "id": "9NSYYiFOib74",
        "outputId": "9aad9d76-3022-48f2-95c1-0be64b294dfa"
      },
      "execution_count": null,
      "outputs": [
        {
          "output_type": "stream",
          "name": "stdout",
          "text": [
            "Epoch 1/30\n",
            "26/50 [==============>...............] - ETA: 19s - loss: 2.1602 - accuracy: 0.2348"
          ]
        },
        {
          "output_type": "error",
          "ename": "KeyboardInterrupt",
          "evalue": "",
          "traceback": [
            "\u001b[0;31m---------------------------------------------------------------------------\u001b[0m",
            "\u001b[0;31mKeyboardInterrupt\u001b[0m                         Traceback (most recent call last)",
            "\u001b[0;32m<ipython-input-29-5679096b9470>\u001b[0m in \u001b[0;36m<cell line: 4>\u001b[0;34m()\u001b[0m\n\u001b[1;32m      2\u001b[0m \u001b[0mcheckpoint\u001b[0m \u001b[0;34m=\u001b[0m \u001b[0mModelCheckpoint\u001b[0m\u001b[0;34m(\u001b[0m\u001b[0;34m'best_model.keras'\u001b[0m\u001b[0;34m,\u001b[0m \u001b[0mmonitor\u001b[0m\u001b[0;34m=\u001b[0m\u001b[0;34m'val_loss'\u001b[0m\u001b[0;34m,\u001b[0m \u001b[0msave_best_only\u001b[0m\u001b[0;34m=\u001b[0m\u001b[0;32mTrue\u001b[0m\u001b[0;34m,\u001b[0m \u001b[0mmode\u001b[0m\u001b[0;34m=\u001b[0m\u001b[0;34m'min'\u001b[0m\u001b[0;34m)\u001b[0m\u001b[0;34m\u001b[0m\u001b[0;34m\u001b[0m\u001b[0m\n\u001b[1;32m      3\u001b[0m \u001b[0;34m\u001b[0m\u001b[0m\n\u001b[0;32m----> 4\u001b[0;31m \u001b[0mhistory\u001b[0m \u001b[0;34m=\u001b[0m \u001b[0mmodel\u001b[0m\u001b[0;34m.\u001b[0m\u001b[0mfit\u001b[0m\u001b[0;34m(\u001b[0m\u001b[0mtrain_images\u001b[0m\u001b[0;34m,\u001b[0m \u001b[0mtrain_labels\u001b[0m\u001b[0;34m,\u001b[0m \u001b[0msteps_per_epoch\u001b[0m\u001b[0;34m=\u001b[0m\u001b[0;36m50\u001b[0m\u001b[0;34m,\u001b[0m \u001b[0mepochs\u001b[0m\u001b[0;34m=\u001b[0m\u001b[0;36m30\u001b[0m\u001b[0;34m,\u001b[0m \u001b[0mcallbacks\u001b[0m\u001b[0;34m=\u001b[0m\u001b[0;34m[\u001b[0m\u001b[0mcheckpoint\u001b[0m\u001b[0;34m]\u001b[0m\u001b[0;34m,\u001b[0m \u001b[0mvalidation_split\u001b[0m \u001b[0;34m=\u001b[0m \u001b[0;36m0.1\u001b[0m\u001b[0;34m,\u001b[0m \u001b[0mverbose\u001b[0m\u001b[0;34m=\u001b[0m\u001b[0;36m1\u001b[0m\u001b[0;34m)\u001b[0m\u001b[0;34m\u001b[0m\u001b[0;34m\u001b[0m\u001b[0m\n\u001b[0m",
            "\u001b[0;32m/usr/local/lib/python3.10/dist-packages/keras/src/utils/traceback_utils.py\u001b[0m in \u001b[0;36merror_handler\u001b[0;34m(*args, **kwargs)\u001b[0m\n\u001b[1;32m     63\u001b[0m         \u001b[0mfiltered_tb\u001b[0m \u001b[0;34m=\u001b[0m \u001b[0;32mNone\u001b[0m\u001b[0;34m\u001b[0m\u001b[0;34m\u001b[0m\u001b[0m\n\u001b[1;32m     64\u001b[0m         \u001b[0;32mtry\u001b[0m\u001b[0;34m:\u001b[0m\u001b[0;34m\u001b[0m\u001b[0;34m\u001b[0m\u001b[0m\n\u001b[0;32m---> 65\u001b[0;31m             \u001b[0;32mreturn\u001b[0m \u001b[0mfn\u001b[0m\u001b[0;34m(\u001b[0m\u001b[0;34m*\u001b[0m\u001b[0margs\u001b[0m\u001b[0;34m,\u001b[0m \u001b[0;34m**\u001b[0m\u001b[0mkwargs\u001b[0m\u001b[0;34m)\u001b[0m\u001b[0;34m\u001b[0m\u001b[0;34m\u001b[0m\u001b[0m\n\u001b[0m\u001b[1;32m     66\u001b[0m         \u001b[0;32mexcept\u001b[0m \u001b[0mException\u001b[0m \u001b[0;32mas\u001b[0m \u001b[0me\u001b[0m\u001b[0;34m:\u001b[0m\u001b[0;34m\u001b[0m\u001b[0;34m\u001b[0m\u001b[0m\n\u001b[1;32m     67\u001b[0m             \u001b[0mfiltered_tb\u001b[0m \u001b[0;34m=\u001b[0m \u001b[0m_process_traceback_frames\u001b[0m\u001b[0;34m(\u001b[0m\u001b[0me\u001b[0m\u001b[0;34m.\u001b[0m\u001b[0m__traceback__\u001b[0m\u001b[0;34m)\u001b[0m\u001b[0;34m\u001b[0m\u001b[0;34m\u001b[0m\u001b[0m\n",
            "\u001b[0;32m/usr/local/lib/python3.10/dist-packages/keras/src/engine/training.py\u001b[0m in \u001b[0;36mfit\u001b[0;34m(self, x, y, batch_size, epochs, verbose, callbacks, validation_split, validation_data, shuffle, class_weight, sample_weight, initial_epoch, steps_per_epoch, validation_steps, validation_batch_size, validation_freq, max_queue_size, workers, use_multiprocessing)\u001b[0m\n\u001b[1;32m   1805\u001b[0m                         ):\n\u001b[1;32m   1806\u001b[0m                             \u001b[0mcallbacks\u001b[0m\u001b[0;34m.\u001b[0m\u001b[0mon_train_batch_begin\u001b[0m\u001b[0;34m(\u001b[0m\u001b[0mstep\u001b[0m\u001b[0;34m)\u001b[0m\u001b[0;34m\u001b[0m\u001b[0;34m\u001b[0m\u001b[0m\n\u001b[0;32m-> 1807\u001b[0;31m                             \u001b[0mtmp_logs\u001b[0m \u001b[0;34m=\u001b[0m \u001b[0mself\u001b[0m\u001b[0;34m.\u001b[0m\u001b[0mtrain_function\u001b[0m\u001b[0;34m(\u001b[0m\u001b[0miterator\u001b[0m\u001b[0;34m)\u001b[0m\u001b[0;34m\u001b[0m\u001b[0;34m\u001b[0m\u001b[0m\n\u001b[0m\u001b[1;32m   1808\u001b[0m                             \u001b[0;32mif\u001b[0m \u001b[0mdata_handler\u001b[0m\u001b[0;34m.\u001b[0m\u001b[0mshould_sync\u001b[0m\u001b[0;34m:\u001b[0m\u001b[0;34m\u001b[0m\u001b[0;34m\u001b[0m\u001b[0m\n\u001b[1;32m   1809\u001b[0m                                 \u001b[0mcontext\u001b[0m\u001b[0;34m.\u001b[0m\u001b[0masync_wait\u001b[0m\u001b[0;34m(\u001b[0m\u001b[0;34m)\u001b[0m\u001b[0;34m\u001b[0m\u001b[0;34m\u001b[0m\u001b[0m\n",
            "\u001b[0;32m/usr/local/lib/python3.10/dist-packages/tensorflow/python/util/traceback_utils.py\u001b[0m in \u001b[0;36merror_handler\u001b[0;34m(*args, **kwargs)\u001b[0m\n\u001b[1;32m    148\u001b[0m     \u001b[0mfiltered_tb\u001b[0m \u001b[0;34m=\u001b[0m \u001b[0;32mNone\u001b[0m\u001b[0;34m\u001b[0m\u001b[0;34m\u001b[0m\u001b[0m\n\u001b[1;32m    149\u001b[0m     \u001b[0;32mtry\u001b[0m\u001b[0;34m:\u001b[0m\u001b[0;34m\u001b[0m\u001b[0;34m\u001b[0m\u001b[0m\n\u001b[0;32m--> 150\u001b[0;31m       \u001b[0;32mreturn\u001b[0m \u001b[0mfn\u001b[0m\u001b[0;34m(\u001b[0m\u001b[0;34m*\u001b[0m\u001b[0margs\u001b[0m\u001b[0;34m,\u001b[0m \u001b[0;34m**\u001b[0m\u001b[0mkwargs\u001b[0m\u001b[0;34m)\u001b[0m\u001b[0;34m\u001b[0m\u001b[0;34m\u001b[0m\u001b[0m\n\u001b[0m\u001b[1;32m    151\u001b[0m     \u001b[0;32mexcept\u001b[0m \u001b[0mException\u001b[0m \u001b[0;32mas\u001b[0m \u001b[0me\u001b[0m\u001b[0;34m:\u001b[0m\u001b[0;34m\u001b[0m\u001b[0;34m\u001b[0m\u001b[0m\n\u001b[1;32m    152\u001b[0m       \u001b[0mfiltered_tb\u001b[0m \u001b[0;34m=\u001b[0m \u001b[0m_process_traceback_frames\u001b[0m\u001b[0;34m(\u001b[0m\u001b[0me\u001b[0m\u001b[0;34m.\u001b[0m\u001b[0m__traceback__\u001b[0m\u001b[0;34m)\u001b[0m\u001b[0;34m\u001b[0m\u001b[0;34m\u001b[0m\u001b[0m\n",
            "\u001b[0;32m/usr/local/lib/python3.10/dist-packages/tensorflow/python/eager/polymorphic_function/polymorphic_function.py\u001b[0m in \u001b[0;36m__call__\u001b[0;34m(self, *args, **kwds)\u001b[0m\n\u001b[1;32m    830\u001b[0m \u001b[0;34m\u001b[0m\u001b[0m\n\u001b[1;32m    831\u001b[0m       \u001b[0;32mwith\u001b[0m \u001b[0mOptionalXlaContext\u001b[0m\u001b[0;34m(\u001b[0m\u001b[0mself\u001b[0m\u001b[0;34m.\u001b[0m\u001b[0m_jit_compile\u001b[0m\u001b[0;34m)\u001b[0m\u001b[0;34m:\u001b[0m\u001b[0;34m\u001b[0m\u001b[0;34m\u001b[0m\u001b[0m\n\u001b[0;32m--> 832\u001b[0;31m         \u001b[0mresult\u001b[0m \u001b[0;34m=\u001b[0m \u001b[0mself\u001b[0m\u001b[0;34m.\u001b[0m\u001b[0m_call\u001b[0m\u001b[0;34m(\u001b[0m\u001b[0;34m*\u001b[0m\u001b[0margs\u001b[0m\u001b[0;34m,\u001b[0m \u001b[0;34m**\u001b[0m\u001b[0mkwds\u001b[0m\u001b[0;34m)\u001b[0m\u001b[0;34m\u001b[0m\u001b[0;34m\u001b[0m\u001b[0m\n\u001b[0m\u001b[1;32m    833\u001b[0m \u001b[0;34m\u001b[0m\u001b[0m\n\u001b[1;32m    834\u001b[0m       \u001b[0mnew_tracing_count\u001b[0m \u001b[0;34m=\u001b[0m \u001b[0mself\u001b[0m\u001b[0;34m.\u001b[0m\u001b[0mexperimental_get_tracing_count\u001b[0m\u001b[0;34m(\u001b[0m\u001b[0;34m)\u001b[0m\u001b[0;34m\u001b[0m\u001b[0;34m\u001b[0m\u001b[0m\n",
            "\u001b[0;32m/usr/local/lib/python3.10/dist-packages/tensorflow/python/eager/polymorphic_function/polymorphic_function.py\u001b[0m in \u001b[0;36m_call\u001b[0;34m(self, *args, **kwds)\u001b[0m\n\u001b[1;32m    866\u001b[0m       \u001b[0;31m# In this case we have created variables on the first call, so we run the\u001b[0m\u001b[0;34m\u001b[0m\u001b[0;34m\u001b[0m\u001b[0m\n\u001b[1;32m    867\u001b[0m       \u001b[0;31m# defunned version which is guaranteed to never create variables.\u001b[0m\u001b[0;34m\u001b[0m\u001b[0;34m\u001b[0m\u001b[0m\n\u001b[0;32m--> 868\u001b[0;31m       return tracing_compilation.call_function(\n\u001b[0m\u001b[1;32m    869\u001b[0m           \u001b[0margs\u001b[0m\u001b[0;34m,\u001b[0m \u001b[0mkwds\u001b[0m\u001b[0;34m,\u001b[0m \u001b[0mself\u001b[0m\u001b[0;34m.\u001b[0m\u001b[0m_no_variable_creation_config\u001b[0m\u001b[0;34m\u001b[0m\u001b[0;34m\u001b[0m\u001b[0m\n\u001b[1;32m    870\u001b[0m       )\n",
            "\u001b[0;32m/usr/local/lib/python3.10/dist-packages/tensorflow/python/eager/polymorphic_function/tracing_compilation.py\u001b[0m in \u001b[0;36mcall_function\u001b[0;34m(args, kwargs, tracing_options)\u001b[0m\n\u001b[1;32m    137\u001b[0m   \u001b[0mbound_args\u001b[0m \u001b[0;34m=\u001b[0m \u001b[0mfunction\u001b[0m\u001b[0;34m.\u001b[0m\u001b[0mfunction_type\u001b[0m\u001b[0;34m.\u001b[0m\u001b[0mbind\u001b[0m\u001b[0;34m(\u001b[0m\u001b[0;34m*\u001b[0m\u001b[0margs\u001b[0m\u001b[0;34m,\u001b[0m \u001b[0;34m**\u001b[0m\u001b[0mkwargs\u001b[0m\u001b[0;34m)\u001b[0m\u001b[0;34m\u001b[0m\u001b[0;34m\u001b[0m\u001b[0m\n\u001b[1;32m    138\u001b[0m   \u001b[0mflat_inputs\u001b[0m \u001b[0;34m=\u001b[0m \u001b[0mfunction\u001b[0m\u001b[0;34m.\u001b[0m\u001b[0mfunction_type\u001b[0m\u001b[0;34m.\u001b[0m\u001b[0munpack_inputs\u001b[0m\u001b[0;34m(\u001b[0m\u001b[0mbound_args\u001b[0m\u001b[0;34m)\u001b[0m\u001b[0;34m\u001b[0m\u001b[0;34m\u001b[0m\u001b[0m\n\u001b[0;32m--> 139\u001b[0;31m   return function._call_flat(  # pylint: disable=protected-access\n\u001b[0m\u001b[1;32m    140\u001b[0m       \u001b[0mflat_inputs\u001b[0m\u001b[0;34m,\u001b[0m \u001b[0mcaptured_inputs\u001b[0m\u001b[0;34m=\u001b[0m\u001b[0mfunction\u001b[0m\u001b[0;34m.\u001b[0m\u001b[0mcaptured_inputs\u001b[0m\u001b[0;34m\u001b[0m\u001b[0;34m\u001b[0m\u001b[0m\n\u001b[1;32m    141\u001b[0m   )\n",
            "\u001b[0;32m/usr/local/lib/python3.10/dist-packages/tensorflow/python/eager/polymorphic_function/concrete_function.py\u001b[0m in \u001b[0;36m_call_flat\u001b[0;34m(self, tensor_inputs, captured_inputs)\u001b[0m\n\u001b[1;32m   1321\u001b[0m         and executing_eagerly):\n\u001b[1;32m   1322\u001b[0m       \u001b[0;31m# No tape is watching; skip to running the function.\u001b[0m\u001b[0;34m\u001b[0m\u001b[0;34m\u001b[0m\u001b[0m\n\u001b[0;32m-> 1323\u001b[0;31m       \u001b[0;32mreturn\u001b[0m \u001b[0mself\u001b[0m\u001b[0;34m.\u001b[0m\u001b[0m_inference_function\u001b[0m\u001b[0;34m.\u001b[0m\u001b[0mcall_preflattened\u001b[0m\u001b[0;34m(\u001b[0m\u001b[0margs\u001b[0m\u001b[0;34m)\u001b[0m\u001b[0;34m\u001b[0m\u001b[0;34m\u001b[0m\u001b[0m\n\u001b[0m\u001b[1;32m   1324\u001b[0m     forward_backward = self._select_forward_and_backward_functions(\n\u001b[1;32m   1325\u001b[0m         \u001b[0margs\u001b[0m\u001b[0;34m,\u001b[0m\u001b[0;34m\u001b[0m\u001b[0;34m\u001b[0m\u001b[0m\n",
            "\u001b[0;32m/usr/local/lib/python3.10/dist-packages/tensorflow/python/eager/polymorphic_function/atomic_function.py\u001b[0m in \u001b[0;36mcall_preflattened\u001b[0;34m(self, args)\u001b[0m\n\u001b[1;32m    214\u001b[0m   \u001b[0;32mdef\u001b[0m \u001b[0mcall_preflattened\u001b[0m\u001b[0;34m(\u001b[0m\u001b[0mself\u001b[0m\u001b[0;34m,\u001b[0m \u001b[0margs\u001b[0m\u001b[0;34m:\u001b[0m \u001b[0mSequence\u001b[0m\u001b[0;34m[\u001b[0m\u001b[0mcore\u001b[0m\u001b[0;34m.\u001b[0m\u001b[0mTensor\u001b[0m\u001b[0;34m]\u001b[0m\u001b[0;34m)\u001b[0m \u001b[0;34m->\u001b[0m \u001b[0mAny\u001b[0m\u001b[0;34m:\u001b[0m\u001b[0;34m\u001b[0m\u001b[0;34m\u001b[0m\u001b[0m\n\u001b[1;32m    215\u001b[0m     \u001b[0;34m\"\"\"Calls with flattened tensor inputs and returns the structured output.\"\"\"\u001b[0m\u001b[0;34m\u001b[0m\u001b[0;34m\u001b[0m\u001b[0m\n\u001b[0;32m--> 216\u001b[0;31m     \u001b[0mflat_outputs\u001b[0m \u001b[0;34m=\u001b[0m \u001b[0mself\u001b[0m\u001b[0;34m.\u001b[0m\u001b[0mcall_flat\u001b[0m\u001b[0;34m(\u001b[0m\u001b[0;34m*\u001b[0m\u001b[0margs\u001b[0m\u001b[0;34m)\u001b[0m\u001b[0;34m\u001b[0m\u001b[0;34m\u001b[0m\u001b[0m\n\u001b[0m\u001b[1;32m    217\u001b[0m     \u001b[0;32mreturn\u001b[0m \u001b[0mself\u001b[0m\u001b[0;34m.\u001b[0m\u001b[0mfunction_type\u001b[0m\u001b[0;34m.\u001b[0m\u001b[0mpack_output\u001b[0m\u001b[0;34m(\u001b[0m\u001b[0mflat_outputs\u001b[0m\u001b[0;34m)\u001b[0m\u001b[0;34m\u001b[0m\u001b[0;34m\u001b[0m\u001b[0m\n\u001b[1;32m    218\u001b[0m \u001b[0;34m\u001b[0m\u001b[0m\n",
            "\u001b[0;32m/usr/local/lib/python3.10/dist-packages/tensorflow/python/eager/polymorphic_function/atomic_function.py\u001b[0m in \u001b[0;36mcall_flat\u001b[0;34m(self, *args)\u001b[0m\n\u001b[1;32m    249\u001b[0m         \u001b[0;32mwith\u001b[0m \u001b[0mrecord\u001b[0m\u001b[0;34m.\u001b[0m\u001b[0mstop_recording\u001b[0m\u001b[0;34m(\u001b[0m\u001b[0;34m)\u001b[0m\u001b[0;34m:\u001b[0m\u001b[0;34m\u001b[0m\u001b[0;34m\u001b[0m\u001b[0m\n\u001b[1;32m    250\u001b[0m           \u001b[0;32mif\u001b[0m \u001b[0mself\u001b[0m\u001b[0;34m.\u001b[0m\u001b[0m_bound_context\u001b[0m\u001b[0;34m.\u001b[0m\u001b[0mexecuting_eagerly\u001b[0m\u001b[0;34m(\u001b[0m\u001b[0;34m)\u001b[0m\u001b[0;34m:\u001b[0m\u001b[0;34m\u001b[0m\u001b[0;34m\u001b[0m\u001b[0m\n\u001b[0;32m--> 251\u001b[0;31m             outputs = self._bound_context.call_function(\n\u001b[0m\u001b[1;32m    252\u001b[0m                 \u001b[0mself\u001b[0m\u001b[0;34m.\u001b[0m\u001b[0mname\u001b[0m\u001b[0;34m,\u001b[0m\u001b[0;34m\u001b[0m\u001b[0;34m\u001b[0m\u001b[0m\n\u001b[1;32m    253\u001b[0m                 \u001b[0mlist\u001b[0m\u001b[0;34m(\u001b[0m\u001b[0margs\u001b[0m\u001b[0;34m)\u001b[0m\u001b[0;34m,\u001b[0m\u001b[0;34m\u001b[0m\u001b[0;34m\u001b[0m\u001b[0m\n",
            "\u001b[0;32m/usr/local/lib/python3.10/dist-packages/tensorflow/python/eager/context.py\u001b[0m in \u001b[0;36mcall_function\u001b[0;34m(self, name, tensor_inputs, num_outputs)\u001b[0m\n\u001b[1;32m   1484\u001b[0m     \u001b[0mcancellation_context\u001b[0m \u001b[0;34m=\u001b[0m \u001b[0mcancellation\u001b[0m\u001b[0;34m.\u001b[0m\u001b[0mcontext\u001b[0m\u001b[0;34m(\u001b[0m\u001b[0;34m)\u001b[0m\u001b[0;34m\u001b[0m\u001b[0;34m\u001b[0m\u001b[0m\n\u001b[1;32m   1485\u001b[0m     \u001b[0;32mif\u001b[0m \u001b[0mcancellation_context\u001b[0m \u001b[0;32mis\u001b[0m \u001b[0;32mNone\u001b[0m\u001b[0;34m:\u001b[0m\u001b[0;34m\u001b[0m\u001b[0;34m\u001b[0m\u001b[0m\n\u001b[0;32m-> 1486\u001b[0;31m       outputs = execute.execute(\n\u001b[0m\u001b[1;32m   1487\u001b[0m           \u001b[0mname\u001b[0m\u001b[0;34m.\u001b[0m\u001b[0mdecode\u001b[0m\u001b[0;34m(\u001b[0m\u001b[0;34m\"utf-8\"\u001b[0m\u001b[0;34m)\u001b[0m\u001b[0;34m,\u001b[0m\u001b[0;34m\u001b[0m\u001b[0;34m\u001b[0m\u001b[0m\n\u001b[1;32m   1488\u001b[0m           \u001b[0mnum_outputs\u001b[0m\u001b[0;34m=\u001b[0m\u001b[0mnum_outputs\u001b[0m\u001b[0;34m,\u001b[0m\u001b[0;34m\u001b[0m\u001b[0;34m\u001b[0m\u001b[0m\n",
            "\u001b[0;32m/usr/local/lib/python3.10/dist-packages/tensorflow/python/eager/execute.py\u001b[0m in \u001b[0;36mquick_execute\u001b[0;34m(op_name, num_outputs, inputs, attrs, ctx, name)\u001b[0m\n\u001b[1;32m     51\u001b[0m   \u001b[0;32mtry\u001b[0m\u001b[0;34m:\u001b[0m\u001b[0;34m\u001b[0m\u001b[0;34m\u001b[0m\u001b[0m\n\u001b[1;32m     52\u001b[0m     \u001b[0mctx\u001b[0m\u001b[0;34m.\u001b[0m\u001b[0mensure_initialized\u001b[0m\u001b[0;34m(\u001b[0m\u001b[0;34m)\u001b[0m\u001b[0;34m\u001b[0m\u001b[0;34m\u001b[0m\u001b[0m\n\u001b[0;32m---> 53\u001b[0;31m     tensors = pywrap_tfe.TFE_Py_Execute(ctx._handle, device_name, op_name,\n\u001b[0m\u001b[1;32m     54\u001b[0m                                         inputs, attrs, num_outputs)\n\u001b[1;32m     55\u001b[0m   \u001b[0;32mexcept\u001b[0m \u001b[0mcore\u001b[0m\u001b[0;34m.\u001b[0m\u001b[0m_NotOkStatusException\u001b[0m \u001b[0;32mas\u001b[0m \u001b[0me\u001b[0m\u001b[0;34m:\u001b[0m\u001b[0;34m\u001b[0m\u001b[0;34m\u001b[0m\u001b[0m\n",
            "\u001b[0;31mKeyboardInterrupt\u001b[0m: "
          ]
        }
      ]
    },
    {
      "cell_type": "markdown",
      "source": [
        "**Fine Tunning : Tune only top layer**"
      ],
      "metadata": {
        "id": "u_ucCNIEh_xI"
      }
    },
    {
      "cell_type": "code",
      "source": [],
      "metadata": {
        "id": "i51e-g1PibfB"
      },
      "execution_count": null,
      "outputs": []
    },
    {
      "cell_type": "code",
      "source": [],
      "metadata": {
        "id": "ca6nHfyzUnpy"
      },
      "execution_count": null,
      "outputs": []
    }
  ],
  "metadata": {
    "accelerator": "GPU",
    "colab": {
      "gpuType": "T4",
      "provenance": [],
      "authorship_tag": "ABX9TyPwXtxr27p/ZImDIJYfr87d",
      "include_colab_link": true
    },
    "kernelspec": {
      "display_name": "Python 3",
      "name": "python3"
    },
    "language_info": {
      "name": "python"
    }
  },
  "nbformat": 4,
  "nbformat_minor": 0
}