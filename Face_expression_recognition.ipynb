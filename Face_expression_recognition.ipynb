{
  "cells": [
    {
      "cell_type": "markdown",
      "metadata": {
        "id": "view-in-github",
        "colab_type": "text"
      },
      "source": [
        "<a href=\"https://colab.research.google.com/github/SefiyeArican/Face-expression-recognition/blob/main/Face_expression_recognition.ipynb\" target=\"_parent\"><img src=\"https://colab.research.google.com/assets/colab-badge.svg\" alt=\"Open In Colab\"/></a>"
      ]
    },
    {
      "cell_type": "markdown",
      "metadata": {
        "id": "AQmSl9Nvaa-w"
      },
      "source": [
        "**Access to the dataset via google drive**"
      ]
    },
    {
      "cell_type": "code",
      "execution_count": 1,
      "metadata": {
        "colab": {
          "base_uri": "https://localhost:8080/"
        },
        "id": "hYn130DRry7V",
        "outputId": "5f51dea6-243d-4b47-ff8b-5513dfe1f5df"
      },
      "outputs": [
        {
          "output_type": "stream",
          "name": "stdout",
          "text": [
            "Mounted at /content/drive\n"
          ]
        }
      ],
      "source": [
        "from google.colab import drive\n",
        "drive.mount('/content/drive')"
      ]
    },
    {
      "cell_type": "code",
      "execution_count": 2,
      "metadata": {
        "id": "t9e_FbNYaknD"
      },
      "outputs": [],
      "source": [
        "import zipfile\n",
        "import os\n",
        "\n",
        "dataset_path = \"/content/drive/MyDrive/archive.zip\"\n",
        "\n",
        "with zipfile.ZipFile(os.path.join(dataset_path), 'r') as zip_ref:\n",
        "    zip_ref.extractall(\"/content/\")"
      ]
    },
    {
      "cell_type": "markdown",
      "metadata": {
        "id": "zPm-Vo8mvxm4"
      },
      "source": [
        "**Data loading and review**"
      ]
    },
    {
      "cell_type": "code",
      "execution_count": 3,
      "metadata": {
        "colab": {
          "base_uri": "https://localhost:8080/"
        },
        "id": "uR9knopva-XC",
        "outputId": "7cb29140-8548-4cb5-9eaa-5b239105bca2"
      },
      "outputs": [
        {
          "output_type": "stream",
          "name": "stdout",
          "text": [
            "Number of images in the Train folder: 28821\n",
            "Number of images in the Validation folder: 7066\n"
          ]
        }
      ],
      "source": [
        "import os\n",
        "from PIL import Image\n",
        "\n",
        "data_dir = '/content/images/images'\n",
        "\n",
        "def count_images_in_directory(data_dir):\n",
        "    image_extensions = ['.jpg', '.jpeg', '.png', '.gif', '.bmp', '.tiff', '.webp']\n",
        "\n",
        "    image_count = 0\n",
        "\n",
        "    for root, dirs, files in os.walk(data_dir):\n",
        "        for file in files:\n",
        "            if any(file.lower().endswith(ext) for ext in image_extensions):\n",
        "                try:\n",
        "                    # Check if it is visual\n",
        "                    with Image.open(os.path.join(root, file)) as img:\n",
        "                        img.verify()  # This line checks if the image is broken\n",
        "                    image_count += 1\n",
        "                except (IOError, SyntaxError):\n",
        "                    # Skip non-visual files\n",
        "                    continue\n",
        "\n",
        "    return image_count\n",
        "\n",
        "data_dir = '/content/images/images/train'\n",
        "print(f\"Number of images in the Train folder: {count_images_in_directory(data_dir)}\")\n",
        "data_dir = '/content/images/images/validation'\n",
        "print(f\"Number of images in the Validation folder: {count_images_in_directory(data_dir)}\")"
      ]
    },
    {
      "cell_type": "markdown",
      "metadata": {
        "id": "uMDo3g6_9355"
      },
      "source": [
        "Since the number of data seems sufficient, I don't see the need to generate data, I will work with the existing dataset."
      ]
    },
    {
      "cell_type": "markdown",
      "metadata": {
        "id": "0RFzv7Dh51u_"
      },
      "source": [
        "**What is the type of these images in the dataset?**"
      ]
    },
    {
      "cell_type": "code",
      "execution_count": 4,
      "metadata": {
        "colab": {
          "base_uri": "https://localhost:8080/"
        },
        "id": "y5mUVT9H53sH",
        "outputId": "06a80daf-eca9-43f4-c02d-a1f8fc1b1911"
      },
      "outputs": [
        {
          "output_type": "stream",
          "name": "stdout",
          "text": [
            "Types of images in Train set:\n",
            ".jpg: 28821 images\n",
            "Types of images in Validation set:\n",
            ".jpg: 7066 images\n"
          ]
        }
      ],
      "source": [
        "import os\n",
        "from collections import defaultdict\n",
        "\n",
        "data_dir = '/content/images/images'\n",
        "\n",
        "def count_image_types(data_dir):\n",
        "    # Create a dictionary of image types and numbers\n",
        "    image_types = defaultdict(int)\n",
        "\n",
        "    # Navigate files in folders and subfolders\n",
        "    for root, dirs, files in os.walk(data_dir):\n",
        "        for file in files:\n",
        "            # Get file extension\n",
        "            ext = os.path.splitext(file)[1].lower()\n",
        "            if ext in ['.jpg', '.jpeg', '.png', '.gif', '.bmp', '.tiff', '.webp']:\n",
        "                image_types[ext] += 1\n",
        "\n",
        "    return image_types\n",
        "\n",
        "print(\"Types of images in Train set:\")\n",
        "data_dir = '/content/images/images/train'\n",
        "image_types_counts = count_image_types(data_dir)\n",
        "\n",
        "for ext, count in image_types_counts.items():\n",
        "    print(f\"{ext}: {count} image{'s' if count > 1 else ''}\")\n",
        "\n",
        "\n",
        "print(\"Types of images in Validation set:\")\n",
        "data_dir = '/content/images/images/validation'\n",
        "image_types_counts = count_image_types(data_dir)\n",
        "\n",
        "for ext, count in image_types_counts.items():\n",
        "    print(f\"{ext}: {count} image{'s' if count > 1 else ''}\")\n"
      ]
    },
    {
      "cell_type": "markdown",
      "metadata": {
        "id": "qhBlVPqr6sX0"
      },
      "source": [
        "All images type is .jpg"
      ]
    },
    {
      "cell_type": "code",
      "execution_count": 5,
      "metadata": {
        "colab": {
          "base_uri": "https://localhost:8080/"
        },
        "id": "-ywsN9TWr1Up",
        "outputId": "e4908a98-ea35-46a1-d5d5-6f94a05bbb3c"
      },
      "outputs": [
        {
          "output_type": "stream",
          "name": "stdout",
          "text": [
            "Number of subfolders (classes) in the Train folder: 7\n",
            "The name of subfolders (classes) in the Train folder:\n",
            "disgust\n",
            "happy\n",
            "sad\n",
            "neutral\n",
            "fear\n",
            "surprise\n",
            "angry\n",
            "\n",
            "\n",
            "Number of subfolders (classes) in the Validation folder: 7\n",
            "The name of subfolders (classes) in the Validation folder:\n",
            "disgust\n",
            "happy\n",
            "sad\n",
            "neutral\n",
            "fear\n",
            "surprise\n",
            "angry\n"
          ]
        }
      ],
      "source": [
        "import os\n",
        "\n",
        "def count_and_list_subfolders(data_dir):\n",
        "    #  List subclasses\n",
        "    subfolders = [f for f in os.listdir(data_dir) if os.path.isdir(os.path.join(data_dir, f))]\n",
        "    return len(subfolders), subfolders\n",
        "\n",
        "# Get the number and names of subfolders in the Train folder\n",
        "data_dir = '/content/images/images/train'\n",
        "num_subfolders_train, subfolders_train = count_and_list_subfolders(data_dir)\n",
        "print(f\"Number of subfolders (classes) in the Train folder: {num_subfolders_train}\")\n",
        "\n",
        "print(\"The name of subfolders (classes) in the Train folder:\")\n",
        "for subfolder in subfolders_train:\n",
        "    print(subfolder)\n",
        "\n",
        "print(\"\\n\")\n",
        "\n",
        "# Get the number and names of subfolders in the Validation folder\n",
        "data_dir = '/content/images/images/validation'\n",
        "num_subfolders_validation, subfolders_validation = count_and_list_subfolders(data_dir)\n",
        "print(f\"Number of subfolders (classes) in the Validation folder: {num_subfolders_validation}\")\n",
        "\n",
        "print(\"The name of subfolders (classes) in the Validation folder:\")\n",
        "for subfolder in subfolders_validation:\n",
        "    print(subfolder)\n",
        "\n"
      ]
    },
    {
      "cell_type": "markdown",
      "metadata": {
        "id": "UqqF8GuWz0Kw"
      },
      "source": [
        "There are 2 main classes in the dataset; Train and Validation. These classes have 7 subclasses. The names of these subclasses are \"disgust, neutral, sad, angry, surprise, happy, fear\"."
      ]
    },
    {
      "cell_type": "code",
      "execution_count": 6,
      "metadata": {
        "colab": {
          "base_uri": "https://localhost:8080/"
        },
        "id": "WV_WmpGD0uXB",
        "outputId": "12843859-a0cd-436f-8674-347646aed496"
      },
      "outputs": [
        {
          "output_type": "stream",
          "name": "stdout",
          "text": [
            "Train Folder\n",
            "* disgust - 436\n",
            "* happy - 7164\n",
            "* sad - 4938\n",
            "* neutral - 4982\n",
            "* fear - 4103\n",
            "* surprise - 3205\n",
            "* angry - 3993\n",
            "\n",
            "\n",
            "Validation Folder\n",
            "* disgust - 111\n",
            "* happy - 1825\n",
            "* sad - 1139\n",
            "* neutral - 1216\n",
            "* fear - 1018\n",
            "* surprise - 797\n",
            "* angry - 960\n"
          ]
        }
      ],
      "source": [
        "import os\n",
        "from PIL import Image\n",
        "\n",
        "data_dir = '/content/images/images'\n",
        "\n",
        "def count_images_in_directory(data_dir):\n",
        "\n",
        "    image_extensions = ['.jpg', '.jpeg', '.png', '.gif', '.bmp', '.tiff', '.webp']\n",
        "\n",
        "    image_counts = {}\n",
        "\n",
        "    # Navigate files in folders and subfolders\n",
        "    for root, dirs, files in os.walk(data_dir):\n",
        "        image_count = 0\n",
        "        for file in files:\n",
        "            if any(file.lower().endswith(ext) for ext in image_extensions):\n",
        "                try:\n",
        "                    # Check if it is visual\n",
        "                    with Image.open(os.path.join(root, file)) as img:\n",
        "                        img.verify()  # This line checks if the image is broken\n",
        "                    image_count += 1\n",
        "                except (IOError, SyntaxError):\n",
        "                    # Skip non-visual files\n",
        "                    continue\n",
        "        # Store image counts in subfolders\n",
        "        if image_count > 0:\n",
        "            image_counts[os.path.basename(root)] = image_count # get only the last part of the file path, i.e. the name of the folder\n",
        "\n",
        "    return image_counts\n",
        "\n",
        "train_data_dir = '/content/images/images/train'\n",
        "image_counts = count_images_in_directory(train_data_dir)\n",
        "print(\"Train Folder\")\n",
        "# Print names and image counts of subfolders\n",
        "for folder, count in image_counts.items():\n",
        "    print(f\"* {folder} - {count}\")\n",
        "\n",
        "print(\"\\n\")\n",
        "\n",
        "validation_data_dir = '/content/images/images/validation'\n",
        "image_counts = count_images_in_directory(validation_data_dir)\n",
        "print(\"Validation Folder\")\n",
        "# Print names and image counts of subfolders\n",
        "for folder, count in image_counts.items():\n",
        "    print(f\"* {folder} - {count}\")\n"
      ]
    },
    {
      "cell_type": "markdown",
      "metadata": {
        "id": "smt--qCHGGYR"
      },
      "source": [
        "**Data distribution tables**"
      ]
    },
    {
      "cell_type": "code",
      "execution_count": 7,
      "metadata": {
        "colab": {
          "base_uri": "https://localhost:8080/",
          "height": 1000
        },
        "id": "s5sMJsPpDO20",
        "outputId": "443dbac9-ae92-4d85-d7d8-dc6eb185485d"
      },
      "outputs": [
        {
          "output_type": "display_data",
          "data": {
            "text/plain": [
              "<Figure size 1000x600 with 1 Axes>"
            ],
            "image/png": "[encoded data removed]"
          },
          "metadata": {}
        },
        {
          "output_type": "display_data",
          "data": {
            "text/plain": [
              "<Figure size 1000x600 with 1 Axes>"
            ],
            "image/png": "[encoded data removed]"
          },
          "metadata": {}
        }
      ],
      "source": [
        "import matplotlib.pyplot as plt\n",
        "\n",
        "# Class names and number of images in the class for train folder\n",
        "class_names = ['neutral', 'happy', 'angry', 'fear', 'disgust', 'sad', 'surprise']\n",
        "class_counts = [4982, 7164, 3993, 4103, 436, 4938, 3205]\n",
        "\n",
        "\n",
        "colors = ['turquoise', 'gold', 'red', 'purple', 'green', 'blue', 'orange']\n",
        "\n",
        "plt.figure(figsize=(10, 6))\n",
        "plt.bar(class_names, class_counts, color=colors)\n",
        "plt.xlabel('Classes')\n",
        "plt.ylabel('Number of Images')\n",
        "plt.title('Train Class Distribution')\n",
        "plt.xticks(rotation=45)\n",
        "plt.show()\n",
        "\n",
        "\n",
        "# Class names and number of images in the class validation folder\n",
        "class_names = ['neutral', 'happy', 'angry', 'fear', 'disgust', 'sad', 'surprise']\n",
        "class_counts = [1216, 1825, 960, 1018, 111, 1139, 797]\n",
        "\n",
        "colors = ['turquoise', 'gold', 'red', 'purple', 'green', 'blue', 'orange']\n",
        "\n",
        "plt.figure(figsize=(10, 6))\n",
        "plt.bar(class_names, class_counts, color=colors)\n",
        "plt.xlabel('Classes')\n",
        "plt.ylabel('Number of Images')\n",
        "plt.title('Validation Class Distribution')\n",
        "plt.xticks(rotation=45)\n",
        "plt.show()\n"
      ]
    },
    {
      "cell_type": "markdown",
      "metadata": {
        "id": "LamqlmA6_snK"
      },
      "source": [
        "**Visualization of the sample image**\n",
        "\n",
        "This step allows us to learn about the dataset by selecting a random image from the dataset."
      ]
    },
    {
      "cell_type": "code",
      "execution_count": 8,
      "metadata": {
        "colab": {
          "base_uri": "https://localhost:8080/",
          "height": 516
        },
        "id": "_jXz2gLN_yMl",
        "outputId": "2bc586fd-1d1a-4742-dec0-63c9475e6de1"
      },
      "outputs": [
        {
          "output_type": "display_data",
          "data": {
            "text/plain": [
              "<Figure size 900x600 with 6 Axes>"
            ],
            "image/png": "[encoded data removed]"
          },
          "metadata": {}
        }
      ],
      "source": [
        "import matplotlib.pyplot as plt\n",
        "import cv2\n",
        "import os\n",
        "import random\n",
        "\n",
        "data_dir = '/content/images/images'\n",
        "\n",
        "class_train = os.path.join(data_dir, 'train')\n",
        "train_sub_classes = [sub_class for sub_class in os.listdir(class_train) if os.path.isdir(os.path.join(class_train, sub_class))]\n",
        "\n",
        "class_validation = os.path.join(data_dir, 'validation')\n",
        "validation_sub_classes = [sub_class for sub_class in os.listdir(class_validation) if os.path.isdir(os.path.join(class_validation, sub_class))]\n",
        "\n",
        "# Merge 'Train' and 'Validation' subclasses\n",
        "all_classes = train_sub_classes + validation_sub_classes\n",
        "\n",
        "# 6 different random images to show\n",
        "num_images_to_show = 6\n",
        "\n",
        "plt.figure(figsize=(9, 6))\n",
        "\n",
        "for i in range(num_images_to_show):\n",
        "    # Randomly select one of the subclasses\n",
        "    selected_class = random.choice(all_classes)\n",
        "\n",
        "    # Check if the selected subclass is in the \"train\" or \"validation\" folders and create the file path\n",
        "    if selected_class in train_sub_classes:\n",
        "        selected_class_path = os.path.join(class_train, selected_class)\n",
        "    else:\n",
        "        selected_class_path = os.path.join(class_validation, selected_class)\n",
        "\n",
        "    # Randomly select an image from the selected subclass\n",
        "    sample_image_path = os.path.join(selected_class_path, random.choice(os.listdir(selected_class_path)))\n",
        "\n",
        "    # Reading the image\n",
        "    image = cv2.imread(sample_image_path)\n",
        "    image = cv2.cvtColor(image, cv2.COLOR_BGR2RGB)\n",
        "\n",
        "    # Show image as a subplot\n",
        "    plt.subplot(2, 3, i + 1)\n",
        "    plt.imshow(image)\n",
        "    plt.axis('off')\n",
        "    plt.title(selected_class)\n",
        "\n",
        "plt.show()"
      ]
    },
    {
      "cell_type": "markdown",
      "metadata": {
        "id": "uLMhsgR758vu"
      },
      "source": [
        "The images in the dataset are in black and white. So we will not need color editing."
      ]
    },
    {
      "cell_type": "markdown",
      "metadata": {
        "id": "8p-6qnA4-AxM"
      },
      "source": [
        "**Creating 'Test' data set from 'Train' data set**"
      ]
    },
    {
      "cell_type": "code",
      "execution_count": 9,
      "metadata": {
        "colab": {
          "base_uri": "https://localhost:8080/"
        },
        "id": "coHlRFzZA8KN",
        "outputId": "6a37394f-6ff2-4f31-d1f4-fc33cf70ca0a"
      },
      "outputs": [
        {
          "output_type": "stream",
          "name": "stdout",
          "text": [
            "Number of images in the Train folder after splitting: 23060\n",
            "Number of images in the Test folder: 5761\n"
          ]
        }
      ],
      "source": [
        "import os\n",
        "import random\n",
        "import shutil\n",
        "\n",
        "def create_test_set_from_train(train_dir, test_dir, test_size=0.2):\n",
        "    # Creating the test folder\n",
        "    if not os.path.exists(test_dir):\n",
        "        os.makedirs(test_dir)\n",
        "\n",
        "    # Creating test data set from Train folder\n",
        "    train_sub_classes = [sub_class for sub_class in os.listdir(train_dir) if os.path.isdir(os.path.join(train_dir, sub_class))]\n",
        "\n",
        "    for sub_class in train_sub_classes:\n",
        "        sub_class_dir = os.path.join(train_dir, sub_class)\n",
        "        images = os.listdir(sub_class_dir)\n",
        "        random.shuffle(images)\n",
        "\n",
        "        # Number of images to be allocated to the test dataset\n",
        "        num_test_images = int(len(images) * test_size)\n",
        "        test_images = images[:num_test_images]\n",
        "\n",
        "        # Creating new test subfolder\n",
        "        test_sub_class_dir = os.path.join(test_dir, sub_class)\n",
        "        if not os.path.exists(test_sub_class_dir):\n",
        "            os.makedirs(test_sub_class_dir)\n",
        "\n",
        "        # Move images to test folder\n",
        "        for image in test_images:\n",
        "            src = os.path.join(sub_class_dir, image)\n",
        "            dst = os.path.join(test_sub_class_dir, image)\n",
        "            shutil.move(src, dst)\n",
        "\n",
        "\n",
        "train_dir = '/content/images/images/train'\n",
        "test_dir = '/content/images/images/test'\n",
        "create_test_set_from_train(train_dir, test_dir, test_size=0.2)\n",
        "\n",
        "# Print the number of images in Train and Test folders\n",
        "def count_images_in_dir(directory):\n",
        "    total_images = 0\n",
        "    sub_classes = [sub_class for sub_class in os.listdir(directory) if os.path.isdir(os.path.join(directory, sub_class))]\n",
        "    for sub_class in sub_classes:\n",
        "        sub_class_dir = os.path.join(directory, sub_class)\n",
        "        total_images += len(os.listdir(sub_class_dir))\n",
        "    return total_images\n",
        "\n",
        "num_train_images = count_images_in_dir(train_dir)\n",
        "num_test_images = count_images_in_dir(test_dir)\n",
        "\n",
        "print(f\"Number of images in the Train folder after splitting: {num_train_images}\")\n",
        "print(f\"Number of images in the Test folder: {num_test_images}\")\n"
      ]
    },
    {
      "cell_type": "markdown",
      "metadata": {
        "id": "9547vRjbhUt8"
      },
      "source": [
        "**Data distribution in the generated 'Test' dataset**"
      ]
    },
    {
      "cell_type": "code",
      "execution_count": 10,
      "metadata": {
        "colab": {
          "base_uri": "https://localhost:8080/",
          "height": 745
        },
        "id": "4AYiVcTUg-LW",
        "outputId": "64d706ab-4a25-4046-d0a1-b203daa3d6f0"
      },
      "outputs": [
        {
          "output_type": "stream",
          "name": "stdout",
          "text": [
            "Test Folder\n",
            "* disgust - 87\n",
            "* happy - 1432\n",
            "* sad - 987\n",
            "* neutral - 996\n",
            "* fear - 820\n",
            "* surprise - 641\n",
            "* angry - 798\n"
          ]
        },
        {
          "output_type": "display_data",
          "data": {
            "text/plain": [
              "<Figure size 1000x600 with 1 Axes>"
            ],
            "image/png": "[encoded data removed]"
          },
          "metadata": {}
        }
      ],
      "source": [
        "data_dir = '/content/images/images/test'\n",
        "image_counts = count_images_in_directory(data_dir)\n",
        "print(\"Test Folder\")\n",
        "# Print names and image counts of subfolders\n",
        "for folder, count in image_counts.items():\n",
        "    print(f\"* {folder} - {count}\")\n",
        "\n",
        "# Class names and number of images in the class test folder\n",
        "class_names = ['neutral', 'happy', 'angry', 'fear', 'disgust', 'sad', 'surprise']\n",
        "class_counts = [996, 1432, 798, 820, 87, 987, 641]\n",
        "\n",
        "colors = ['turquoise', 'gold', 'red', 'purple', 'green', 'blue', 'orange']\n",
        "\n",
        "plt.figure(figsize=(10, 6))\n",
        "plt.bar(class_names, class_counts, color=colors)\n",
        "plt.xlabel('Classes')\n",
        "plt.ylabel('Number of Images')\n",
        "plt.title('Test Class Distribution')\n",
        "plt.xticks(rotation=45)\n",
        "plt.show()\n"
      ]
    },
    {
      "cell_type": "markdown",
      "metadata": {
        "id": "AvpRfZ89PYw-"
      },
      "source": [
        "**Are the images all the same size?**"
      ]
    },
    {
      "cell_type": "code",
      "execution_count": 11,
      "metadata": {
        "colab": {
          "base_uri": "https://localhost:8080/"
        },
        "id": "Rpg42rhHA8Bj",
        "outputId": "55415beb-ff1b-4cb3-ec9c-8adc1484422a"
      },
      "outputs": [
        {
          "output_type": "stream",
          "name": "stdout",
          "text": [
            "Train set image sizes:\n",
            "All images have the same size: (48, 48)\n",
            "\n",
            "Validation set image sizes:\n",
            "All images have the same size: (48, 48)\n",
            "\n",
            "Test set image sizes:\n",
            "All images have the same size: (48, 48)\n"
          ]
        }
      ],
      "source": [
        "import os\n",
        "import cv2\n",
        "\n",
        "def get_image_sizes(directory):\n",
        "    image_sizes = {}\n",
        "    for root, _, files in os.walk(directory):\n",
        "        for file in files:\n",
        "            if file.lower().endswith(('.png', '.jpg', '.jpeg', '.bmp', '.tiff', '.gif')):\n",
        "                image_path = os.path.join(root, file)\n",
        "                image = cv2.imread(image_path)\n",
        "                if image is not None:\n",
        "                    height, width = image.shape[:2]\n",
        "                    image_sizes[file] = (width, height)\n",
        "    return image_sizes\n",
        "\n",
        "def check_image_sizes(image_sizes):\n",
        "    unique_sizes = set(image_sizes.values())\n",
        "    if len(unique_sizes) == 1:\n",
        "        print(f\"All images have the same size: {unique_sizes.pop()}\")\n",
        "    else:\n",
        "        print(\"Images have different sizes:\")\n",
        "        for file, size in image_sizes.items():\n",
        "            print(f\"{file}: {size}\")\n",
        "\n",
        "train_dir = '/content/images/images/train'\n",
        "validation_dir = '/content/images/images/validation'\n",
        "test_dir = '/content/images/images/test'\n",
        "\n",
        "train_image_sizes = get_image_sizes(train_dir)\n",
        "validation_image_sizes = get_image_sizes(validation_dir)\n",
        "test_image_sizes = get_image_sizes(test_dir)\n",
        "\n",
        "print(\"Train set image sizes:\")\n",
        "check_image_sizes(train_image_sizes)\n",
        "\n",
        "print(\"\\nValidation set image sizes:\")\n",
        "check_image_sizes(validation_image_sizes)\n",
        "\n",
        "print(\"\\nTest set image sizes:\")\n",
        "check_image_sizes(test_image_sizes)\n"
      ]
    },
    {
      "cell_type": "markdown",
      "metadata": {
        "id": "-F8gZaAPP-AI"
      },
      "source": [
        "The images are all the same size so there is no need to reshape them."
      ]
    },
    {
      "cell_type": "markdown",
      "metadata": {
        "id": "bHNJgZb5SNOL"
      },
      "source": [
        "**Normalization**"
      ]
    },
    {
      "cell_type": "code",
      "execution_count": 12,
      "metadata": {
        "id": "QQdEcDPFA73K",
        "colab": {
          "base_uri": "https://localhost:8080/"
        },
        "outputId": "aec55f6a-c037-432f-b956-15c8cf338c14"
      },
      "outputs": [
        {
          "output_type": "stream",
          "name": "stdout",
          "text": [
            "Loading /content/images/images/train\n"
          ]
        },
        {
          "output_type": "stream",
          "name": "stderr",
          "text": [
            "100%|██████████| 349/349 [00:00<00:00, 9235.58it/s]\n",
            "100%|██████████| 5732/5732 [00:00<00:00, 9419.56it/s]\n",
            "100%|██████████| 3951/3951 [00:00<00:00, 8791.69it/s]\n",
            "100%|██████████| 3986/3986 [00:00<00:00, 14514.71it/s]\n",
            "100%|██████████| 3283/3283 [00:00<00:00, 15160.53it/s]\n",
            "100%|██████████| 2564/2564 [00:00<00:00, 15204.49it/s]\n",
            "100%|██████████| 3195/3195 [00:00<00:00, 14145.89it/s]\n"
          ]
        },
        {
          "output_type": "stream",
          "name": "stdout",
          "text": [
            "Loading /content/images/images/test\n"
          ]
        },
        {
          "output_type": "stream",
          "name": "stderr",
          "text": [
            "100%|██████████| 87/87 [00:00<00:00, 10538.45it/s]\n",
            "100%|██████████| 1432/1432 [00:00<00:00, 16585.10it/s]\n",
            "100%|██████████| 987/987 [00:00<00:00, 16231.94it/s]\n",
            "100%|██████████| 996/996 [00:00<00:00, 17427.71it/s]\n",
            "100%|██████████| 820/820 [00:00<00:00, 17419.35it/s]\n",
            "100%|██████████| 641/641 [00:00<00:00, 16732.11it/s]\n",
            "100%|██████████| 798/798 [00:00<00:00, 16953.12it/s]\n"
          ]
        }
      ],
      "source": [
        "import os\n",
        "import cv2 # Import OpenCV library for computer vision tasks\n",
        "import numpy as np # Import NumPy for numerical operations and handling arrays\n",
        "from tqdm import tqdm # Import tqdm for displaying progress bars during iterations\n",
        "\n",
        "train_dir = '/content/images/images/train'\n",
        "test_dir = '/content/images/images/test'\n",
        "\n",
        "class_names = ['angry', 'disgust', 'fear', 'happy', 'neutral', 'sad', 'surprise']\n",
        "class_names_label = {class_name: i for i, class_name in enumerate(class_names)}\n",
        "IMAGE_SIZE = (48, 48)\n",
        "\n",
        "def load_data(dataset_path):\n",
        "    images = []\n",
        "    labels = []\n",
        "\n",
        "    print(\"Loading {}\".format(dataset_path))\n",
        "\n",
        "    # Iterate through each folder corresponding to a category\n",
        "    for folder in os.listdir(dataset_path):\n",
        "        folder_path = os.path.join(dataset_path, folder)\n",
        "        if not os.path.isdir(folder_path):\n",
        "            continue\n",
        "        label = class_names_label[folder]\n",
        "\n",
        "        # Iterate through each image in our folder\n",
        "        for file in tqdm(os.listdir(folder_path)):\n",
        "\n",
        "            # Get the path name of the image\n",
        "            img_path = os.path.join(folder_path, file)\n",
        "\n",
        "            # Open and resize the image\n",
        "            image = cv2.imread(img_path, cv2.IMREAD_GRAYSCALE)\n",
        "            if image is None:\n",
        "                continue\n",
        "            image = cv2.resize(image, IMAGE_SIZE)\n",
        "\n",
        "            # Append the image and its corresponding label to the output\n",
        "            images.append(image)\n",
        "            labels.append(label)\n",
        "\n",
        "    images = np.array(images, dtype='float32')\n",
        "    labels = np.array(labels, dtype='int32')\n",
        "\n",
        "    return images, labels\n",
        "\n",
        "train_images, train_labels = load_data(train_dir)\n",
        "test_images, test_labels = load_data(test_dir)\n",
        "\n",
        "# Normalize images\n",
        "train_images = train_images / 255.0\n",
        "test_images = test_images / 255.0"
      ]
    },
    {
      "cell_type": "markdown",
      "source": [
        "**Labeling**<br>\n",
        "The labeling process is used to encode the labels in the dataset, convert them to one-hot encoding format and visualize the class distribution.<br> LabelEncoder converts categorical labels (such as class names) into numeric values.<br>\n",
        "One-hot encoding creates a separate binary vector for each class. For example, if there are 3 classes: Class 0: [1, 0, 0] Class 1: [0, 1, 0] Class 2: [0, 0, 1]"
      ],
      "metadata": {
        "id": "ZtjrzKqrpV2e"
      }
    },
    {
      "cell_type": "code",
      "source": [
        "from keras.utils import to_categorical\n",
        "from sklearn import preprocessing\n",
        "import matplotlib.pyplot as plt\n",
        "\n",
        "# Encode labels and create classes\n",
        "le = preprocessing.LabelEncoder()\n",
        "le.fit(train_labels) # Use 'train_labels' instead of 'trainLabel'\n",
        "print(\"Classes: \" + str(le.classes_))\n",
        "encodeTrainLabels = le.transform(train_labels) # Use 'train_labels' instead of 'trainLabel'\n",
        "\n",
        "# Convert labels to one-hot encoding\n",
        "clearTrainLabel = to_categorical(encodeTrainLabels)\n",
        "num_classes = clearTrainLabel.shape[1]\n",
        "print(\"Number of classes: \" + str(num_classes))\n",
        "\n",
        "# Plot of label types numbers\n",
        "plt.bar(le.classes_, np.bincount(encodeTrainLabels)) # Use a bar plot to show count of each label\n",
        "plt.xlabel('Emotion Labels')\n",
        "plt.ylabel('Number of Samples')\n",
        "plt.title('Distribution of Emotion Labels in Training Data')\n",
        "plt.show()"
      ],
      "metadata": {
        "colab": {
          "base_uri": "https://localhost:8080/",
          "height": 508
        },
        "id": "8IZPRQugpVnl",
        "outputId": "f78a710d-e5c5-4b0f-a283-ed6fac5e7155"
      },
      "execution_count": 13,
      "outputs": [
        {
          "output_type": "stream",
          "name": "stdout",
          "text": [
            "Classes: [0 1 2 3 4 5 6]\n",
            "Number of classes: 7\n"
          ]
        },
        {
          "output_type": "display_data",
          "data": {
            "text/plain": [
              "<Figure size 640x480 with 1 Axes>"
            ],
            "image/png": "[encoded data removed]"
          },
          "metadata": {}
        }
      ]
    },
    {
      "cell_type": "markdown",
      "source": [
        "Now train_images and test_images are ready to be used in the machine learning model."
      ],
      "metadata": {
        "id": "hX0GP24cblf_"
      }
    },
    {
      "cell_type": "markdown",
      "source": [
        "**MODEL CREATION**"
      ],
      "metadata": {
        "id": "gJ0Zs4RGtBa7"
      }
    },
    {
      "cell_type": "markdown",
      "source": [
        "**Data Generating**<br>\n",
        "Data generation is done to diversify the training data, thereby enhancing the model's generalization ability and preventing overfitting."
      ],
      "metadata": {
        "id": "7aYGxv1pvS6s"
      }
    },
    {
      "cell_type": "code",
      "source": [
        "from tensorflow.keras.preprocessing.image import ImageDataGenerator\n",
        "\n",
        "# Data augmentation and normalization for training\n",
        "train_datagen = ImageDataGenerator(\n",
        "    rescale=1./255,\n",
        "    shear_range=0.2,\n",
        "    zoom_range=0.2,\n",
        "    horizontal_flip=True\n",
        ")\n",
        "\n",
        "# Normalization for validation (or test) data\n",
        "test_datagen = ImageDataGenerator(rescale=1./255)\n",
        "\n",
        "# Assuming your training data is in 'train_dir' and validation data is in 'val_dir'\n",
        "train_generator = train_datagen.flow_from_directory(\n",
        "    '/content/images/images/train',\n",
        "    target_size=(150, 150),\n",
        "    batch_size=32,\n",
        "    class_mode='binary'\n",
        ")\n",
        "\n",
        "validation_generator = test_datagen.flow_from_directory(\n",
        "    '/content/images/images/validation',\n",
        "    target_size=(150, 150),\n",
        "    batch_size=32,\n",
        "    class_mode='binary'\n",
        ")\n",
        "\n",
        "class_labels = train_generator.class_indices\n",
        "print(\"Class labels:\", class_labels)\n",
        "\n",
        "class_labels = validation_generator.class_indices\n",
        "print(\"Class labels:\", class_labels)"
      ],
      "metadata": {
        "colab": {
          "base_uri": "https://localhost:8080/"
        },
        "id": "txS3FvzvuE1G",
        "outputId": "a485dd60-0db8-43b0-c2f4-1e5946b40f4f"
      },
      "execution_count": 14,
      "outputs": [
        {
          "output_type": "stream",
          "name": "stdout",
          "text": [
            "Found 23060 images belonging to 7 classes.\n",
            "Found 7066 images belonging to 7 classes.\n",
            "Class labels: {'angry': 0, 'disgust': 1, 'fear': 2, 'happy': 3, 'neutral': 4, 'sad': 5, 'surprise': 6}\n",
            "Class labels: {'angry': 0, 'disgust': 1, 'fear': 2, 'happy': 3, 'neutral': 4, 'sad': 5, 'surprise': 6}\n"
          ]
        }
      ]
    },
    {
      "cell_type": "markdown",
      "source": [
        "**Weight calculation**"
      ],
      "metadata": {
        "id": "pLj6iuelvDcg"
      }
    },
    {
      "cell_type": "code",
      "source": [
        "import pandas as pd\n",
        "from prettytable import PrettyTable\n",
        "from keras import models, layers, callbacks\n",
        "\n",
        "#get class indices and labels. calculate class weight\n",
        "label_map = {}\n",
        "for k, v in train_generator.class_indices.items():\n",
        "    label_map[v] = k\n",
        "\n",
        "class_counts = pd.Series(train_generator.classes).value_counts()\n",
        "class_weight = {}\n",
        "\n",
        "for i, c in class_counts.items():\n",
        "    class_weight[i] = 1.0 / c\n",
        "\n",
        "norm_factor = np.mean(list(class_weight.values()))\n",
        "\n",
        "for k in class_counts.keys():\n",
        "    class_weight[k] = class_weight[k] / norm_factor\n",
        "\n",
        "t = PrettyTable(['class_index', 'class_label', 'class_weight'])\n",
        "for i in sorted(class_weight.keys()):\n",
        "    t.add_row([i, label_map[i], '{:.2f}'.format(class_weight[i])])\n",
        "print(t)\n",
        "\n",
        "model = models.Sequential()"
      ],
      "metadata": {
        "colab": {
          "base_uri": "https://localhost:8080/"
        },
        "id": "A1WJToEgpVAL",
        "outputId": "e5c6bb0e-e391-48de-85de-48d5f1cffc39"
      },
      "execution_count": 15,
      "outputs": [
        {
          "output_type": "stream",
          "name": "stdout",
          "text": [
            "+-------------+-------------+--------------+\n",
            "| class_index | class_label | class_weight |\n",
            "+-------------+-------------+--------------+\n",
            "|      0      |    angry    |     0.48     |\n",
            "|      1      |   disgust   |     4.41     |\n",
            "|      2      |     fear    |     0.47     |\n",
            "|      3      |    happy    |     0.27     |\n",
            "|      4      |   neutral   |     0.39     |\n",
            "|      5      |     sad     |     0.39     |\n",
            "|      6      |   surprise  |     0.60     |\n",
            "+-------------+-------------+--------------+\n"
          ]
        }
      ]
    },
    {
      "cell_type": "markdown",
      "source": [
        "#**CNN**"
      ],
      "metadata": {
        "id": "2kCQZFDaicY0"
      }
    },
    {
      "cell_type": "code",
      "source": [
        "import tensorflow as tf\n",
        "model = tf.keras.Sequential([\n",
        "    tf.keras.layers.Conv2D(16, (3, 3), activation = 'relu', input_shape = (48, 48, 1)),\n",
        "    tf.keras.layers.BatchNormalization(),\n",
        "    tf.keras.layers.MaxPooling2D(2,2),\n",
        "    tf.keras.layers.Dropout(0.2),\n",
        "\n",
        "    tf.keras.layers.Conv2D(32, (3, 3), activation = 'relu'),\n",
        "    tf.keras.layers.BatchNormalization(),\n",
        "    tf.keras.layers.MaxPooling2D(2,2),\n",
        "    tf.keras.layers.Dropout(0.2),\n",
        "\n",
        "    tf.keras.layers.Conv2D(64, (3, 3), activation = 'relu'),\n",
        "    tf.keras.layers.BatchNormalization(),\n",
        "    tf.keras.layers.MaxPooling2D(2,2),\n",
        "    tf.keras.layers.Dropout(0.2),\n",
        "\n",
        "    tf.keras.layers.Conv2D(128, (3, 3), activation = 'relu'),\n",
        "    tf.keras.layers.BatchNormalization(),\n",
        "    tf.keras.layers.MaxPooling2D(2,2),\n",
        "    tf.keras.layers.Dropout(0.2),\n",
        "\n",
        "    tf.keras.layers.Flatten(),\n",
        "    tf.keras.layers.Dense(128, activation='relu'),\n",
        "    tf.keras.layers.Dropout(0.2),\n",
        "\n",
        "    tf.keras.layers.Dense(7, activation='softmax')\n",
        "])\n",
        "\n",
        "model.compile(optimizer = 'adam', loss = 'sparse_categorical_crossentropy', metrics=['accuracy'])\n",
        "model.summary()"
      ],
      "metadata": {
        "colab": {
          "base_uri": "https://localhost:8080/"
        },
        "id": "Kgzv8ixticGC",
        "outputId": "41206883-f7f6-487b-958b-61eb78ddb7ff"
      },
      "execution_count": 16,
      "outputs": [
        {
          "output_type": "stream",
          "name": "stdout",
          "text": [
            "Model: \"sequential_1\"\n",
            "_________________________________________________________________\n",
            " Layer (type)                Output Shape              Param #   \n",
            "=================================================================\n",
            " conv2d (Conv2D)             (None, 46, 46, 16)        160       \n",
            "                                                                 \n",
            " batch_normalization (Batch  (None, 46, 46, 16)        64        \n",
            " Normalization)                                                  \n",
            "                                                                 \n",
            " max_pooling2d (MaxPooling2  (None, 23, 23, 16)        0         \n",
            " D)                                                              \n",
            "                                                                 \n",
            " dropout (Dropout)           (None, 23, 23, 16)        0         \n",
            "                                                                 \n",
            " conv2d_1 (Conv2D)           (None, 21, 21, 32)        4640      \n",
            "                                                                 \n",
            " batch_normalization_1 (Bat  (None, 21, 21, 32)        128       \n",
            " chNormalization)                                                \n",
            "                                                                 \n",
            " max_pooling2d_1 (MaxPoolin  (None, 10, 10, 32)        0         \n",
            " g2D)                                                            \n",
            "                                                                 \n",
            " dropout_1 (Dropout)         (None, 10, 10, 32)        0         \n",
            "                                                                 \n",
            " conv2d_2 (Conv2D)           (None, 8, 8, 64)          18496     \n",
            "                                                                 \n",
            " batch_normalization_2 (Bat  (None, 8, 8, 64)          256       \n",
            " chNormalization)                                                \n",
            "                                                                 \n",
            " max_pooling2d_2 (MaxPoolin  (None, 4, 4, 64)          0         \n",
            " g2D)                                                            \n",
            "                                                                 \n",
            " dropout_2 (Dropout)         (None, 4, 4, 64)          0         \n",
            "                                                                 \n",
            " conv2d_3 (Conv2D)           (None, 2, 2, 128)         73856     \n",
            "                                                                 \n",
            " batch_normalization_3 (Bat  (None, 2, 2, 128)         512       \n",
            " chNormalization)                                                \n",
            "                                                                 \n",
            " max_pooling2d_3 (MaxPoolin  (None, 1, 1, 128)         0         \n",
            " g2D)                                                            \n",
            "                                                                 \n",
            " dropout_3 (Dropout)         (None, 1, 1, 128)         0         \n",
            "                                                                 \n",
            " flatten (Flatten)           (None, 128)               0         \n",
            "                                                                 \n",
            " dense (Dense)               (None, 128)               16512     \n",
            "                                                                 \n",
            " dropout_4 (Dropout)         (None, 128)               0         \n",
            "                                                                 \n",
            " dense_1 (Dense)             (None, 7)                 903       \n",
            "                                                                 \n",
            "=================================================================\n",
            "Total params: 115527 (451.28 KB)\n",
            "Trainable params: 115047 (449.40 KB)\n",
            "Non-trainable params: 480 (1.88 KB)\n",
            "_________________________________________________________________\n"
          ]
        }
      ]
    },
    {
      "cell_type": "code",
      "source": [
        "from tensorflow.keras.callbacks import ModelCheckpoint\n",
        "checkpoint = ModelCheckpoint('best_model.keras', monitor='val_loss', save_best_only=True, mode='min')\n",
        "\n",
        "history = model.fit(train_images, train_labels, steps_per_epoch=50, epochs=30, callbacks=[checkpoint], validation_split = 0.1, verbose=1)"
      ],
      "metadata": {
        "colab": {
          "base_uri": "https://localhost:8080/"
        },
        "id": "9NSYYiFOib74",
        "outputId": "713b5a0e-b443-40bb-8184-00695c4b6e3c"
      },
      "execution_count": 17,
      "outputs": [
        {
          "output_type": "stream",
          "name": "stdout",
          "text": [
            "Epoch 1/30\n",
            "50/50 [==============================] - 68s 1s/step - loss: 1.9507 - accuracy: 0.2715 - val_loss: 2.3548 - val_accuracy: 0.0000e+00\n",
            "Epoch 2/30\n",
            "50/50 [==============================] - 60s 1s/step - loss: 1.6505 - accuracy: 0.3518 - val_loss: 2.5048 - val_accuracy: 0.0000e+00\n",
            "Epoch 3/30\n",
            "50/50 [==============================] - 57s 1s/step - loss: 1.5479 - accuracy: 0.3978 - val_loss: 3.1914 - val_accuracy: 0.0000e+00\n",
            "Epoch 4/30\n",
            "50/50 [==============================] - 61s 1s/step - loss: 1.4876 - accuracy: 0.4253 - val_loss: 3.1383 - val_accuracy: 0.0000e+00\n",
            "Epoch 5/30\n",
            "50/50 [==============================] - 60s 1s/step - loss: 1.4308 - accuracy: 0.4523 - val_loss: 3.0323 - val_accuracy: 0.0000e+00\n",
            "Epoch 6/30\n",
            "50/50 [==============================] - 59s 1s/step - loss: 1.3903 - accuracy: 0.4702 - val_loss: 2.7833 - val_accuracy: 0.0000e+00\n",
            "Epoch 7/30\n",
            "50/50 [==============================] - 61s 1s/step - loss: 1.3623 - accuracy: 0.4793 - val_loss: 2.2552 - val_accuracy: 0.0000e+00\n",
            "Epoch 8/30\n",
            "50/50 [==============================] - 60s 1s/step - loss: 1.3324 - accuracy: 0.4903 - val_loss: 2.3609 - val_accuracy: 0.0000e+00\n",
            "Epoch 9/30\n",
            "50/50 [==============================] - 59s 1s/step - loss: 1.3088 - accuracy: 0.5013 - val_loss: 2.6533 - val_accuracy: 0.0000e+00\n",
            "Epoch 10/30\n",
            "50/50 [==============================] - 59s 1s/step - loss: 1.2812 - accuracy: 0.5100 - val_loss: 2.5842 - val_accuracy: 0.0000e+00\n",
            "Epoch 11/30\n",
            "50/50 [==============================] - 61s 1s/step - loss: 1.2659 - accuracy: 0.5203 - val_loss: 2.8504 - val_accuracy: 4.3365e-04\n",
            "Epoch 12/30\n",
            "50/50 [==============================] - 61s 1s/step - loss: 1.2424 - accuracy: 0.5276 - val_loss: 2.8040 - val_accuracy: 4.3365e-04\n",
            "Epoch 13/30\n",
            "50/50 [==============================] - 59s 1s/step - loss: 1.2229 - accuracy: 0.5353 - val_loss: 2.7068 - val_accuracy: 0.0052\n",
            "Epoch 14/30\n",
            "50/50 [==============================] - 61s 1s/step - loss: 1.2142 - accuracy: 0.5397 - val_loss: 2.8273 - val_accuracy: 0.0035\n",
            "Epoch 15/30\n",
            "50/50 [==============================] - 62s 1s/step - loss: 1.1916 - accuracy: 0.5471 - val_loss: 2.9182 - val_accuracy: 0.0087\n",
            "Epoch 16/30\n",
            "50/50 [==============================] - 61s 1s/step - loss: 1.1823 - accuracy: 0.5492 - val_loss: 2.2589 - val_accuracy: 0.0885\n",
            "Epoch 17/30\n",
            "50/50 [==============================] - 59s 1s/step - loss: 1.1665 - accuracy: 0.5536 - val_loss: 2.5955 - val_accuracy: 0.0412\n",
            "Epoch 18/30\n",
            "50/50 [==============================] - 61s 1s/step - loss: 1.1440 - accuracy: 0.5608 - val_loss: 2.6045 - val_accuracy: 0.0468\n",
            "Epoch 19/30\n",
            "50/50 [==============================] - 61s 1s/step - loss: 1.1340 - accuracy: 0.5684 - val_loss: 2.5672 - val_accuracy: 0.0416\n",
            "Epoch 20/30\n",
            "50/50 [==============================] - 60s 1s/step - loss: 1.1231 - accuracy: 0.5767 - val_loss: 2.7004 - val_accuracy: 0.0490\n",
            "Epoch 21/30\n",
            "50/50 [==============================] - 59s 1s/step - loss: 1.1098 - accuracy: 0.5769 - val_loss: 2.8422 - val_accuracy: 0.0360\n",
            "Epoch 22/30\n",
            "50/50 [==============================] - 61s 1s/step - loss: 1.0969 - accuracy: 0.5841 - val_loss: 2.6873 - val_accuracy: 0.0581\n",
            "Epoch 23/30\n",
            "50/50 [==============================] - 62s 1s/step - loss: 1.0857 - accuracy: 0.5851 - val_loss: 2.3956 - val_accuracy: 0.0872\n",
            "Epoch 24/30\n",
            "50/50 [==============================] - 62s 1s/step - loss: 1.0782 - accuracy: 0.5930 - val_loss: 2.4498 - val_accuracy: 0.1114\n",
            "Epoch 25/30\n",
            "50/50 [==============================] - 59s 1s/step - loss: 1.0674 - accuracy: 0.5939 - val_loss: 2.5167 - val_accuracy: 0.1136\n",
            "Epoch 26/30\n",
            "50/50 [==============================] - 60s 1s/step - loss: 1.0600 - accuracy: 0.5963 - val_loss: 2.5715 - val_accuracy: 0.0711\n",
            "Epoch 27/30\n",
            "50/50 [==============================] - 62s 1s/step - loss: 1.0492 - accuracy: 0.5989 - val_loss: 2.2757 - val_accuracy: 0.1054\n",
            "Epoch 28/30\n",
            "50/50 [==============================] - 61s 1s/step - loss: 1.0385 - accuracy: 0.6043 - val_loss: 2.5855 - val_accuracy: 0.0685\n",
            "Epoch 29/30\n",
            "50/50 [==============================] - 59s 1s/step - loss: 1.0311 - accuracy: 0.6031 - val_loss: 2.5817 - val_accuracy: 0.1158\n",
            "Epoch 30/30\n",
            "50/50 [==============================] - 61s 1s/step - loss: 1.0155 - accuracy: 0.6114 - val_loss: 2.5544 - val_accuracy: 0.0915\n"
          ]
        }
      ]
    },
    {
      "cell_type": "markdown",
      "source": [
        "**Data Augmentation**"
      ],
      "metadata": {
        "id": "M4UTvZvZQNOk"
      }
    },
    {
      "cell_type": "code",
      "source": [
        "from tensorflow.keras.preprocessing.image import ImageDataGenerator\n",
        "\n",
        "# Shuffle the data before splitting\n",
        "indices = np.arange(train_images.shape[0])\n",
        "np.random.shuffle(indices)\n",
        "train_images = train_images[indices]\n",
        "train_labels = train_labels[indices]\n",
        "\n",
        "train_images = train_images.reshape(train_images.shape[0], 48, 48, 1)\n",
        "\n",
        "datagen = ImageDataGenerator(\n",
        "    rescale=1./255,\n",
        "    shear_range=0.2,\n",
        "    zoom_range=0.2,\n",
        "    horizontal_flip=True,\n",
        "    validation_split=0.1\n",
        ")\n",
        "\n",
        "train_generator = datagen.flow(train_images, train_labels, subset='training')\n",
        "validation_generator = datagen.flow(train_images, train_labels, subset='validation')\n",
        "\n",
        "history = model.fit(train_generator, epochs=30, validation_data=validation_generator, callbacks=[checkpoint])"
      ],
      "metadata": {
        "id": "i51e-g1PibfB",
        "colab": {
          "base_uri": "https://localhost:8080/"
        },
        "outputId": "47513e23-571f-467e-da6e-2328a71c0f66"
      },
      "execution_count": 20,
      "outputs": [
        {
          "output_type": "stream",
          "name": "stdout",
          "text": [
            "Epoch 1/30\n",
            "649/649 [==============================] - 86s 130ms/step - loss: 1.7863 - accuracy: 0.2607 - val_loss: 69.3656 - val_accuracy: 0.1409\n",
            "Epoch 2/30\n",
            "649/649 [==============================] - 82s 127ms/step - loss: 1.6677 - accuracy: 0.3360 - val_loss: 1.6666 - val_accuracy: 0.3456\n",
            "Epoch 3/30\n",
            "649/649 [==============================] - 78s 120ms/step - loss: 1.5941 - accuracy: 0.3713 - val_loss: 1.7118 - val_accuracy: 0.3348\n",
            "Epoch 4/30\n",
            "649/649 [==============================] - 78s 120ms/step - loss: 1.5302 - accuracy: 0.4001 - val_loss: 2.8717 - val_accuracy: 0.1873\n",
            "Epoch 5/30\n",
            "649/649 [==============================] - 74s 114ms/step - loss: 1.4696 - accuracy: 0.4364 - val_loss: 4.6489 - val_accuracy: 0.1635\n",
            "Epoch 6/30\n",
            "649/649 [==============================] - 76s 117ms/step - loss: 1.4255 - accuracy: 0.4516 - val_loss: 3.6502 - val_accuracy: 0.2485\n",
            "Epoch 7/30\n",
            "649/649 [==============================] - 73s 113ms/step - loss: 1.4009 - accuracy: 0.4607 - val_loss: 2.1779 - val_accuracy: 0.1405\n",
            "Epoch 8/30\n",
            "649/649 [==============================] - 77s 118ms/step - loss: 1.3844 - accuracy: 0.4647 - val_loss: 1.9265 - val_accuracy: 0.1453\n",
            "Epoch 9/30\n",
            "649/649 [==============================] - 76s 117ms/step - loss: 1.3661 - accuracy: 0.4742 - val_loss: 2.3813 - val_accuracy: 0.1713\n",
            "Epoch 10/30\n",
            "649/649 [==============================] - 75s 116ms/step - loss: 1.3561 - accuracy: 0.4823 - val_loss: 3.4015 - val_accuracy: 0.1479\n",
            "Epoch 11/30\n",
            "649/649 [==============================] - 78s 120ms/step - loss: 1.3360 - accuracy: 0.4879 - val_loss: 3.9493 - val_accuracy: 0.1635\n",
            "Epoch 12/30\n",
            "649/649 [==============================] - 74s 115ms/step - loss: 1.3340 - accuracy: 0.4913 - val_loss: 3.5932 - val_accuracy: 0.2485\n",
            "Epoch 13/30\n",
            "649/649 [==============================] - 76s 117ms/step - loss: 1.3266 - accuracy: 0.4903 - val_loss: 3.5015 - val_accuracy: 0.2485\n",
            "Epoch 14/30\n",
            "649/649 [==============================] - 76s 118ms/step - loss: 1.3134 - accuracy: 0.4996 - val_loss: 2.8246 - val_accuracy: 0.1743\n",
            "Epoch 15/30\n",
            "649/649 [==============================] - 74s 114ms/step - loss: 1.3146 - accuracy: 0.5002 - val_loss: 4.1264 - val_accuracy: 0.1743\n",
            "Epoch 16/30\n",
            "649/649 [==============================] - 75s 116ms/step - loss: 1.3039 - accuracy: 0.5046 - val_loss: 14.4311 - val_accuracy: 0.2485\n",
            "Epoch 17/30\n",
            "649/649 [==============================] - 72s 111ms/step - loss: 1.2964 - accuracy: 0.5086 - val_loss: 2.3887 - val_accuracy: 0.2190\n",
            "Epoch 18/30\n",
            "649/649 [==============================] - 74s 115ms/step - loss: 1.2884 - accuracy: 0.5031 - val_loss: 3.1207 - val_accuracy: 0.2121\n",
            "Epoch 19/30\n",
            "649/649 [==============================] - 76s 117ms/step - loss: 1.2881 - accuracy: 0.5080 - val_loss: 3.7413 - val_accuracy: 0.1635\n",
            "Epoch 20/30\n",
            "649/649 [==============================] - 76s 117ms/step - loss: 1.2883 - accuracy: 0.5077 - val_loss: 2.5241 - val_accuracy: 0.1635\n",
            "Epoch 21/30\n",
            "649/649 [==============================] - 75s 115ms/step - loss: 1.2731 - accuracy: 0.5129 - val_loss: 4.5837 - val_accuracy: 0.1635\n",
            "Epoch 22/30\n",
            "649/649 [==============================] - 76s 117ms/step - loss: 1.2749 - accuracy: 0.5178 - val_loss: 4.5153 - val_accuracy: 0.1401\n",
            "Epoch 23/30\n",
            "649/649 [==============================] - 74s 113ms/step - loss: 1.2558 - accuracy: 0.5239 - val_loss: 4.2077 - val_accuracy: 0.1422\n",
            "Epoch 24/30\n",
            "649/649 [==============================] - 77s 118ms/step - loss: 1.2613 - accuracy: 0.5215 - val_loss: 6.9624 - val_accuracy: 0.1418\n",
            "Epoch 25/30\n",
            "649/649 [==============================] - 77s 118ms/step - loss: 1.2519 - accuracy: 0.5235 - val_loss: 6.3076 - val_accuracy: 0.1418\n",
            "Epoch 26/30\n",
            "649/649 [==============================] - 73s 113ms/step - loss: 1.2491 - accuracy: 0.5257 - val_loss: 2.1219 - val_accuracy: 0.1869\n",
            "Epoch 27/30\n",
            "649/649 [==============================] - 76s 117ms/step - loss: 1.2468 - accuracy: 0.5282 - val_loss: 3.9172 - val_accuracy: 0.1743\n",
            "Epoch 28/30\n",
            "649/649 [==============================] - 74s 113ms/step - loss: 1.2458 - accuracy: 0.5262 - val_loss: 2.4650 - val_accuracy: 0.1743\n",
            "Epoch 29/30\n",
            "649/649 [==============================] - 76s 117ms/step - loss: 1.2412 - accuracy: 0.5284 - val_loss: 2.6935 - val_accuracy: 0.1457\n",
            "Epoch 30/30\n",
            "649/649 [==============================] - 76s 117ms/step - loss: 1.2377 - accuracy: 0.5305 - val_loss: 5.7389 - val_accuracy: 0.1635\n"
          ]
        }
      ]
    },
    {
      "cell_type": "markdown",
      "source": [
        "**Increasing the Complexity of the Model**"
      ],
      "metadata": {
        "id": "jkD9ulesQXdF"
      }
    },
    {
      "cell_type": "code",
      "source": [
        "from tensorflow.keras.models import Sequential\n",
        "from tensorflow.keras.layers import Dense, Dropout, Flatten, Conv2D, MaxPooling2D\n",
        "\n",
        "model = Sequential([\n",
        "    Conv2D(32, (3, 3), activation='relu', input_shape=(50, 50, 1)),\n",
        "    MaxPooling2D((2, 2)),\n",
        "    Dropout(0.2),\n",
        "    Conv2D(64, (3, 3), activation='relu'),\n",
        "    MaxPooling2D((2, 2)),\n",
        "    Dropout(0.2),\n",
        "    Flatten(),\n",
        "    Dense(128, activation='relu'),\n",
        "    Dropout(0.5),\n",
        "    Dense(num_classes, activation='softmax')\n",
        "])\n",
        "\n",
        "model.compile(optimizer='adam', loss='categorical_crossentropy', metrics=['accuracy'])\n"
      ],
      "metadata": {
        "id": "NOs6cb79PmoW"
      },
      "execution_count": 21,
      "outputs": []
    },
    {
      "cell_type": "code",
      "source": [],
      "metadata": {
        "id": "0zV9JGUHPmk7"
      },
      "execution_count": null,
      "outputs": []
    },
    {
      "cell_type": "code",
      "source": [],
      "metadata": {
        "id": "PJeZF6H7Pmgx"
      },
      "execution_count": null,
      "outputs": []
    },
    {
      "cell_type": "code",
      "source": [],
      "metadata": {
        "id": "623bEjoKPmaw"
      },
      "execution_count": null,
      "outputs": []
    },
    {
      "cell_type": "code",
      "source": [],
      "metadata": {
        "id": "ca6nHfyzUnpy"
      },
      "execution_count": null,
      "outputs": []
    },
    {
      "cell_type": "markdown",
      "source": [
        "**Fine Tunning : Tune only top layer**"
      ],
      "metadata": {
        "id": "u_ucCNIEh_xI"
      }
    }
  ],
  "metadata": {
    "accelerator": "GPU",
    "colab": {
      "gpuType": "T4",
      "provenance": [],
      "authorship_tag": "ABX9TyP7UztK9FuSAWl904nWyB55",
      "include_colab_link": true
    },
    "kernelspec": {
      "display_name": "Python 3",
      "name": "python3"
    },
    "language_info": {
      "name": "python"
    }
  },
  "nbformat": 4,
  "nbformat_minor": 0
}