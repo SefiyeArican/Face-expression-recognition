{
  "nbformat": 4,
  "nbformat_minor": 0,
  "metadata": {
    "colab": {
      "provenance": [],
      "authorship_tag": "ABX9TyPv+bmmbhCTxsRNpDCGglhs",
      "include_colab_link": true
    },
    "kernelspec": {
      "name": "python3",
      "display_name": "Python 3"
    },
    "language_info": {
      "name": "python"
    }
  },
  "cells": [
    {
      "cell_type": "markdown",
      "metadata": {
        "id": "view-in-github",
        "colab_type": "text"
      },
      "source": [
        "<a href=\"https://colab.research.google.com/github/SefiyeArican/Face-expression-recognition-with-CNN/blob/main/Face_expression_recognition.ipynb\" target=\"_parent\"><img src=\"https://colab.research.google.com/assets/colab-badge.svg\" alt=\"Open In Colab\"/></a>"
      ]
    },
    {
      "cell_type": "markdown",
      "source": [
        "Access to the dataset via google drive"
      ],
      "metadata": {
        "id": "AQmSl9Nvaa-w"
      }
    },
    {
      "cell_type": "code",
      "execution_count": 1,
      "metadata": {
        "id": "hYn130DRry7V",
        "colab": {
          "base_uri": "https://localhost:8080/"
        },
        "outputId": "3b3ced35-94ea-46e2-87d1-f5397aa20e5e"
      },
      "outputs": [
        {
          "output_type": "stream",
          "name": "stdout",
          "text": [
            "Mounted at /content/drive\n"
          ]
        }
      ],
      "source": [
        "from google.colab import drive\n",
        "drive.mount('/content/drive')"
      ]
    },
    {
      "cell_type": "code",
      "source": [
        "import zipfile\n",
        "import os\n",
        "\n",
        "dataset_path = \"/content/drive/MyDrive/archive.zip\"\n",
        "\n",
        "with zipfile.ZipFile(os.path.join(dataset_path), 'r') as zip_ref:\n",
        "    zip_ref.extractall(\"/content/\")"
      ],
      "metadata": {
        "id": "t9e_FbNYaknD"
      },
      "execution_count": 2,
      "outputs": []
    },
    {
      "cell_type": "markdown",
      "source": [
        "Data loading and review"
      ],
      "metadata": {
        "id": "zPm-Vo8mvxm4"
      }
    },
    {
      "cell_type": "code",
      "source": [
        "import os\n",
        "from PIL import Image\n",
        "\n",
        "data_dir = '/content/images/images'\n",
        "\n",
        "def count_images_in_directory(data_dir):\n",
        "    image_extensions = ['.jpg', '.jpeg', '.png', '.gif', '.bmp', '.tiff', '.webp']\n",
        "\n",
        "    image_count = 0\n",
        "\n",
        "    for root, dirs, files in os.walk(data_dir):\n",
        "        for file in files:\n",
        "            if any(file.lower().endswith(ext) for ext in image_extensions):\n",
        "                try:\n",
        "                    # Check if it is visual\n",
        "                    with Image.open(os.path.join(root, file)) as img:\n",
        "                        img.verify()  # This line checks if the image is broken\n",
        "                    image_count += 1\n",
        "                except (IOError, SyntaxError):\n",
        "                    # Skip non-visual files\n",
        "                    continue\n",
        "\n",
        "    return image_count\n",
        "\n",
        "data_dir = '/content/images/images/train'\n",
        "print(f\"Number of images in the Train folder: {count_images_in_directory(data_dir)}\")\n",
        "data_dir = '/content/images/images/validation'\n",
        "print(f\"Number of images in the Validation folder: {count_images_in_directory(data_dir)}\")"
      ],
      "metadata": {
        "id": "uR9knopva-XC",
        "colab": {
          "base_uri": "https://localhost:8080/"
        },
        "outputId": "1c7b0094-3a54-45cb-b83f-d3c6752018e3"
      },
      "execution_count": 3,
      "outputs": [
        {
          "output_type": "stream",
          "name": "stdout",
          "text": [
            "Number of images in the Train folder: 28821\n",
            "Number of images in the Validation folder: 7066\n"
          ]
        }
      ]
    },
    {
      "cell_type": "markdown",
      "source": [
        "What is the type of these images in the dataset?"
      ],
      "metadata": {
        "id": "0RFzv7Dh51u_"
      }
    },
    {
      "cell_type": "code",
      "source": [
        "import os\n",
        "from collections import defaultdict\n",
        "\n",
        "data_dir = '/content/images/images'\n",
        "\n",
        "def count_image_types(data_dir):\n",
        "    # Create a dictionary of image types and numbers\n",
        "    image_types = defaultdict(int)\n",
        "\n",
        "    # Navigate files in folders and subfolders\n",
        "    for root, dirs, files in os.walk(data_dir):\n",
        "        for file in files:\n",
        "            # Get file extension\n",
        "            ext = os.path.splitext(file)[1].lower()\n",
        "            if ext in ['.jpg', '.jpeg', '.png', '.gif', '.bmp', '.tiff', '.webp']:\n",
        "                image_types[ext] += 1\n",
        "\n",
        "    return image_types\n",
        "\n",
        "print(\"Types of images in Train set:\")\n",
        "data_dir = '/content/images/images/train'\n",
        "image_types_counts = count_image_types(data_dir)\n",
        "\n",
        "for ext, count in image_types_counts.items():\n",
        "    print(f\"{ext}: {count} image{'s' if count > 1 else ''}\")\n",
        "\n",
        "\n",
        "print(\"Types of images in Validation set:\")\n",
        "data_dir = '/content/images/images/validation'\n",
        "image_types_counts = count_image_types(data_dir)\n",
        "\n",
        "for ext, count in image_types_counts.items():\n",
        "    print(f\"{ext}: {count} image{'s' if count > 1 else ''}\")\n"
      ],
      "metadata": {
        "colab": {
          "base_uri": "https://localhost:8080/"
        },
        "id": "y5mUVT9H53sH",
        "outputId": "bcd0396d-78cc-4e81-87dd-9164d934f8af"
      },
      "execution_count": 4,
      "outputs": [
        {
          "output_type": "stream",
          "name": "stdout",
          "text": [
            "Types of images in Train set:\n",
            ".jpg: 28821 images\n",
            "Types of images in Validation set:\n",
            ".jpg: 7066 images\n"
          ]
        }
      ]
    },
    {
      "cell_type": "markdown",
      "source": [
        "All images type is .jpg"
      ],
      "metadata": {
        "id": "qhBlVPqr6sX0"
      }
    },
    {
      "cell_type": "code",
      "source": [
        "import os\n",
        "\n",
        "def count_and_list_subfolders(data_dir):\n",
        "    #  List subclasses\n",
        "    subfolders = [f for f in os.listdir(data_dir) if os.path.isdir(os.path.join(data_dir, f))]\n",
        "    return len(subfolders), subfolders\n",
        "\n",
        "# Get the number and names of subfolders in the Train folder\n",
        "data_dir = '/content/images/images/train'\n",
        "num_subfolders_train, subfolders_train = count_and_list_subfolders(data_dir)\n",
        "print(f\"Number of subfolders (classes) in the Train folder: {num_subfolders_train}\")\n",
        "\n",
        "print(\"The name of subfolders (classes) in the Train folder:\")\n",
        "for subfolder in subfolders_train:\n",
        "    print(subfolder)\n",
        "\n",
        "print(\"\\n\")\n",
        "\n",
        "# Get the number and names of subfolders in the Validation folder\n",
        "data_dir = '/content/images/images/validation'\n",
        "num_subfolders_validation, subfolders_validation = count_and_list_subfolders(data_dir)\n",
        "print(f\"Number of subfolders (classes) in the Validation folder: {num_subfolders_validation}\")\n",
        "\n",
        "print(\"The name of subfolders (classes) in the Validation folder:\")\n",
        "for subfolder in subfolders_validation:\n",
        "    print(subfolder)\n",
        "\n"
      ],
      "metadata": {
        "colab": {
          "base_uri": "https://localhost:8080/"
        },
        "id": "-ywsN9TWr1Up",
        "outputId": "0a0228c7-b912-488d-b0f1-c2649d34ff1e"
      },
      "execution_count": 5,
      "outputs": [
        {
          "output_type": "stream",
          "name": "stdout",
          "text": [
            "Number of subfolders (classes) in the Train folder: 7\n",
            "The name of subfolders (classes) in the Train folder:\n",
            "disgust\n",
            "neutral\n",
            "sad\n",
            "angry\n",
            "surprise\n",
            "happy\n",
            "fear\n",
            "\n",
            "\n",
            "Number of subfolders (classes) in the Validation folder: 7\n",
            "The name of subfolders (classes) in the Validation folder:\n",
            "disgust\n",
            "neutral\n",
            "sad\n",
            "angry\n",
            "surprise\n",
            "happy\n",
            "fear\n"
          ]
        }
      ]
    },
    {
      "cell_type": "markdown",
      "source": [
        "There are 2 main classes in the dataset, Train and Validation. These classes have 7 subclasses. The names of these subclasses are \"disgust, neutral, sad, angry, surprise, happy, fear\"."
      ],
      "metadata": {
        "id": "UqqF8GuWz0Kw"
      }
    },
    {
      "cell_type": "code",
      "source": [
        "import os\n",
        "from PIL import Image\n",
        "\n",
        "data_dir = '/content/images/images'\n",
        "\n",
        "def count_images_in_directory(data_dir):\n",
        "\n",
        "    image_extensions = ['.jpg', '.jpeg', '.png', '.gif', '.bmp', '.tiff', '.webp']\n",
        "\n",
        "    image_counts = {}\n",
        "\n",
        "    # Navigate files in folders and subfolders\n",
        "    for root, dirs, files in os.walk(data_dir):\n",
        "        image_count = 0\n",
        "        for file in files:\n",
        "            if any(file.lower().endswith(ext) for ext in image_extensions):\n",
        "                try:\n",
        "                    # Check if it is visual\n",
        "                    with Image.open(os.path.join(root, file)) as img:\n",
        "                        img.verify()  # This line checks if the image is broken\n",
        "                    image_count += 1\n",
        "                except (IOError, SyntaxError):\n",
        "                    # Skip non-visual files\n",
        "                    continue\n",
        "        # Store image counts in subfolders\n",
        "        if image_count > 0:\n",
        "            image_counts[os.path.basename(root)] = image_count # get only the last part of the file path, i.e. the name of the folder\n",
        "\n",
        "    return image_counts\n",
        "\n",
        "data_dir = '/content/images/images/train'\n",
        "image_counts = count_images_in_directory(data_dir)\n",
        "print(\"Train Folder\")\n",
        "# Print names and image counts of subfolders\n",
        "for folder, count in image_counts.items():\n",
        "    print(f\"* {folder} - {count}\")\n",
        "\n",
        "print(\"\\n\")\n",
        "\n",
        "data_dir = '/content/images/images/validation'\n",
        "image_counts = count_images_in_directory(data_dir)\n",
        "print(\"Validation Folder\")\n",
        "# Print names and image counts of subfolders\n",
        "for folder, count in image_counts.items():\n",
        "    print(f\"* {folder} - {count}\")\n"
      ],
      "metadata": {
        "colab": {
          "base_uri": "https://localhost:8080/"
        },
        "id": "WV_WmpGD0uXB",
        "outputId": "a1ec89e1-3c16-4ed1-f4b3-823577f246dc"
      },
      "execution_count": 6,
      "outputs": [
        {
          "output_type": "stream",
          "name": "stdout",
          "text": [
            "Train Folder\n",
            "* disgust - 436\n",
            "* neutral - 4982\n",
            "* sad - 4938\n",
            "* angry - 3993\n",
            "* surprise - 3205\n",
            "* happy - 7164\n",
            "* fear - 4103\n",
            "\n",
            "\n",
            "Validation Folder\n",
            "* disgust - 111\n",
            "* neutral - 1216\n",
            "* sad - 1139\n",
            "* angry - 960\n",
            "* surprise - 797\n",
            "* happy - 1825\n",
            "* fear - 1018\n"
          ]
        }
      ]
    },
    {
      "cell_type": "markdown",
      "source": [
        "Data distribution tables"
      ],
      "metadata": {
        "id": "smt--qCHGGYR"
      }
    },
    {
      "cell_type": "code",
      "source": [
        "import matplotlib.pyplot as plt\n",
        "\n",
        "# Class names and number of images in the class for train folder\n",
        "class_names = ['disgust', 'neutral', 'sad','angry','surprise','happy','fear']\n",
        "class_counts = [436, 4982, 4938, 3993, 3205, 7164, 4103]\n",
        "\n",
        "colors = ['green', 'turquoise', 'blue', 'red', 'orange', 'yellow', 'purple']\n",
        "\n",
        "plt.figure(figsize=(10, 6))\n",
        "plt.bar(class_names, class_counts, color=colors)\n",
        "plt.xlabel('Classes')\n",
        "plt.ylabel('Number of Images')\n",
        "plt.title('Train Class Distribution')\n",
        "plt.xticks(rotation=45)\n",
        "plt.show()\n",
        "\n",
        "\n",
        "# Class names and number of images in the class validation folder\n",
        "class_names = ['disgust', 'neutral', 'sad','angry','surprise','happy','fear']\n",
        "class_counts = [111, 1216, 1139, 960, 797, 1825, 1018]\n",
        "\n",
        "colors = ['green', 'turquoise', 'blue', 'red', 'orange', 'yellow', 'purple']\n",
        "\n",
        "plt.figure(figsize=(10, 6))\n",
        "plt.bar(class_names, class_counts, color=colors)\n",
        "plt.xlabel('Classes')\n",
        "plt.ylabel('Number of Images')\n",
        "plt.title('Validation Class Distribution')\n",
        "plt.xticks(rotation=45)\n",
        "plt.show()\n"
      ],
      "metadata": {
        "colab": {
          "base_uri": "https://localhost:8080/",
          "height": 981
        },
        "id": "s5sMJsPpDO20",
        "outputId": "926fc276-89ba-4450-ea97-424604d0e68f"
      },
      "execution_count": 7,
      "outputs": [
        {
          "output_type": "display_data",
          "data": {
            "text/plain": [
              "<Figure size 1000x600 with 1 Axes>"
            ],
            "image/png": "[encoded data removed]"
          },
          "metadata": {}
        },
        {
          "output_type": "display_data",
          "data": {
            "text/plain": [
              "<Figure size 1000x600 with 1 Axes>"
            ],
            "image/png": "[encoded data removed]"
          },
          "metadata": {}
        }
      ]
    },
    {
      "cell_type": "markdown",
      "source": [
        "Visualization of the sample image\n",
        "\n",
        "This step allows us to learn about the dataset by selecting a random image from the dataset."
      ],
      "metadata": {
        "id": "LamqlmA6_snK"
      }
    },
    {
      "cell_type": "code",
      "source": [
        "import matplotlib.pyplot as plt\n",
        "import cv2\n",
        "import os\n",
        "import random\n",
        "\n",
        "data_dir = '/content/images/images'\n",
        "\n",
        "class_train =  os.path.join(data_dir, 'train')\n",
        "train_sub_classes = [sub_class for sub_class in os.listdir(class_train) if os.path.isdir(os.path.join(class_train, sub_class))]\n",
        "\n",
        "class_train =  os.path.join(data_dir, 'validation')\n",
        "validation_sub_classes = [sub_class for sub_class in os.listdir(class_validation) if os.path.isdir(os.path.join(class_validation, sub_class))]\n",
        "\n",
        "# Randomly selecting data from the 'train' or 'validation' subclasses\n",
        "all_classes = train_sub_classes + validation_sub_classes\n",
        "selected_class = random.choice(all_classes)\n",
        "\n",
        "# Check if the selected subclass is in the \"train\" or \"validation\" folders and create the file path\n",
        "if selected_class in train_sub_classes:\n",
        "    selected_class_path = os.path.join(class_train, selected_class)\n",
        "else:\n",
        "    selected_class_path = os.path.join(class_validation, selected_class)\n",
        "\n",
        "# Randomly select an image from the selected subclass\n",
        "sample_image_path = os.path.join(selected_class_path, random.choice(os.listdir(selected_class_path)))\n",
        "\n",
        "# Read and display the image\n",
        "image = cv2.imread(sample_image_path)\n",
        "image = cv2.cvtColor(image, cv2.COLOR_BGR2RGB)\n",
        "plt.imshow(image)\n",
        "plt.axis('off')\n",
        "plt.title(selected_class)\n",
        "plt.show()"
      ],
      "metadata": {
        "colab": {
          "base_uri": "https://localhost:8080/",
          "height": 238
        },
        "id": "BRcJTXK1HKcj",
        "outputId": "de401aa9-e961-4f9a-c35a-2c46ae7ab942"
      },
      "execution_count": 8,
      "outputs": [
        {
          "output_type": "error",
          "ename": "NameError",
          "evalue": "name 'class_validation' is not defined",
          "traceback": [
            "\u001b[0;31m---------------------------------------------------------------------------\u001b[0m",
            "\u001b[0;31mNameError\u001b[0m                                 Traceback (most recent call last)",
            "\u001b[0;32m<ipython-input-8-fbd2c87fc81c>\u001b[0m in \u001b[0;36m<cell line: 12>\u001b[0;34m()\u001b[0m\n\u001b[1;32m     10\u001b[0m \u001b[0;34m\u001b[0m\u001b[0m\n\u001b[1;32m     11\u001b[0m \u001b[0mclass_train\u001b[0m \u001b[0;34m=\u001b[0m  \u001b[0mos\u001b[0m\u001b[0;34m.\u001b[0m\u001b[0mpath\u001b[0m\u001b[0;34m.\u001b[0m\u001b[0mjoin\u001b[0m\u001b[0;34m(\u001b[0m\u001b[0mdata_dir\u001b[0m\u001b[0;34m,\u001b[0m \u001b[0;34m'validation'\u001b[0m\u001b[0;34m)\u001b[0m\u001b[0;34m\u001b[0m\u001b[0;34m\u001b[0m\u001b[0m\n\u001b[0;32m---> 12\u001b[0;31m \u001b[0mvalidation_sub_classes\u001b[0m \u001b[0;34m=\u001b[0m \u001b[0;34m[\u001b[0m\u001b[0msub_class\u001b[0m \u001b[0;32mfor\u001b[0m \u001b[0msub_class\u001b[0m \u001b[0;32min\u001b[0m \u001b[0mos\u001b[0m\u001b[0;34m.\u001b[0m\u001b[0mlistdir\u001b[0m\u001b[0;34m(\u001b[0m\u001b[0mclass_validation\u001b[0m\u001b[0;34m)\u001b[0m \u001b[0;32mif\u001b[0m \u001b[0mos\u001b[0m\u001b[0;34m.\u001b[0m\u001b[0mpath\u001b[0m\u001b[0;34m.\u001b[0m\u001b[0misdir\u001b[0m\u001b[0;34m(\u001b[0m\u001b[0mos\u001b[0m\u001b[0;34m.\u001b[0m\u001b[0mpath\u001b[0m\u001b[0;34m.\u001b[0m\u001b[0mjoin\u001b[0m\u001b[0;34m(\u001b[0m\u001b[0mclass_validation\u001b[0m\u001b[0;34m,\u001b[0m \u001b[0msub_class\u001b[0m\u001b[0;34m)\u001b[0m\u001b[0;34m)\u001b[0m\u001b[0;34m]\u001b[0m\u001b[0;34m\u001b[0m\u001b[0;34m\u001b[0m\u001b[0m\n\u001b[0m\u001b[1;32m     13\u001b[0m \u001b[0;34m\u001b[0m\u001b[0m\n\u001b[1;32m     14\u001b[0m \u001b[0;31m# Randomly selecting data from the 'train' or 'validation' subclasses\u001b[0m\u001b[0;34m\u001b[0m\u001b[0;34m\u001b[0m\u001b[0m\n",
            "\u001b[0;31mNameError\u001b[0m: name 'class_validation' is not defined"
          ]
        }
      ]
    },
    {
      "cell_type": "code",
      "source": [
        "import matplotlib.pyplot as plt\n",
        "import cv2\n",
        "import os\n",
        "import random\n",
        "\n",
        "data_dir = '/content/images/images'\n",
        "\n",
        "# Train alt sınıflarını listeleme\n",
        "train_dir = os.path.join(data_dir, 'train')\n",
        "train_sub_classes = [sub_class for sub_class in os.listdir(train_dir) if os.path.isdir(os.path.join(train_dir, sub_class))]\n",
        "\n",
        "# Validation alt sınıflarını listeleme\n",
        "validation_dir = os.path.join(data_dir, 'validation')\n",
        "validation_sub_classes = [sub_class for sub_class in os.listdir(validation_dir) if os.path.isdir(os.path.join(validation_dir, sub_class))]\n",
        "\n",
        "# Train ve Validation alt sınıflarını birleştirme\n",
        "all_classes = train_sub_classes + validation_sub_classes\n",
        "\n",
        "# Alt sınıflardan rastgele birini seçme\n",
        "selected_class = random.choice(all_classes)\n",
        "\n",
        "# Seçilen alt sınıfın \"train\" veya \"validation\" klasörlerinde olup olmadığını kontrol etme ve dosya yolunu oluşturma\n",
        "if selected_class in train_sub_classes:\n",
        "    selected_class_path = os.path.join(train_dir, selected_class)\n",
        "else:\n",
        "    selected_class_path = os.path.join(validation_dir, selected_class)\n",
        "\n",
        "# Seçilen alt sınıftan rastgele bir görüntü seçme\n",
        "sample_image_path = os.path.join(selected_class_path, random.choice(os.listdir(selected_class_path)))\n",
        "\n",
        "# Görüntüyü okuma ve gösterme\n",
        "image = cv2.imread(sample_image_path)\n",
        "image = cv2.cvtColor(image, cv2.COLOR_BGR2RGB)\n",
        "plt.imshow(image)\n",
        "plt.axis('off')\n",
        "plt.title(selected_class)\n",
        "plt.show()\n"
      ],
      "metadata": {
        "colab": {
          "base_uri": "https://localhost:8080/",
          "height": 428
        },
        "id": "c4cbqOQsJf95",
        "outputId": "0a0e73f2-c145-489b-f549-fcfe252fa89d"
      },
      "execution_count": 9,
      "outputs": [
        {
          "output_type": "display_data",
          "data": {
            "text/plain": [
              "<Figure size 640x480 with 1 Axes>"
            ],
            "image/png": "[encoded data removed]"
          },
          "metadata": {}
        }
      ]
    },
    {
      "cell_type": "code",
      "source": [],
      "metadata": {
        "id": "_jXz2gLN_yMl"
      },
      "execution_count": 43,
      "outputs": []
    }
  ]
}