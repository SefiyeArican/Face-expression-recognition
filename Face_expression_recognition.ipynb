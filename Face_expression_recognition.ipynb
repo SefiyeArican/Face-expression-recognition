{
  "cells": [
    {
      "cell_type": "markdown",
      "metadata": {
        "id": "view-in-github",
        "colab_type": "text"
      },
      "source": [
        "<a href=\"https://colab.research.google.com/github/SefiyeArican/Face-expression-recognition/blob/main/Face_expression_recognition.ipynb\" target=\"_parent\"><img src=\"https://colab.research.google.com/assets/colab-badge.svg\" alt=\"Open In Colab\"/></a>"
      ]
    },
    {
      "cell_type": "markdown",
      "metadata": {
        "id": "AQmSl9Nvaa-w"
      },
      "source": [
        "**Access to the dataset via google drive**"
      ]
    },
    {
      "cell_type": "code",
      "execution_count": 16,
      "metadata": {
        "colab": {
          "base_uri": "https://localhost:8080/"
        },
        "id": "hYn130DRry7V",
        "outputId": "586ae92c-adbc-4191-8492-08ba4279209e"
      },
      "outputs": [
        {
          "output_type": "stream",
          "name": "stdout",
          "text": [
            "Drive already mounted at /content/drive; to attempt to forcibly remount, call drive.mount(\"/content/drive\", force_remount=True).\n"
          ]
        }
      ],
      "source": [
        "from google.colab import drive\n",
        "drive.mount('/content/drive')"
      ]
    },
    {
      "cell_type": "code",
      "execution_count": 2,
      "metadata": {
        "id": "t9e_FbNYaknD"
      },
      "outputs": [],
      "source": [
        "import zipfile\n",
        "import os\n",
        "\n",
        "dataset_path = \"/content/drive/MyDrive/archive.zip\"\n",
        "\n",
        "with zipfile.ZipFile(os.path.join(dataset_path), 'r') as zip_ref:\n",
        "    zip_ref.extractall(\"/content/\")"
      ]
    },
    {
      "cell_type": "markdown",
      "metadata": {
        "id": "zPm-Vo8mvxm4"
      },
      "source": [
        "**Data loading and review**"
      ]
    },
    {
      "cell_type": "code",
      "execution_count": 3,
      "metadata": {
        "colab": {
          "base_uri": "https://localhost:8080/"
        },
        "id": "uR9knopva-XC",
        "outputId": "82dc58a0-b27d-4498-add4-4e3271504a48"
      },
      "outputs": [
        {
          "output_type": "stream",
          "name": "stdout",
          "text": [
            "Number of images in the Train folder: 28821\n",
            "Number of images in the Validation folder: 7066\n"
          ]
        }
      ],
      "source": [
        "import os\n",
        "from PIL import Image\n",
        "\n",
        "data_dir = '/content/images/images'\n",
        "\n",
        "def count_images_in_directory(data_dir):\n",
        "    image_extensions = ['.jpg', '.jpeg', '.png', '.gif', '.bmp', '.tiff', '.webp']\n",
        "\n",
        "    image_count = 0\n",
        "\n",
        "    for root, dirs, files in os.walk(data_dir):\n",
        "        for file in files:\n",
        "            if any(file.lower().endswith(ext) for ext in image_extensions):\n",
        "                try:\n",
        "                    # Check if it is visual\n",
        "                    with Image.open(os.path.join(root, file)) as img:\n",
        "                        img.verify()  # This line checks if the image is broken\n",
        "                    image_count += 1\n",
        "                except (IOError, SyntaxError):\n",
        "                    # Skip non-visual files\n",
        "                    continue\n",
        "\n",
        "    return image_count\n",
        "\n",
        "data_dir = '/content/images/images/train'\n",
        "print(f\"Number of images in the Train folder: {count_images_in_directory(data_dir)}\")\n",
        "data_dir = '/content/images/images/validation'\n",
        "print(f\"Number of images in the Validation folder: {count_images_in_directory(data_dir)}\")"
      ]
    },
    {
      "cell_type": "markdown",
      "metadata": {
        "id": "uMDo3g6_9355"
      },
      "source": [
        "Since the number of data seems sufficient, I don't see the need to generate data, I will work with the existing dataset."
      ]
    },
    {
      "cell_type": "markdown",
      "metadata": {
        "id": "0RFzv7Dh51u_"
      },
      "source": [
        "**What is the type of these images in the dataset?**"
      ]
    },
    {
      "cell_type": "code",
      "execution_count": 4,
      "metadata": {
        "colab": {
          "base_uri": "https://localhost:8080/"
        },
        "id": "y5mUVT9H53sH",
        "outputId": "211450e5-cef1-4c7e-9fcf-272601bc3423"
      },
      "outputs": [
        {
          "output_type": "stream",
          "name": "stdout",
          "text": [
            "Types of images in Train set:\n",
            ".jpg: 28821 images\n",
            "Types of images in Validation set:\n",
            ".jpg: 7066 images\n"
          ]
        }
      ],
      "source": [
        "import os\n",
        "from collections import defaultdict\n",
        "\n",
        "data_dir = '/content/images/images'\n",
        "\n",
        "def count_image_types(data_dir):\n",
        "    # Create a dictionary of image types and numbers\n",
        "    image_types = defaultdict(int)\n",
        "\n",
        "    # Navigate files in folders and subfolders\n",
        "    for root, dirs, files in os.walk(data_dir):\n",
        "        for file in files:\n",
        "            # Get file extension\n",
        "            ext = os.path.splitext(file)[1].lower()\n",
        "            if ext in ['.jpg', '.jpeg', '.png', '.gif', '.bmp', '.tiff', '.webp']:\n",
        "                image_types[ext] += 1\n",
        "\n",
        "    return image_types\n",
        "\n",
        "print(\"Types of images in Train set:\")\n",
        "data_dir = '/content/images/images/train'\n",
        "image_types_counts = count_image_types(data_dir)\n",
        "\n",
        "for ext, count in image_types_counts.items():\n",
        "    print(f\"{ext}: {count} image{'s' if count > 1 else ''}\")\n",
        "\n",
        "\n",
        "print(\"Types of images in Validation set:\")\n",
        "data_dir = '/content/images/images/validation'\n",
        "image_types_counts = count_image_types(data_dir)\n",
        "\n",
        "for ext, count in image_types_counts.items():\n",
        "    print(f\"{ext}: {count} image{'s' if count > 1 else ''}\")\n"
      ]
    },
    {
      "cell_type": "markdown",
      "metadata": {
        "id": "qhBlVPqr6sX0"
      },
      "source": [
        "All images type is .jpg"
      ]
    },
    {
      "cell_type": "code",
      "execution_count": 5,
      "metadata": {
        "colab": {
          "base_uri": "https://localhost:8080/"
        },
        "id": "-ywsN9TWr1Up",
        "outputId": "e061fae3-41d9-4a9e-d3ad-2df906f1836c"
      },
      "outputs": [
        {
          "output_type": "stream",
          "name": "stdout",
          "text": [
            "Number of subfolders (classes) in the Train folder: 7\n",
            "The name of subfolders (classes) in the Train folder:\n",
            "happy\n",
            "fear\n",
            "sad\n",
            "disgust\n",
            "surprise\n",
            "neutral\n",
            "angry\n",
            "\n",
            "\n",
            "Number of subfolders (classes) in the Validation folder: 7\n",
            "The name of subfolders (classes) in the Validation folder:\n",
            "happy\n",
            "fear\n",
            "sad\n",
            "disgust\n",
            "surprise\n",
            "neutral\n",
            "angry\n"
          ]
        }
      ],
      "source": [
        "import os\n",
        "\n",
        "def count_and_list_subfolders(data_dir):\n",
        "    #  List subclasses\n",
        "    subfolders = [f for f in os.listdir(data_dir) if os.path.isdir(os.path.join(data_dir, f))]\n",
        "    return len(subfolders), subfolders\n",
        "\n",
        "# Get the number and names of subfolders in the Train folder\n",
        "data_dir = '/content/images/images/train'\n",
        "num_subfolders_train, subfolders_train = count_and_list_subfolders(data_dir)\n",
        "print(f\"Number of subfolders (classes) in the Train folder: {num_subfolders_train}\")\n",
        "\n",
        "print(\"The name of subfolders (classes) in the Train folder:\")\n",
        "for subfolder in subfolders_train:\n",
        "    print(subfolder)\n",
        "\n",
        "print(\"\\n\")\n",
        "\n",
        "# Get the number and names of subfolders in the Validation folder\n",
        "data_dir = '/content/images/images/validation'\n",
        "num_subfolders_validation, subfolders_validation = count_and_list_subfolders(data_dir)\n",
        "print(f\"Number of subfolders (classes) in the Validation folder: {num_subfolders_validation}\")\n",
        "\n",
        "print(\"The name of subfolders (classes) in the Validation folder:\")\n",
        "for subfolder in subfolders_validation:\n",
        "    print(subfolder)\n",
        "\n"
      ]
    },
    {
      "cell_type": "markdown",
      "metadata": {
        "id": "UqqF8GuWz0Kw"
      },
      "source": [
        "There are 2 main classes in the dataset; Train and Validation. These classes have 7 subclasses. The names of these subclasses are \"disgust, neutral, sad, angry, surprise, happy, fear\"."
      ]
    },
    {
      "cell_type": "code",
      "execution_count": 6,
      "metadata": {
        "colab": {
          "base_uri": "https://localhost:8080/"
        },
        "id": "WV_WmpGD0uXB",
        "outputId": "f686961e-e70e-43cb-c007-8709a9492c2e"
      },
      "outputs": [
        {
          "output_type": "stream",
          "name": "stdout",
          "text": [
            "Train Folder\n",
            "* happy - 7164\n",
            "* fear - 4103\n",
            "* sad - 4938\n",
            "* disgust - 436\n",
            "* surprise - 3205\n",
            "* neutral - 4982\n",
            "* angry - 3993\n",
            "\n",
            "\n",
            "Validation Folder\n",
            "* happy - 1825\n",
            "* fear - 1018\n",
            "* sad - 1139\n",
            "* disgust - 111\n",
            "* surprise - 797\n",
            "* neutral - 1216\n",
            "* angry - 960\n"
          ]
        }
      ],
      "source": [
        "import os\n",
        "from PIL import Image\n",
        "\n",
        "data_dir = '/content/images/images'\n",
        "\n",
        "def count_images_in_directory(data_dir):\n",
        "\n",
        "    image_extensions = ['.jpg', '.jpeg', '.png', '.gif', '.bmp', '.tiff', '.webp']\n",
        "\n",
        "    image_counts = {}\n",
        "\n",
        "    # Navigate files in folders and subfolders\n",
        "    for root, dirs, files in os.walk(data_dir):\n",
        "        image_count = 0\n",
        "        for file in files:\n",
        "            if any(file.lower().endswith(ext) for ext in image_extensions):\n",
        "                try:\n",
        "                    # Check if it is visual\n",
        "                    with Image.open(os.path.join(root, file)) as img:\n",
        "                        img.verify()  # This line checks if the image is broken\n",
        "                    image_count += 1\n",
        "                except (IOError, SyntaxError):\n",
        "                    # Skip non-visual files\n",
        "                    continue\n",
        "        # Store image counts in subfolders\n",
        "        if image_count > 0:\n",
        "            image_counts[os.path.basename(root)] = image_count # get only the last part of the file path, i.e. the name of the folder\n",
        "\n",
        "    return image_counts\n",
        "\n",
        "train_data_dir = '/content/images/images/train'\n",
        "image_counts = count_images_in_directory(train_data_dir)\n",
        "print(\"Train Folder\")\n",
        "# Print names and image counts of subfolders\n",
        "for folder, count in image_counts.items():\n",
        "    print(f\"* {folder} - {count}\")\n",
        "\n",
        "print(\"\\n\")\n",
        "\n",
        "validation_data_dir = '/content/images/images/validation'\n",
        "image_counts = count_images_in_directory(validation_data_dir)\n",
        "print(\"Validation Folder\")\n",
        "# Print names and image counts of subfolders\n",
        "for folder, count in image_counts.items():\n",
        "    print(f\"* {folder} - {count}\")\n"
      ]
    },
    {
      "cell_type": "markdown",
      "metadata": {
        "id": "smt--qCHGGYR"
      },
      "source": [
        "**Data distribution tables**"
      ]
    },
    {
      "cell_type": "code",
      "execution_count": 7,
      "metadata": {
        "colab": {
          "base_uri": "https://localhost:8080/",
          "height": 1000
        },
        "id": "s5sMJsPpDO20",
        "outputId": "f81fb409-0e6f-42c9-9c3f-4f6e635ba7d6"
      },
      "outputs": [
        {
          "output_type": "display_data",
          "data": {
            "text/plain": [
              "<Figure size 1000x600 with 1 Axes>"
            ],
            "image/png": "[encoded data removed]"
          },
          "metadata": {}
        },
        {
          "output_type": "display_data",
          "data": {
            "text/plain": [
              "<Figure size 1000x600 with 1 Axes>"
            ],
            "image/png": "[encoded data removed]"
          },
          "metadata": {}
        }
      ],
      "source": [
        "import matplotlib.pyplot as plt\n",
        "\n",
        "# Class names and number of images in the class for train folder\n",
        "class_names = ['neutral', 'happy', 'angry', 'fear', 'disgust', 'sad', 'surprise']\n",
        "class_counts = [4982, 7164, 3993, 4103, 436, 4938, 3205]\n",
        "\n",
        "\n",
        "colors = ['turquoise', 'gold', 'red', 'purple', 'green', 'blue', 'orange']\n",
        "\n",
        "plt.figure(figsize=(10, 6))\n",
        "plt.bar(class_names, class_counts, color=colors)\n",
        "plt.xlabel('Classes')\n",
        "plt.ylabel('Number of Images')\n",
        "plt.title('Train Class Distribution')\n",
        "plt.xticks(rotation=45)\n",
        "plt.show()\n",
        "\n",
        "\n",
        "# Class names and number of images in the class validation folder\n",
        "class_names = ['neutral', 'happy', 'angry', 'fear', 'disgust', 'sad', 'surprise']\n",
        "class_counts = [1216, 1825, 960, 1018, 111, 1139, 797]\n",
        "\n",
        "colors = ['turquoise', 'gold', 'red', 'purple', 'green', 'blue', 'orange']\n",
        "\n",
        "plt.figure(figsize=(10, 6))\n",
        "plt.bar(class_names, class_counts, color=colors)\n",
        "plt.xlabel('Classes')\n",
        "plt.ylabel('Number of Images')\n",
        "plt.title('Validation Class Distribution')\n",
        "plt.xticks(rotation=45)\n",
        "plt.show()\n"
      ]
    },
    {
      "cell_type": "markdown",
      "metadata": {
        "id": "LamqlmA6_snK"
      },
      "source": [
        "**Visualization of the sample image**\n",
        "\n",
        "This step allows us to learn about the dataset by selecting a random image from the dataset."
      ]
    },
    {
      "cell_type": "code",
      "execution_count": 8,
      "metadata": {
        "colab": {
          "base_uri": "https://localhost:8080/",
          "height": 516
        },
        "id": "_jXz2gLN_yMl",
        "outputId": "f95eb39c-030c-419c-8da5-86dae1582c57"
      },
      "outputs": [
        {
          "output_type": "display_data",
          "data": {
            "text/plain": [
              "<Figure size 900x600 with 6 Axes>"
            ],
            "image/png": "[encoded data removed]"
          },
          "metadata": {}
        }
      ],
      "source": [
        "import matplotlib.pyplot as plt\n",
        "import cv2\n",
        "import os\n",
        "import random\n",
        "\n",
        "data_dir = '/content/images/images'\n",
        "\n",
        "class_train = os.path.join(data_dir, 'train')\n",
        "train_sub_classes = [sub_class for sub_class in os.listdir(class_train) if os.path.isdir(os.path.join(class_train, sub_class))]\n",
        "\n",
        "class_validation = os.path.join(data_dir, 'validation')\n",
        "validation_sub_classes = [sub_class for sub_class in os.listdir(class_validation) if os.path.isdir(os.path.join(class_validation, sub_class))]\n",
        "\n",
        "# Merge 'Train' and 'Validation' subclasses\n",
        "all_classes = train_sub_classes + validation_sub_classes\n",
        "\n",
        "# 6 different random images to show\n",
        "num_images_to_show = 6\n",
        "\n",
        "plt.figure(figsize=(9, 6))\n",
        "\n",
        "for i in range(num_images_to_show):\n",
        "    # Randomly select one of the subclasses\n",
        "    selected_class = random.choice(all_classes)\n",
        "\n",
        "    # Check if the selected subclass is in the \"train\" or \"validation\" folders and create the file path\n",
        "    if selected_class in train_sub_classes:\n",
        "        selected_class_path = os.path.join(class_train, selected_class)\n",
        "    else:\n",
        "        selected_class_path = os.path.join(class_validation, selected_class)\n",
        "\n",
        "    # Randomly select an image from the selected subclass\n",
        "    sample_image_path = os.path.join(selected_class_path, random.choice(os.listdir(selected_class_path)))\n",
        "\n",
        "    # Reading the image\n",
        "    image = cv2.imread(sample_image_path)\n",
        "    image = cv2.cvtColor(image, cv2.COLOR_BGR2RGB)\n",
        "\n",
        "    # Show image as a subplot\n",
        "    plt.subplot(2, 3, i + 1)\n",
        "    plt.imshow(image)\n",
        "    plt.axis('off')\n",
        "    plt.title(selected_class)\n",
        "\n",
        "plt.show()"
      ]
    },
    {
      "cell_type": "markdown",
      "metadata": {
        "id": "uLMhsgR758vu"
      },
      "source": [
        "The images in the dataset are in black and white. So we will not need color editing."
      ]
    },
    {
      "cell_type": "markdown",
      "metadata": {
        "id": "8p-6qnA4-AxM"
      },
      "source": [
        "**Creating 'Test' data set from 'Train' data set**"
      ]
    },
    {
      "cell_type": "code",
      "execution_count": 9,
      "metadata": {
        "colab": {
          "base_uri": "https://localhost:8080/"
        },
        "id": "coHlRFzZA8KN",
        "outputId": "aa43673c-bf49-48eb-e605-d54b9516a803"
      },
      "outputs": [
        {
          "output_type": "stream",
          "name": "stdout",
          "text": [
            "Number of images in the Train folder after splitting: 23060\n",
            "Number of images in the Test folder: 5761\n"
          ]
        }
      ],
      "source": [
        "import os\n",
        "import random\n",
        "import shutil\n",
        "\n",
        "def create_test_set_from_train(train_dir, test_dir, test_size=0.2):\n",
        "    # Creating the test folder\n",
        "    if not os.path.exists(test_dir):\n",
        "        os.makedirs(test_dir)\n",
        "\n",
        "    # Creating test data set from Train folder\n",
        "    train_sub_classes = [sub_class for sub_class in os.listdir(train_dir) if os.path.isdir(os.path.join(train_dir, sub_class))]\n",
        "\n",
        "    for sub_class in train_sub_classes:\n",
        "        sub_class_dir = os.path.join(train_dir, sub_class)\n",
        "        images = os.listdir(sub_class_dir)\n",
        "        random.shuffle(images)\n",
        "\n",
        "        # Number of images to be allocated to the test dataset\n",
        "        num_test_images = int(len(images) * test_size)\n",
        "        test_images = images[:num_test_images]\n",
        "\n",
        "        # Creating new test subfolder\n",
        "        test_sub_class_dir = os.path.join(test_dir, sub_class)\n",
        "        if not os.path.exists(test_sub_class_dir):\n",
        "            os.makedirs(test_sub_class_dir)\n",
        "\n",
        "        # Move images to test folder\n",
        "        for image in test_images:\n",
        "            src = os.path.join(sub_class_dir, image)\n",
        "            dst = os.path.join(test_sub_class_dir, image)\n",
        "            shutil.move(src, dst)\n",
        "\n",
        "\n",
        "train_dir = '/content/images/images/train'\n",
        "test_dir = '/content/images/images/test'\n",
        "create_test_set_from_train(train_dir, test_dir, test_size=0.2)\n",
        "\n",
        "# Print the number of images in Train and Test folders\n",
        "def count_images_in_dir(directory):\n",
        "    total_images = 0\n",
        "    sub_classes = [sub_class for sub_class in os.listdir(directory) if os.path.isdir(os.path.join(directory, sub_class))]\n",
        "    for sub_class in sub_classes:\n",
        "        sub_class_dir = os.path.join(directory, sub_class)\n",
        "        total_images += len(os.listdir(sub_class_dir))\n",
        "    return total_images\n",
        "\n",
        "num_train_images = count_images_in_dir(train_dir)\n",
        "num_test_images = count_images_in_dir(test_dir)\n",
        "\n",
        "print(f\"Number of images in the Train folder after splitting: {num_train_images}\")\n",
        "print(f\"Number of images in the Test folder: {num_test_images}\")\n"
      ]
    },
    {
      "cell_type": "markdown",
      "metadata": {
        "id": "9547vRjbhUt8"
      },
      "source": [
        "**Data distribution in the generated 'Test' dataset**"
      ]
    },
    {
      "cell_type": "code",
      "execution_count": 10,
      "metadata": {
        "colab": {
          "base_uri": "https://localhost:8080/",
          "height": 738
        },
        "id": "4AYiVcTUg-LW",
        "outputId": "95287a0c-2f4d-4109-8508-e5ad4759496f"
      },
      "outputs": [
        {
          "output_type": "stream",
          "name": "stdout",
          "text": [
            "Test Folder\n",
            "* happy - 1432\n",
            "* fear - 820\n",
            "* sad - 987\n",
            "* disgust - 87\n",
            "* surprise - 641\n",
            "* neutral - 996\n",
            "* angry - 798\n"
          ]
        },
        {
          "output_type": "display_data",
          "data": {
            "text/plain": [
              "<Figure size 1000x600 with 1 Axes>"
            ],
            "image/png": "[encoded data removed]"
          },
          "metadata": {}
        }
      ],
      "source": [
        "data_dir = '/content/images/images/test'\n",
        "image_counts = count_images_in_directory(data_dir)\n",
        "print(\"Test Folder\")\n",
        "# Print names and image counts of subfolders\n",
        "for folder, count in image_counts.items():\n",
        "    print(f\"* {folder} - {count}\")\n",
        "\n",
        "# Class names and number of images in the class test folder\n",
        "class_names = ['neutral', 'happy', 'angry', 'fear', 'disgust', 'sad', 'surprise']\n",
        "class_counts = [996, 1432, 798, 820, 87, 987, 641]\n",
        "\n",
        "colors = ['turquoise', 'gold', 'red', 'purple', 'green', 'blue', 'orange']\n",
        "\n",
        "plt.figure(figsize=(10, 6))\n",
        "plt.bar(class_names, class_counts, color=colors)\n",
        "plt.xlabel('Classes')\n",
        "plt.ylabel('Number of Images')\n",
        "plt.title('Test Class Distribution')\n",
        "plt.xticks(rotation=45)\n",
        "plt.show()\n"
      ]
    },
    {
      "cell_type": "markdown",
      "metadata": {
        "id": "AvpRfZ89PYw-"
      },
      "source": [
        "**Are the images all the same size?**"
      ]
    },
    {
      "cell_type": "code",
      "execution_count": 11,
      "metadata": {
        "colab": {
          "base_uri": "https://localhost:8080/"
        },
        "id": "Rpg42rhHA8Bj",
        "outputId": "f822594c-7e39-45c1-bcb6-2221809a8652"
      },
      "outputs": [
        {
          "output_type": "stream",
          "name": "stdout",
          "text": [
            "Train set image sizes:\n",
            "All images have the same size: (48, 48)\n",
            "\n",
            "Validation set image sizes:\n",
            "All images have the same size: (48, 48)\n",
            "\n",
            "Test set image sizes:\n",
            "All images have the same size: (48, 48)\n"
          ]
        }
      ],
      "source": [
        "import os\n",
        "import cv2\n",
        "\n",
        "def get_image_sizes(directory):\n",
        "    image_sizes = {}\n",
        "    for root, _, files in os.walk(directory):\n",
        "        for file in files:\n",
        "            if file.lower().endswith(('.png', '.jpg', '.jpeg', '.bmp', '.tiff', '.gif')):\n",
        "                image_path = os.path.join(root, file)\n",
        "                image = cv2.imread(image_path)\n",
        "                if image is not None:\n",
        "                    height, width = image.shape[:2]\n",
        "                    image_sizes[file] = (width, height)\n",
        "    return image_sizes\n",
        "\n",
        "def check_image_sizes(image_sizes):\n",
        "    unique_sizes = set(image_sizes.values())\n",
        "    if len(unique_sizes) == 1:\n",
        "        print(f\"All images have the same size: {unique_sizes.pop()}\")\n",
        "    else:\n",
        "        print(\"Images have different sizes:\")\n",
        "        for file, size in image_sizes.items():\n",
        "            print(f\"{file}: {size}\")\n",
        "\n",
        "train_dir = '/content/images/images/train'\n",
        "validation_dir = '/content/images/images/validation'\n",
        "test_dir = '/content/images/images/test'\n",
        "\n",
        "train_image_sizes = get_image_sizes(train_dir)\n",
        "validation_image_sizes = get_image_sizes(validation_dir)\n",
        "test_image_sizes = get_image_sizes(test_dir)\n",
        "\n",
        "print(\"Train set image sizes:\")\n",
        "check_image_sizes(train_image_sizes)\n",
        "\n",
        "print(\"\\nValidation set image sizes:\")\n",
        "check_image_sizes(validation_image_sizes)\n",
        "\n",
        "print(\"\\nTest set image sizes:\")\n",
        "check_image_sizes(test_image_sizes)\n"
      ]
    },
    {
      "cell_type": "markdown",
      "metadata": {
        "id": "-F8gZaAPP-AI"
      },
      "source": [
        "The images are all the same size so there is no need to reshape them."
      ]
    },
    {
      "cell_type": "markdown",
      "source": [
        "**Labeling**<br>\n",
        "The labeling process is used to encode the labels in the dataset, convert them to one-hot encoding format and visualize the class distribution.<br> LabelEncoder converts categorical labels (such as class names) into numeric values.<br>\n",
        "One-hot encoding creates a separate binary vector for each class. For example, if there are 3 classes: Class 0: [1, 0, 0] Class 1: [0, 1, 0] Class 2: [0, 0, 1]"
      ],
      "metadata": {
        "id": "ZtjrzKqrpV2e"
      }
    },
    {
      "cell_type": "code",
      "execution_count": 12,
      "metadata": {
        "id": "QQdEcDPFA73K"
      },
      "outputs": [],
      "source": [
        "import os\n",
        "import cv2\n",
        "import numpy as np\n",
        "from tqdm import tqdm\n",
        "\n",
        "train_dir = '/content/images/images/train'\n",
        "test_dir = '/content/images/images/test'\n",
        "validation_dir = '/content/images/images/validation'\n",
        "\n",
        "class_names = ['surprise', 'fear', 'neutral', 'disgust', 'happy', 'angry', 'sad']\n",
        "class_names_label = {class_name: i for i, class_name in enumerate(class_names)}\n",
        "IMAGE_SIZE = (48, 48)\n",
        "\n",
        "def load_data():\n",
        "    dataset = \"/content/images/images\"\n",
        "\n",
        "    train_images = []\n",
        "    train_labels = []\n",
        "    test_images = []\n",
        "    test_labels = []\n",
        "    validation_images = []\n",
        "    validation_labels = []\n",
        "\n",
        "    for folder in os.listdir(dataset):\n",
        "        if folder not in class_names_label and folder != 'validation':\n",
        "            print(f\"Warning: {folder} is not in class_names_label dictionary.\")\n",
        "            continue\n",
        "\n",
        "        label = class_names_label.get(folder, -1)\n",
        "\n",
        "        count = 0\n",
        "\n",
        "        for file in os.listdir(os.path.join(dataset, folder)):\n",
        "            file_path = os.path.join(dataset, folder, file)\n",
        "            if not file_path.endswith(('.jpg', '.jpeg', '.png', '.bmp', '.tiff')):\n",
        "                print(f\"Unsupported file type: {file_path}\")\n",
        "                continue\n",
        "\n",
        "            if folder == 'validation':\n",
        "                validation_images.append(file_path)\n",
        "                validation_labels.append(label)\n",
        "            else:\n",
        "                if count < 0.8 * len(os.listdir(os.path.join(dataset, folder))):\n",
        "                    train_images.append(file_path)\n",
        "                    train_labels.append(label)\n",
        "                else:\n",
        "                    test_images.append(file_path)\n",
        "                    test_labels.append(label)\n",
        "                count += 1\n",
        "\n",
        "    train_images = np.array(train_images)\n",
        "    train_labels = np.array(train_labels)\n",
        "    test_images = np.array(test_images)\n",
        "    test_labels = np.array(test_labels)\n",
        "    validation_images = np.array(validation_images)\n",
        "    validation_labels = np.array(validation_labels)\n",
        "\n",
        "    return (train_images, train_labels), (test_images, test_labels), (validation_images, validation_labels)"
      ]
    },
    {
      "cell_type": "markdown",
      "source": [
        "**Normalization**<br>\n",
        "Normalization is a process of bringing data to the same scales to make algorithms work more effectively and accurately."
      ],
      "metadata": {
        "id": "TxwHTdRN4nbO"
      }
    },
    {
      "cell_type": "code",
      "source": [
        "import cv2\n",
        "import numpy as np\n",
        "from tqdm import tqdm\n",
        "\n",
        "IMAGE_SIZE = (48, 48)\n",
        "\n",
        "def preprocess_images(image_paths):\n",
        "    images = []\n",
        "    for image_path in tqdm(image_paths):\n",
        "        img = cv2.imread(image_path)\n",
        "        if img is not None:\n",
        "            img = cv2.resize(img, IMAGE_SIZE)  # Resize image to consistent size\n",
        "            img = cv2.cvtColor(img, cv2.COLOR_BGR2GRAY)  # Convert to grayscale if necessary\n",
        "            img = img / 255.0  # Normalize pixel values to [0, 1]\n",
        "            images.append(img)\n",
        "        else:\n",
        "            print(f\"Warning: Failed to load image {image_path}. Skipping.\")\n",
        "    return np.array(images)\n"
      ],
      "metadata": {
        "id": "ErUWnNGAyPDp"
      },
      "execution_count": 13,
      "outputs": []
    },
    {
      "cell_type": "code",
      "source": [],
      "metadata": {
        "id": "FCpELY4A3U-r"
      },
      "execution_count": 13,
      "outputs": []
    },
    {
      "cell_type": "code",
      "source": [
        "import tensorflow as tf\n",
        "from tensorflow.keras.models import Sequential\n",
        "from tensorflow.keras.layers import Conv2D, MaxPooling2D, Flatten, Dense, Dropout, BatchNormalization\n",
        "from tensorflow.keras.optimizers import Adam\n",
        "\n",
        "model_combined = Sequential()\n",
        "\n",
        "# İlk convolutional katman ve max pooling katmanı\n",
        "model_combined.add(Conv2D(32, (3, 3), input_shape=(48, 48, 3), activation='relu'))\n",
        "model_combined.add(BatchNormalization())\n",
        "model_combined.add(MaxPooling2D((2, 2)))\n",
        "model_combined.add(Dropout(0.1))\n",
        "\n",
        "# İkinci convolutional katman ve max pooling katmanı\n",
        "model_combined.add(Conv2D(64, (3, 3), activation='relu'))\n",
        "model_combined.add(BatchNormalization())\n",
        "model_combined.add(MaxPooling2D((2, 2)))\n",
        "model_combined.add(Dropout(0.1))\n",
        "\n",
        "# Üçüncü convolutional katman ve max pooling katmanı\n",
        "model_combined.add(Conv2D(128, (3, 3), activation='relu'))\n",
        "model_combined.add(BatchNormalization())\n",
        "model_combined.add(MaxPooling2D((2, 2)))\n",
        "model_combined.add(Dropout(0.1))\n",
        "\n",
        "# Dördüncü convolutional katman ve max pooling katmanı\n",
        "model_combined.add(Conv2D(128, (3, 3), activation='relu'))\n",
        "model_combined.add(BatchNormalization())\n",
        "model_combined.add(MaxPooling2D((2, 2)))\n",
        "model_combined.add(Dropout(0.1))\n",
        "\n",
        "# Flatten katmanı\n",
        "model_combined.add(Flatten())\n",
        "\n",
        "# Dense katmanları\n",
        "model_combined.add(Dense(256, activation='relu'))\n",
        "model_combined.add(Dropout(0.4))\n",
        "model_combined.add(Dense(7, activation='softmax'))\n",
        "\n",
        "# Modelin özetini yazdır\n",
        "model_combined.summary()\n",
        "\n",
        "# Modeli derleme\n",
        "model_combined.compile(loss='categorical_crossentropy',\n",
        "                       optimizer=Adam(),\n",
        "                       metrics=['accuracy'])"
      ],
      "metadata": {
        "colab": {
          "base_uri": "https://localhost:8080/",
          "height": 833
        },
        "id": "CZVCdmF43U6h",
        "outputId": "07d4dba1-cf73-4e53-9b99-1f28d06d6213"
      },
      "execution_count": 17,
      "outputs": [
        {
          "output_type": "display_data",
          "data": {
            "text/plain": [
              "\u001b[1mModel: \"sequential_1\"\u001b[0m\n"
            ],
            "text/html": [
              "<pre style=\"white-space:pre;overflow-x:auto;line-height:normal;font-family:Menlo,'DejaVu Sans Mono',consolas,'Courier New',monospace\"><span style=\"font-weight: bold\">Model: \"sequential_1\"</span>\n",
              "</pre>\n"
            ]
          },
          "metadata": {}
        },
        {
          "output_type": "display_data",
          "data": {
            "text/plain": [
              "┏━━━━━━━━━━━━━━━━━━━━━━━━━━━━━━━━━━━━━━┳━━━━━━━━━━━━━━━━━━━━━━━━━━━━━┳━━━━━━━━━━━━━━━━━┓\n",
              "┃\u001b[1m \u001b[0m\u001b[1mLayer (type)                        \u001b[0m\u001b[1m \u001b[0m┃\u001b[1m \u001b[0m\u001b[1mOutput Shape               \u001b[0m\u001b[1m \u001b[0m┃\u001b[1m \u001b[0m\u001b[1m        Param #\u001b[0m\u001b[1m \u001b[0m┃\n",
              "┡━━━━━━━━━━━━━━━━━━━━━━━━━━━━━━━━━━━━━━╇━━━━━━━━━━━━━━━━━━━━━━━━━━━━━╇━━━━━━━━━━━━━━━━━┩\n",
              "│ conv2d_4 (\u001b[38;5;33mConv2D\u001b[0m)                    │ (\u001b[38;5;45mNone\u001b[0m, \u001b[38;5;34m46\u001b[0m, \u001b[38;5;34m46\u001b[0m, \u001b[38;5;34m32\u001b[0m)          │             \u001b[38;5;34m896\u001b[0m │\n",
              "├──────────────────────────────────────┼─────────────────────────────┼─────────────────┤\n",
              "│ batch_normalization_4                │ (\u001b[38;5;45mNone\u001b[0m, \u001b[38;5;34m46\u001b[0m, \u001b[38;5;34m46\u001b[0m, \u001b[38;5;34m32\u001b[0m)          │             \u001b[38;5;34m128\u001b[0m │\n",
              "│ (\u001b[38;5;33mBatchNormalization\u001b[0m)                 │                             │                 │\n",
              "├──────────────────────────────────────┼─────────────────────────────┼─────────────────┤\n",
              "│ max_pooling2d_4 (\u001b[38;5;33mMaxPooling2D\u001b[0m)       │ (\u001b[38;5;45mNone\u001b[0m, \u001b[38;5;34m23\u001b[0m, \u001b[38;5;34m23\u001b[0m, \u001b[38;5;34m32\u001b[0m)          │               \u001b[38;5;34m0\u001b[0m │\n",
              "├──────────────────────────────────────┼─────────────────────────────┼─────────────────┤\n",
              "│ dropout_5 (\u001b[38;5;33mDropout\u001b[0m)                  │ (\u001b[38;5;45mNone\u001b[0m, \u001b[38;5;34m23\u001b[0m, \u001b[38;5;34m23\u001b[0m, \u001b[38;5;34m32\u001b[0m)          │               \u001b[38;5;34m0\u001b[0m │\n",
              "├──────────────────────────────────────┼─────────────────────────────┼─────────────────┤\n",
              "│ conv2d_5 (\u001b[38;5;33mConv2D\u001b[0m)                    │ (\u001b[38;5;45mNone\u001b[0m, \u001b[38;5;34m21\u001b[0m, \u001b[38;5;34m21\u001b[0m, \u001b[38;5;34m64\u001b[0m)          │          \u001b[38;5;34m18,496\u001b[0m │\n",
              "├──────────────────────────────────────┼─────────────────────────────┼─────────────────┤\n",
              "│ batch_normalization_5                │ (\u001b[38;5;45mNone\u001b[0m, \u001b[38;5;34m21\u001b[0m, \u001b[38;5;34m21\u001b[0m, \u001b[38;5;34m64\u001b[0m)          │             \u001b[38;5;34m256\u001b[0m │\n",
              "│ (\u001b[38;5;33mBatchNormalization\u001b[0m)                 │                             │                 │\n",
              "├──────────────────────────────────────┼─────────────────────────────┼─────────────────┤\n",
              "│ max_pooling2d_5 (\u001b[38;5;33mMaxPooling2D\u001b[0m)       │ (\u001b[38;5;45mNone\u001b[0m, \u001b[38;5;34m10\u001b[0m, \u001b[38;5;34m10\u001b[0m, \u001b[38;5;34m64\u001b[0m)          │               \u001b[38;5;34m0\u001b[0m │\n",
              "├──────────────────────────────────────┼─────────────────────────────┼─────────────────┤\n",
              "│ dropout_6 (\u001b[38;5;33mDropout\u001b[0m)                  │ (\u001b[38;5;45mNone\u001b[0m, \u001b[38;5;34m10\u001b[0m, \u001b[38;5;34m10\u001b[0m, \u001b[38;5;34m64\u001b[0m)          │               \u001b[38;5;34m0\u001b[0m │\n",
              "├──────────────────────────────────────┼─────────────────────────────┼─────────────────┤\n",
              "│ conv2d_6 (\u001b[38;5;33mConv2D\u001b[0m)                    │ (\u001b[38;5;45mNone\u001b[0m, \u001b[38;5;34m8\u001b[0m, \u001b[38;5;34m8\u001b[0m, \u001b[38;5;34m128\u001b[0m)           │          \u001b[38;5;34m73,856\u001b[0m │\n",
              "├──────────────────────────────────────┼─────────────────────────────┼─────────────────┤\n",
              "│ batch_normalization_6                │ (\u001b[38;5;45mNone\u001b[0m, \u001b[38;5;34m8\u001b[0m, \u001b[38;5;34m8\u001b[0m, \u001b[38;5;34m128\u001b[0m)           │             \u001b[38;5;34m512\u001b[0m │\n",
              "│ (\u001b[38;5;33mBatchNormalization\u001b[0m)                 │                             │                 │\n",
              "├──────────────────────────────────────┼─────────────────────────────┼─────────────────┤\n",
              "│ max_pooling2d_6 (\u001b[38;5;33mMaxPooling2D\u001b[0m)       │ (\u001b[38;5;45mNone\u001b[0m, \u001b[38;5;34m4\u001b[0m, \u001b[38;5;34m4\u001b[0m, \u001b[38;5;34m128\u001b[0m)           │               \u001b[38;5;34m0\u001b[0m │\n",
              "├──────────────────────────────────────┼─────────────────────────────┼─────────────────┤\n",
              "│ dropout_7 (\u001b[38;5;33mDropout\u001b[0m)                  │ (\u001b[38;5;45mNone\u001b[0m, \u001b[38;5;34m4\u001b[0m, \u001b[38;5;34m4\u001b[0m, \u001b[38;5;34m128\u001b[0m)           │               \u001b[38;5;34m0\u001b[0m │\n",
              "├──────────────────────────────────────┼─────────────────────────────┼─────────────────┤\n",
              "│ conv2d_7 (\u001b[38;5;33mConv2D\u001b[0m)                    │ (\u001b[38;5;45mNone\u001b[0m, \u001b[38;5;34m2\u001b[0m, \u001b[38;5;34m2\u001b[0m, \u001b[38;5;34m128\u001b[0m)           │         \u001b[38;5;34m147,584\u001b[0m │\n",
              "├──────────────────────────────────────┼─────────────────────────────┼─────────────────┤\n",
              "│ batch_normalization_7                │ (\u001b[38;5;45mNone\u001b[0m, \u001b[38;5;34m2\u001b[0m, \u001b[38;5;34m2\u001b[0m, \u001b[38;5;34m128\u001b[0m)           │             \u001b[38;5;34m512\u001b[0m │\n",
              "│ (\u001b[38;5;33mBatchNormalization\u001b[0m)                 │                             │                 │\n",
              "├──────────────────────────────────────┼─────────────────────────────┼─────────────────┤\n",
              "│ max_pooling2d_7 (\u001b[38;5;33mMaxPooling2D\u001b[0m)       │ (\u001b[38;5;45mNone\u001b[0m, \u001b[38;5;34m1\u001b[0m, \u001b[38;5;34m1\u001b[0m, \u001b[38;5;34m128\u001b[0m)           │               \u001b[38;5;34m0\u001b[0m │\n",
              "├──────────────────────────────────────┼─────────────────────────────┼─────────────────┤\n",
              "│ dropout_8 (\u001b[38;5;33mDropout\u001b[0m)                  │ (\u001b[38;5;45mNone\u001b[0m, \u001b[38;5;34m1\u001b[0m, \u001b[38;5;34m1\u001b[0m, \u001b[38;5;34m128\u001b[0m)           │               \u001b[38;5;34m0\u001b[0m │\n",
              "├──────────────────────────────────────┼─────────────────────────────┼─────────────────┤\n",
              "│ flatten_1 (\u001b[38;5;33mFlatten\u001b[0m)                  │ (\u001b[38;5;45mNone\u001b[0m, \u001b[38;5;34m128\u001b[0m)                 │               \u001b[38;5;34m0\u001b[0m │\n",
              "├──────────────────────────────────────┼─────────────────────────────┼─────────────────┤\n",
              "│ dense_2 (\u001b[38;5;33mDense\u001b[0m)                      │ (\u001b[38;5;45mNone\u001b[0m, \u001b[38;5;34m256\u001b[0m)                 │          \u001b[38;5;34m33,024\u001b[0m │\n",
              "├──────────────────────────────────────┼─────────────────────────────┼─────────────────┤\n",
              "│ dropout_9 (\u001b[38;5;33mDropout\u001b[0m)                  │ (\u001b[38;5;45mNone\u001b[0m, \u001b[38;5;34m256\u001b[0m)                 │               \u001b[38;5;34m0\u001b[0m │\n",
              "├──────────────────────────────────────┼─────────────────────────────┼─────────────────┤\n",
              "│ dense_3 (\u001b[38;5;33mDense\u001b[0m)                      │ (\u001b[38;5;45mNone\u001b[0m, \u001b[38;5;34m7\u001b[0m)                   │           \u001b[38;5;34m1,799\u001b[0m │\n",
              "└──────────────────────────────────────┴─────────────────────────────┴─────────────────┘\n"
            ],
            "text/html": [
              "<pre style=\"white-space:pre;overflow-x:auto;line-height:normal;font-family:Menlo,'DejaVu Sans Mono',consolas,'Courier New',monospace\">┏━━━━━━━━━━━━━━━━━━━━━━━━━━━━━━━━━━━━━━┳━━━━━━━━━━━━━━━━━━━━━━━━━━━━━┳━━━━━━━━━━━━━━━━━┓\n",
              "┃<span style=\"font-weight: bold\"> Layer (type)                         </span>┃<span style=\"font-weight: bold\"> Output Shape                </span>┃<span style=\"font-weight: bold\">         Param # </span>┃\n",
              "┡━━━━━━━━━━━━━━━━━━━━━━━━━━━━━━━━━━━━━━╇━━━━━━━━━━━━━━━━━━━━━━━━━━━━━╇━━━━━━━━━━━━━━━━━┩\n",
              "│ conv2d_4 (<span style=\"color: #0087ff; text-decoration-color: #0087ff\">Conv2D</span>)                    │ (<span style=\"color: #00d7ff; text-decoration-color: #00d7ff\">None</span>, <span style=\"color: #00af00; text-decoration-color: #00af00\">46</span>, <span style=\"color: #00af00; text-decoration-color: #00af00\">46</span>, <span style=\"color: #00af00; text-decoration-color: #00af00\">32</span>)          │             <span style=\"color: #00af00; text-decoration-color: #00af00\">896</span> │\n",
              "├──────────────────────────────────────┼─────────────────────────────┼─────────────────┤\n",
              "│ batch_normalization_4                │ (<span style=\"color: #00d7ff; text-decoration-color: #00d7ff\">None</span>, <span style=\"color: #00af00; text-decoration-color: #00af00\">46</span>, <span style=\"color: #00af00; text-decoration-color: #00af00\">46</span>, <span style=\"color: #00af00; text-decoration-color: #00af00\">32</span>)          │             <span style=\"color: #00af00; text-decoration-color: #00af00\">128</span> │\n",
              "│ (<span style=\"color: #0087ff; text-decoration-color: #0087ff\">BatchNormalization</span>)                 │                             │                 │\n",
              "├──────────────────────────────────────┼─────────────────────────────┼─────────────────┤\n",
              "│ max_pooling2d_4 (<span style=\"color: #0087ff; text-decoration-color: #0087ff\">MaxPooling2D</span>)       │ (<span style=\"color: #00d7ff; text-decoration-color: #00d7ff\">None</span>, <span style=\"color: #00af00; text-decoration-color: #00af00\">23</span>, <span style=\"color: #00af00; text-decoration-color: #00af00\">23</span>, <span style=\"color: #00af00; text-decoration-color: #00af00\">32</span>)          │               <span style=\"color: #00af00; text-decoration-color: #00af00\">0</span> │\n",
              "├──────────────────────────────────────┼─────────────────────────────┼─────────────────┤\n",
              "│ dropout_5 (<span style=\"color: #0087ff; text-decoration-color: #0087ff\">Dropout</span>)                  │ (<span style=\"color: #00d7ff; text-decoration-color: #00d7ff\">None</span>, <span style=\"color: #00af00; text-decoration-color: #00af00\">23</span>, <span style=\"color: #00af00; text-decoration-color: #00af00\">23</span>, <span style=\"color: #00af00; text-decoration-color: #00af00\">32</span>)          │               <span style=\"color: #00af00; text-decoration-color: #00af00\">0</span> │\n",
              "├──────────────────────────────────────┼─────────────────────────────┼─────────────────┤\n",
              "│ conv2d_5 (<span style=\"color: #0087ff; text-decoration-color: #0087ff\">Conv2D</span>)                    │ (<span style=\"color: #00d7ff; text-decoration-color: #00d7ff\">None</span>, <span style=\"color: #00af00; text-decoration-color: #00af00\">21</span>, <span style=\"color: #00af00; text-decoration-color: #00af00\">21</span>, <span style=\"color: #00af00; text-decoration-color: #00af00\">64</span>)          │          <span style=\"color: #00af00; text-decoration-color: #00af00\">18,496</span> │\n",
              "├──────────────────────────────────────┼─────────────────────────────┼─────────────────┤\n",
              "│ batch_normalization_5                │ (<span style=\"color: #00d7ff; text-decoration-color: #00d7ff\">None</span>, <span style=\"color: #00af00; text-decoration-color: #00af00\">21</span>, <span style=\"color: #00af00; text-decoration-color: #00af00\">21</span>, <span style=\"color: #00af00; text-decoration-color: #00af00\">64</span>)          │             <span style=\"color: #00af00; text-decoration-color: #00af00\">256</span> │\n",
              "│ (<span style=\"color: #0087ff; text-decoration-color: #0087ff\">BatchNormalization</span>)                 │                             │                 │\n",
              "├──────────────────────────────────────┼─────────────────────────────┼─────────────────┤\n",
              "│ max_pooling2d_5 (<span style=\"color: #0087ff; text-decoration-color: #0087ff\">MaxPooling2D</span>)       │ (<span style=\"color: #00d7ff; text-decoration-color: #00d7ff\">None</span>, <span style=\"color: #00af00; text-decoration-color: #00af00\">10</span>, <span style=\"color: #00af00; text-decoration-color: #00af00\">10</span>, <span style=\"color: #00af00; text-decoration-color: #00af00\">64</span>)          │               <span style=\"color: #00af00; text-decoration-color: #00af00\">0</span> │\n",
              "├──────────────────────────────────────┼─────────────────────────────┼─────────────────┤\n",
              "│ dropout_6 (<span style=\"color: #0087ff; text-decoration-color: #0087ff\">Dropout</span>)                  │ (<span style=\"color: #00d7ff; text-decoration-color: #00d7ff\">None</span>, <span style=\"color: #00af00; text-decoration-color: #00af00\">10</span>, <span style=\"color: #00af00; text-decoration-color: #00af00\">10</span>, <span style=\"color: #00af00; text-decoration-color: #00af00\">64</span>)          │               <span style=\"color: #00af00; text-decoration-color: #00af00\">0</span> │\n",
              "├──────────────────────────────────────┼─────────────────────────────┼─────────────────┤\n",
              "│ conv2d_6 (<span style=\"color: #0087ff; text-decoration-color: #0087ff\">Conv2D</span>)                    │ (<span style=\"color: #00d7ff; text-decoration-color: #00d7ff\">None</span>, <span style=\"color: #00af00; text-decoration-color: #00af00\">8</span>, <span style=\"color: #00af00; text-decoration-color: #00af00\">8</span>, <span style=\"color: #00af00; text-decoration-color: #00af00\">128</span>)           │          <span style=\"color: #00af00; text-decoration-color: #00af00\">73,856</span> │\n",
              "├──────────────────────────────────────┼─────────────────────────────┼─────────────────┤\n",
              "│ batch_normalization_6                │ (<span style=\"color: #00d7ff; text-decoration-color: #00d7ff\">None</span>, <span style=\"color: #00af00; text-decoration-color: #00af00\">8</span>, <span style=\"color: #00af00; text-decoration-color: #00af00\">8</span>, <span style=\"color: #00af00; text-decoration-color: #00af00\">128</span>)           │             <span style=\"color: #00af00; text-decoration-color: #00af00\">512</span> │\n",
              "│ (<span style=\"color: #0087ff; text-decoration-color: #0087ff\">BatchNormalization</span>)                 │                             │                 │\n",
              "├──────────────────────────────────────┼─────────────────────────────┼─────────────────┤\n",
              "│ max_pooling2d_6 (<span style=\"color: #0087ff; text-decoration-color: #0087ff\">MaxPooling2D</span>)       │ (<span style=\"color: #00d7ff; text-decoration-color: #00d7ff\">None</span>, <span style=\"color: #00af00; text-decoration-color: #00af00\">4</span>, <span style=\"color: #00af00; text-decoration-color: #00af00\">4</span>, <span style=\"color: #00af00; text-decoration-color: #00af00\">128</span>)           │               <span style=\"color: #00af00; text-decoration-color: #00af00\">0</span> │\n",
              "├──────────────────────────────────────┼─────────────────────────────┼─────────────────┤\n",
              "│ dropout_7 (<span style=\"color: #0087ff; text-decoration-color: #0087ff\">Dropout</span>)                  │ (<span style=\"color: #00d7ff; text-decoration-color: #00d7ff\">None</span>, <span style=\"color: #00af00; text-decoration-color: #00af00\">4</span>, <span style=\"color: #00af00; text-decoration-color: #00af00\">4</span>, <span style=\"color: #00af00; text-decoration-color: #00af00\">128</span>)           │               <span style=\"color: #00af00; text-decoration-color: #00af00\">0</span> │\n",
              "├──────────────────────────────────────┼─────────────────────────────┼─────────────────┤\n",
              "│ conv2d_7 (<span style=\"color: #0087ff; text-decoration-color: #0087ff\">Conv2D</span>)                    │ (<span style=\"color: #00d7ff; text-decoration-color: #00d7ff\">None</span>, <span style=\"color: #00af00; text-decoration-color: #00af00\">2</span>, <span style=\"color: #00af00; text-decoration-color: #00af00\">2</span>, <span style=\"color: #00af00; text-decoration-color: #00af00\">128</span>)           │         <span style=\"color: #00af00; text-decoration-color: #00af00\">147,584</span> │\n",
              "├──────────────────────────────────────┼─────────────────────────────┼─────────────────┤\n",
              "│ batch_normalization_7                │ (<span style=\"color: #00d7ff; text-decoration-color: #00d7ff\">None</span>, <span style=\"color: #00af00; text-decoration-color: #00af00\">2</span>, <span style=\"color: #00af00; text-decoration-color: #00af00\">2</span>, <span style=\"color: #00af00; text-decoration-color: #00af00\">128</span>)           │             <span style=\"color: #00af00; text-decoration-color: #00af00\">512</span> │\n",
              "│ (<span style=\"color: #0087ff; text-decoration-color: #0087ff\">BatchNormalization</span>)                 │                             │                 │\n",
              "├──────────────────────────────────────┼─────────────────────────────┼─────────────────┤\n",
              "│ max_pooling2d_7 (<span style=\"color: #0087ff; text-decoration-color: #0087ff\">MaxPooling2D</span>)       │ (<span style=\"color: #00d7ff; text-decoration-color: #00d7ff\">None</span>, <span style=\"color: #00af00; text-decoration-color: #00af00\">1</span>, <span style=\"color: #00af00; text-decoration-color: #00af00\">1</span>, <span style=\"color: #00af00; text-decoration-color: #00af00\">128</span>)           │               <span style=\"color: #00af00; text-decoration-color: #00af00\">0</span> │\n",
              "├──────────────────────────────────────┼─────────────────────────────┼─────────────────┤\n",
              "│ dropout_8 (<span style=\"color: #0087ff; text-decoration-color: #0087ff\">Dropout</span>)                  │ (<span style=\"color: #00d7ff; text-decoration-color: #00d7ff\">None</span>, <span style=\"color: #00af00; text-decoration-color: #00af00\">1</span>, <span style=\"color: #00af00; text-decoration-color: #00af00\">1</span>, <span style=\"color: #00af00; text-decoration-color: #00af00\">128</span>)           │               <span style=\"color: #00af00; text-decoration-color: #00af00\">0</span> │\n",
              "├──────────────────────────────────────┼─────────────────────────────┼─────────────────┤\n",
              "│ flatten_1 (<span style=\"color: #0087ff; text-decoration-color: #0087ff\">Flatten</span>)                  │ (<span style=\"color: #00d7ff; text-decoration-color: #00d7ff\">None</span>, <span style=\"color: #00af00; text-decoration-color: #00af00\">128</span>)                 │               <span style=\"color: #00af00; text-decoration-color: #00af00\">0</span> │\n",
              "├──────────────────────────────────────┼─────────────────────────────┼─────────────────┤\n",
              "│ dense_2 (<span style=\"color: #0087ff; text-decoration-color: #0087ff\">Dense</span>)                      │ (<span style=\"color: #00d7ff; text-decoration-color: #00d7ff\">None</span>, <span style=\"color: #00af00; text-decoration-color: #00af00\">256</span>)                 │          <span style=\"color: #00af00; text-decoration-color: #00af00\">33,024</span> │\n",
              "├──────────────────────────────────────┼─────────────────────────────┼─────────────────┤\n",
              "│ dropout_9 (<span style=\"color: #0087ff; text-decoration-color: #0087ff\">Dropout</span>)                  │ (<span style=\"color: #00d7ff; text-decoration-color: #00d7ff\">None</span>, <span style=\"color: #00af00; text-decoration-color: #00af00\">256</span>)                 │               <span style=\"color: #00af00; text-decoration-color: #00af00\">0</span> │\n",
              "├──────────────────────────────────────┼─────────────────────────────┼─────────────────┤\n",
              "│ dense_3 (<span style=\"color: #0087ff; text-decoration-color: #0087ff\">Dense</span>)                      │ (<span style=\"color: #00d7ff; text-decoration-color: #00d7ff\">None</span>, <span style=\"color: #00af00; text-decoration-color: #00af00\">7</span>)                   │           <span style=\"color: #00af00; text-decoration-color: #00af00\">1,799</span> │\n",
              "└──────────────────────────────────────┴─────────────────────────────┴─────────────────┘\n",
              "</pre>\n"
            ]
          },
          "metadata": {}
        },
        {
          "output_type": "display_data",
          "data": {
            "text/plain": [
              "\u001b[1m Total params: \u001b[0m\u001b[38;5;34m277,063\u001b[0m (1.06 MB)\n"
            ],
            "text/html": [
              "<pre style=\"white-space:pre;overflow-x:auto;line-height:normal;font-family:Menlo,'DejaVu Sans Mono',consolas,'Courier New',monospace\"><span style=\"font-weight: bold\"> Total params: </span><span style=\"color: #00af00; text-decoration-color: #00af00\">277,063</span> (1.06 MB)\n",
              "</pre>\n"
            ]
          },
          "metadata": {}
        },
        {
          "output_type": "display_data",
          "data": {
            "text/plain": [
              "\u001b[1m Trainable params: \u001b[0m\u001b[38;5;34m276,359\u001b[0m (1.05 MB)\n"
            ],
            "text/html": [
              "<pre style=\"white-space:pre;overflow-x:auto;line-height:normal;font-family:Menlo,'DejaVu Sans Mono',consolas,'Courier New',monospace\"><span style=\"font-weight: bold\"> Trainable params: </span><span style=\"color: #00af00; text-decoration-color: #00af00\">276,359</span> (1.05 MB)\n",
              "</pre>\n"
            ]
          },
          "metadata": {}
        },
        {
          "output_type": "display_data",
          "data": {
            "text/plain": [
              "\u001b[1m Non-trainable params: \u001b[0m\u001b[38;5;34m704\u001b[0m (2.75 KB)\n"
            ],
            "text/html": [
              "<pre style=\"white-space:pre;overflow-x:auto;line-height:normal;font-family:Menlo,'DejaVu Sans Mono',consolas,'Courier New',monospace\"><span style=\"font-weight: bold\"> Non-trainable params: </span><span style=\"color: #00af00; text-decoration-color: #00af00\">704</span> (2.75 KB)\n",
              "</pre>\n"
            ]
          },
          "metadata": {}
        }
      ]
    },
    {
      "cell_type": "code",
      "source": [],
      "metadata": {
        "id": "MSVRW6ex3U0k"
      },
      "execution_count": null,
      "outputs": []
    },
    {
      "cell_type": "code",
      "source": [],
      "metadata": {
        "id": "X_ibOYxB3Ucl"
      },
      "execution_count": null,
      "outputs": []
    },
    {
      "cell_type": "markdown",
      "source": [
        "Now train_images and test_images are ready to be used in the machine learning model."
      ],
      "metadata": {
        "id": "hX0GP24cblf_"
      }
    },
    {
      "cell_type": "markdown",
      "source": [
        "**MODEL CREATION**"
      ],
      "metadata": {
        "id": "gJ0Zs4RGtBa7"
      }
    },
    {
      "cell_type": "markdown",
      "source": [
        "**Data Generating**<br>\n",
        "Data generation is done to diversify the training data, thereby enhancing the model's generalization ability and preventing overfitting."
      ],
      "metadata": {
        "id": "7aYGxv1pvS6s"
      }
    },
    {
      "cell_type": "code",
      "source": [
        "from tensorflow.keras.preprocessing.image import ImageDataGenerator\n",
        "\n",
        "# Data augmentation and normalization for training\n",
        "train_datagen = ImageDataGenerator(\n",
        "    rescale=1./255,\n",
        "    shear_range=0.2,\n",
        "    zoom_range=0.2,\n",
        "    horizontal_flip=True\n",
        ")\n",
        "\n",
        "# Normalization for validation (or test) data\n",
        "test_datagen = ImageDataGenerator(rescale=1./255)\n",
        "\n",
        "# Assuming your training data is in 'train_dir' and validation data is in 'val_dir'\n",
        "train_generator = train_datagen.flow_from_directory(\n",
        "    '/content/images/images/train',\n",
        "    target_size=(150, 150),\n",
        "    batch_size=32,\n",
        "    class_mode='binary'\n",
        ")\n",
        "\n",
        "validation_generator = test_datagen.flow_from_directory(\n",
        "    '/content/images/images/validation',\n",
        "    target_size=(150, 150),\n",
        "    batch_size=32,\n",
        "    class_mode='binary'\n",
        ")\n",
        "\n",
        "class_labels = train_generator.class_indices\n",
        "print(\"Class labels:\", class_labels)\n",
        "\n",
        "class_labels = validation_generator.class_indices\n",
        "print(\"Class labels:\", class_labels)"
      ],
      "metadata": {
        "id": "txS3FvzvuE1G"
      },
      "execution_count": null,
      "outputs": []
    },
    {
      "cell_type": "markdown",
      "source": [
        "**Weight calculation**"
      ],
      "metadata": {
        "id": "pLj6iuelvDcg"
      }
    },
    {
      "cell_type": "code",
      "source": [
        "import pandas as pd\n",
        "from prettytable import PrettyTable\n",
        "from keras import models, layers, callbacks\n",
        "\n",
        "#get class indices and labels. calculate class weight\n",
        "label_map = {}\n",
        "for k, v in train_generator.class_indices.items():\n",
        "    label_map[v] = k\n",
        "\n",
        "class_counts = pd.Series(train_generator.classes).value_counts()\n",
        "class_weight = {}\n",
        "\n",
        "for i, c in class_counts.items():\n",
        "    class_weight[i] = 1.0 / c\n",
        "\n",
        "norm_factor = np.mean(list(class_weight.values()))\n",
        "\n",
        "for k in class_counts.keys():\n",
        "    class_weight[k] = class_weight[k] / norm_factor\n",
        "\n",
        "t = PrettyTable(['class_index', 'class_label', 'class_weight'])\n",
        "for i in sorted(class_weight.keys()):\n",
        "    t.add_row([i, label_map[i], '{:.2f}'.format(class_weight[i])])\n",
        "print(t)\n",
        "\n",
        "model = models.Sequential()"
      ],
      "metadata": {
        "id": "A1WJToEgpVAL"
      },
      "execution_count": null,
      "outputs": []
    },
    {
      "cell_type": "markdown",
      "source": [
        "#**CNN**"
      ],
      "metadata": {
        "id": "2kCQZFDaicY0"
      }
    },
    {
      "cell_type": "code",
      "source": [
        "import tensorflow as tf\n",
        "model = tf.keras.Sequential([\n",
        "    tf.keras.layers.Conv2D(16, (3, 3), activation = 'relu', input_shape = (48, 48, 1)),\n",
        "    tf.keras.layers.BatchNormalization(),\n",
        "    tf.keras.layers.MaxPooling2D(2,2),\n",
        "    tf.keras.layers.Dropout(0.2),\n",
        "\n",
        "    tf.keras.layers.Conv2D(32, (3, 3), activation = 'relu'),\n",
        "    tf.keras.layers.BatchNormalization(),\n",
        "    tf.keras.layers.MaxPooling2D(2,2),\n",
        "    tf.keras.layers.Dropout(0.2),\n",
        "\n",
        "    tf.keras.layers.Conv2D(64, (3, 3), activation = 'relu'),\n",
        "    tf.keras.layers.BatchNormalization(),\n",
        "    tf.keras.layers.MaxPooling2D(2,2),\n",
        "    tf.keras.layers.Dropout(0.2),\n",
        "\n",
        "    tf.keras.layers.Conv2D(128, (3, 3), activation = 'relu'),\n",
        "    tf.keras.layers.BatchNormalization(),\n",
        "    tf.keras.layers.MaxPooling2D(2,2),\n",
        "    tf.keras.layers.Dropout(0.2),\n",
        "\n",
        "    tf.keras.layers.Flatten(),\n",
        "    tf.keras.layers.Dense(128, activation='relu'),\n",
        "    tf.keras.layers.Dropout(0.2),\n",
        "\n",
        "    tf.keras.layers.Dense(7, activation='softmax')\n",
        "])\n",
        "\n",
        "model.compile(optimizer = 'adam', loss = 'sparse_categorical_crossentropy', metrics=['accuracy'])\n",
        "model.summary()"
      ],
      "metadata": {
        "id": "Kgzv8ixticGC"
      },
      "execution_count": null,
      "outputs": []
    },
    {
      "cell_type": "markdown",
      "source": [
        "**Shuffling the data set** (for the model to generalize better)\n"
      ],
      "metadata": {
        "id": "1m1Hy2rlzjHx"
      }
    },
    {
      "cell_type": "code",
      "source": [
        "permutation  = np.random.permutation(len(images))\n",
        "\n",
        "shuffled_images = images[permutation]\n",
        "shuffled_labels = labels[permutation]"
      ],
      "metadata": {
        "colab": {
          "base_uri": "https://localhost:8080/",
          "height": 193
        },
        "id": "eqTlWNdozirc",
        "outputId": "4afbbffa-acfd-43d6-8c91-2417c1cd1155"
      },
      "execution_count": null,
      "outputs": [
        {
          "output_type": "error",
          "ename": "NameError",
          "evalue": "name 'images' is not defined",
          "traceback": [
            "\u001b[0;31m---------------------------------------------------------------------------\u001b[0m",
            "\u001b[0;31mNameError\u001b[0m                                 Traceback (most recent call last)",
            "\u001b[0;32m<ipython-input-18-cb6c3fc01e5c>\u001b[0m in \u001b[0;36m<cell line: 1>\u001b[0;34m()\u001b[0m\n\u001b[0;32m----> 1\u001b[0;31m \u001b[0mpermutation\u001b[0m  \u001b[0;34m=\u001b[0m \u001b[0mnp\u001b[0m\u001b[0;34m.\u001b[0m\u001b[0mrandom\u001b[0m\u001b[0;34m.\u001b[0m\u001b[0mpermutation\u001b[0m\u001b[0;34m(\u001b[0m\u001b[0mlen\u001b[0m\u001b[0;34m(\u001b[0m\u001b[0mimages\u001b[0m\u001b[0;34m)\u001b[0m\u001b[0;34m)\u001b[0m\u001b[0;34m\u001b[0m\u001b[0;34m\u001b[0m\u001b[0m\n\u001b[0m\u001b[1;32m      2\u001b[0m \u001b[0;34m\u001b[0m\u001b[0m\n\u001b[1;32m      3\u001b[0m \u001b[0mshuffled_images\u001b[0m \u001b[0;34m=\u001b[0m \u001b[0mimages\u001b[0m\u001b[0;34m[\u001b[0m\u001b[0mpermutation\u001b[0m\u001b[0;34m]\u001b[0m\u001b[0;34m\u001b[0m\u001b[0;34m\u001b[0m\u001b[0m\n\u001b[1;32m      4\u001b[0m \u001b[0mshuffled_labels\u001b[0m \u001b[0;34m=\u001b[0m \u001b[0mlabels\u001b[0m\u001b[0;34m[\u001b[0m\u001b[0mpermutation\u001b[0m\u001b[0;34m]\u001b[0m\u001b[0;34m\u001b[0m\u001b[0;34m\u001b[0m\u001b[0m\n",
            "\u001b[0;31mNameError\u001b[0m: name 'images' is not defined"
          ]
        }
      ]
    },
    {
      "cell_type": "code",
      "source": [
        "from tensorflow.keras.callbacks import ModelCheckpoint\n",
        "checkpoint = ModelCheckpoint('best_model.keras', monitor='val_loss', save_best_only=True, mode='min')\n",
        "\n",
        "history = model.fit(train_images, train_labels, steps_per_epoch=50, epochs=30, callbacks=[checkpoint], validation_split = 0.1, verbose=1)"
      ],
      "metadata": {
        "colab": {
          "base_uri": "https://localhost:8080/",
          "height": 356
        },
        "id": "9NSYYiFOib74",
        "outputId": "26836079-59c8-4c74-a315-7f313c3e32f2"
      },
      "execution_count": null,
      "outputs": [
        {
          "output_type": "stream",
          "name": "stdout",
          "text": [
            "Epoch 1/30\n",
            " 2/50 [>.............................] - ETA: 46s - loss: 2.8897 - accuracy: 0.1370 "
          ]
        },
        {
          "output_type": "error",
          "ename": "KeyboardInterrupt",
          "evalue": "",
          "traceback": [
            "\u001b[0;31m---------------------------------------------------------------------------\u001b[0m",
            "\u001b[0;31mKeyboardInterrupt\u001b[0m                         Traceback (most recent call last)",
            "\u001b[0;32m<ipython-input-17-5679096b9470>\u001b[0m in \u001b[0;36m<cell line: 4>\u001b[0;34m()\u001b[0m\n\u001b[1;32m      2\u001b[0m \u001b[0mcheckpoint\u001b[0m \u001b[0;34m=\u001b[0m \u001b[0mModelCheckpoint\u001b[0m\u001b[0;34m(\u001b[0m\u001b[0;34m'best_model.keras'\u001b[0m\u001b[0;34m,\u001b[0m \u001b[0mmonitor\u001b[0m\u001b[0;34m=\u001b[0m\u001b[0;34m'val_loss'\u001b[0m\u001b[0;34m,\u001b[0m \u001b[0msave_best_only\u001b[0m\u001b[0;34m=\u001b[0m\u001b[0;32mTrue\u001b[0m\u001b[0;34m,\u001b[0m \u001b[0mmode\u001b[0m\u001b[0;34m=\u001b[0m\u001b[0;34m'min'\u001b[0m\u001b[0;34m)\u001b[0m\u001b[0;34m\u001b[0m\u001b[0;34m\u001b[0m\u001b[0m\n\u001b[1;32m      3\u001b[0m \u001b[0;34m\u001b[0m\u001b[0m\n\u001b[0;32m----> 4\u001b[0;31m \u001b[0mhistory\u001b[0m \u001b[0;34m=\u001b[0m \u001b[0mmodel\u001b[0m\u001b[0;34m.\u001b[0m\u001b[0mfit\u001b[0m\u001b[0;34m(\u001b[0m\u001b[0mtrain_images\u001b[0m\u001b[0;34m,\u001b[0m \u001b[0mtrain_labels\u001b[0m\u001b[0;34m,\u001b[0m \u001b[0msteps_per_epoch\u001b[0m\u001b[0;34m=\u001b[0m\u001b[0;36m50\u001b[0m\u001b[0;34m,\u001b[0m \u001b[0mepochs\u001b[0m\u001b[0;34m=\u001b[0m\u001b[0;36m30\u001b[0m\u001b[0;34m,\u001b[0m \u001b[0mcallbacks\u001b[0m\u001b[0;34m=\u001b[0m\u001b[0;34m[\u001b[0m\u001b[0mcheckpoint\u001b[0m\u001b[0;34m]\u001b[0m\u001b[0;34m,\u001b[0m \u001b[0mvalidation_split\u001b[0m \u001b[0;34m=\u001b[0m \u001b[0;36m0.1\u001b[0m\u001b[0;34m,\u001b[0m \u001b[0mverbose\u001b[0m\u001b[0;34m=\u001b[0m\u001b[0;36m1\u001b[0m\u001b[0;34m)\u001b[0m\u001b[0;34m\u001b[0m\u001b[0;34m\u001b[0m\u001b[0m\n\u001b[0m",
            "\u001b[0;32m/usr/local/lib/python3.10/dist-packages/keras/src/utils/traceback_utils.py\u001b[0m in \u001b[0;36merror_handler\u001b[0;34m(*args, **kwargs)\u001b[0m\n\u001b[1;32m     63\u001b[0m         \u001b[0mfiltered_tb\u001b[0m \u001b[0;34m=\u001b[0m \u001b[0;32mNone\u001b[0m\u001b[0;34m\u001b[0m\u001b[0;34m\u001b[0m\u001b[0m\n\u001b[1;32m     64\u001b[0m         \u001b[0;32mtry\u001b[0m\u001b[0;34m:\u001b[0m\u001b[0;34m\u001b[0m\u001b[0;34m\u001b[0m\u001b[0m\n\u001b[0;32m---> 65\u001b[0;31m             \u001b[0;32mreturn\u001b[0m \u001b[0mfn\u001b[0m\u001b[0;34m(\u001b[0m\u001b[0;34m*\u001b[0m\u001b[0margs\u001b[0m\u001b[0;34m,\u001b[0m \u001b[0;34m**\u001b[0m\u001b[0mkwargs\u001b[0m\u001b[0;34m)\u001b[0m\u001b[0;34m\u001b[0m\u001b[0;34m\u001b[0m\u001b[0m\n\u001b[0m\u001b[1;32m     66\u001b[0m         \u001b[0;32mexcept\u001b[0m \u001b[0mException\u001b[0m \u001b[0;32mas\u001b[0m \u001b[0me\u001b[0m\u001b[0;34m:\u001b[0m\u001b[0;34m\u001b[0m\u001b[0;34m\u001b[0m\u001b[0m\n\u001b[1;32m     67\u001b[0m             \u001b[0mfiltered_tb\u001b[0m \u001b[0;34m=\u001b[0m \u001b[0m_process_traceback_frames\u001b[0m\u001b[0;34m(\u001b[0m\u001b[0me\u001b[0m\u001b[0;34m.\u001b[0m\u001b[0m__traceback__\u001b[0m\u001b[0;34m)\u001b[0m\u001b[0;34m\u001b[0m\u001b[0;34m\u001b[0m\u001b[0m\n",
            "\u001b[0;32m/usr/local/lib/python3.10/dist-packages/keras/src/engine/training.py\u001b[0m in \u001b[0;36mfit\u001b[0;34m(self, x, y, batch_size, epochs, verbose, callbacks, validation_split, validation_data, shuffle, class_weight, sample_weight, initial_epoch, steps_per_epoch, validation_steps, validation_batch_size, validation_freq, max_queue_size, workers, use_multiprocessing)\u001b[0m\n\u001b[1;32m   1805\u001b[0m                         ):\n\u001b[1;32m   1806\u001b[0m                             \u001b[0mcallbacks\u001b[0m\u001b[0;34m.\u001b[0m\u001b[0mon_train_batch_begin\u001b[0m\u001b[0;34m(\u001b[0m\u001b[0mstep\u001b[0m\u001b[0;34m)\u001b[0m\u001b[0;34m\u001b[0m\u001b[0;34m\u001b[0m\u001b[0m\n\u001b[0;32m-> 1807\u001b[0;31m                             \u001b[0mtmp_logs\u001b[0m \u001b[0;34m=\u001b[0m \u001b[0mself\u001b[0m\u001b[0;34m.\u001b[0m\u001b[0mtrain_function\u001b[0m\u001b[0;34m(\u001b[0m\u001b[0miterator\u001b[0m\u001b[0;34m)\u001b[0m\u001b[0;34m\u001b[0m\u001b[0;34m\u001b[0m\u001b[0m\n\u001b[0m\u001b[1;32m   1808\u001b[0m                             \u001b[0;32mif\u001b[0m \u001b[0mdata_handler\u001b[0m\u001b[0;34m.\u001b[0m\u001b[0mshould_sync\u001b[0m\u001b[0;34m:\u001b[0m\u001b[0;34m\u001b[0m\u001b[0;34m\u001b[0m\u001b[0m\n\u001b[1;32m   1809\u001b[0m                                 \u001b[0mcontext\u001b[0m\u001b[0;34m.\u001b[0m\u001b[0masync_wait\u001b[0m\u001b[0;34m(\u001b[0m\u001b[0;34m)\u001b[0m\u001b[0;34m\u001b[0m\u001b[0;34m\u001b[0m\u001b[0m\n",
            "\u001b[0;32m/usr/local/lib/python3.10/dist-packages/tensorflow/python/util/traceback_utils.py\u001b[0m in \u001b[0;36merror_handler\u001b[0;34m(*args, **kwargs)\u001b[0m\n\u001b[1;32m    148\u001b[0m     \u001b[0mfiltered_tb\u001b[0m \u001b[0;34m=\u001b[0m \u001b[0;32mNone\u001b[0m\u001b[0;34m\u001b[0m\u001b[0;34m\u001b[0m\u001b[0m\n\u001b[1;32m    149\u001b[0m     \u001b[0;32mtry\u001b[0m\u001b[0;34m:\u001b[0m\u001b[0;34m\u001b[0m\u001b[0;34m\u001b[0m\u001b[0m\n\u001b[0;32m--> 150\u001b[0;31m       \u001b[0;32mreturn\u001b[0m \u001b[0mfn\u001b[0m\u001b[0;34m(\u001b[0m\u001b[0;34m*\u001b[0m\u001b[0margs\u001b[0m\u001b[0;34m,\u001b[0m \u001b[0;34m**\u001b[0m\u001b[0mkwargs\u001b[0m\u001b[0;34m)\u001b[0m\u001b[0;34m\u001b[0m\u001b[0;34m\u001b[0m\u001b[0m\n\u001b[0m\u001b[1;32m    151\u001b[0m     \u001b[0;32mexcept\u001b[0m \u001b[0mException\u001b[0m \u001b[0;32mas\u001b[0m \u001b[0me\u001b[0m\u001b[0;34m:\u001b[0m\u001b[0;34m\u001b[0m\u001b[0;34m\u001b[0m\u001b[0m\n\u001b[1;32m    152\u001b[0m       \u001b[0mfiltered_tb\u001b[0m \u001b[0;34m=\u001b[0m \u001b[0m_process_traceback_frames\u001b[0m\u001b[0;34m(\u001b[0m\u001b[0me\u001b[0m\u001b[0;34m.\u001b[0m\u001b[0m__traceback__\u001b[0m\u001b[0;34m)\u001b[0m\u001b[0;34m\u001b[0m\u001b[0;34m\u001b[0m\u001b[0m\n",
            "\u001b[0;32m/usr/local/lib/python3.10/dist-packages/tensorflow/python/eager/polymorphic_function/polymorphic_function.py\u001b[0m in \u001b[0;36m__call__\u001b[0;34m(self, *args, **kwds)\u001b[0m\n\u001b[1;32m    830\u001b[0m \u001b[0;34m\u001b[0m\u001b[0m\n\u001b[1;32m    831\u001b[0m       \u001b[0;32mwith\u001b[0m \u001b[0mOptionalXlaContext\u001b[0m\u001b[0;34m(\u001b[0m\u001b[0mself\u001b[0m\u001b[0;34m.\u001b[0m\u001b[0m_jit_compile\u001b[0m\u001b[0;34m)\u001b[0m\u001b[0;34m:\u001b[0m\u001b[0;34m\u001b[0m\u001b[0;34m\u001b[0m\u001b[0m\n\u001b[0;32m--> 832\u001b[0;31m         \u001b[0mresult\u001b[0m \u001b[0;34m=\u001b[0m \u001b[0mself\u001b[0m\u001b[0;34m.\u001b[0m\u001b[0m_call\u001b[0m\u001b[0;34m(\u001b[0m\u001b[0;34m*\u001b[0m\u001b[0margs\u001b[0m\u001b[0;34m,\u001b[0m \u001b[0;34m**\u001b[0m\u001b[0mkwds\u001b[0m\u001b[0;34m)\u001b[0m\u001b[0;34m\u001b[0m\u001b[0;34m\u001b[0m\u001b[0m\n\u001b[0m\u001b[1;32m    833\u001b[0m \u001b[0;34m\u001b[0m\u001b[0m\n\u001b[1;32m    834\u001b[0m       \u001b[0mnew_tracing_count\u001b[0m \u001b[0;34m=\u001b[0m \u001b[0mself\u001b[0m\u001b[0;34m.\u001b[0m\u001b[0mexperimental_get_tracing_count\u001b[0m\u001b[0;34m(\u001b[0m\u001b[0;34m)\u001b[0m\u001b[0;34m\u001b[0m\u001b[0;34m\u001b[0m\u001b[0m\n",
            "\u001b[0;32m/usr/local/lib/python3.10/dist-packages/tensorflow/python/eager/polymorphic_function/polymorphic_function.py\u001b[0m in \u001b[0;36m_call\u001b[0;34m(self, *args, **kwds)\u001b[0m\n\u001b[1;32m    866\u001b[0m       \u001b[0;31m# In this case we have created variables on the first call, so we run the\u001b[0m\u001b[0;34m\u001b[0m\u001b[0;34m\u001b[0m\u001b[0m\n\u001b[1;32m    867\u001b[0m       \u001b[0;31m# defunned version which is guaranteed to never create variables.\u001b[0m\u001b[0;34m\u001b[0m\u001b[0;34m\u001b[0m\u001b[0m\n\u001b[0;32m--> 868\u001b[0;31m       return tracing_compilation.call_function(\n\u001b[0m\u001b[1;32m    869\u001b[0m           \u001b[0margs\u001b[0m\u001b[0;34m,\u001b[0m \u001b[0mkwds\u001b[0m\u001b[0;34m,\u001b[0m \u001b[0mself\u001b[0m\u001b[0;34m.\u001b[0m\u001b[0m_no_variable_creation_config\u001b[0m\u001b[0;34m\u001b[0m\u001b[0;34m\u001b[0m\u001b[0m\n\u001b[1;32m    870\u001b[0m       )\n",
            "\u001b[0;32m/usr/local/lib/python3.10/dist-packages/tensorflow/python/eager/polymorphic_function/tracing_compilation.py\u001b[0m in \u001b[0;36mcall_function\u001b[0;34m(args, kwargs, tracing_options)\u001b[0m\n\u001b[1;32m    137\u001b[0m   \u001b[0mbound_args\u001b[0m \u001b[0;34m=\u001b[0m \u001b[0mfunction\u001b[0m\u001b[0;34m.\u001b[0m\u001b[0mfunction_type\u001b[0m\u001b[0;34m.\u001b[0m\u001b[0mbind\u001b[0m\u001b[0;34m(\u001b[0m\u001b[0;34m*\u001b[0m\u001b[0margs\u001b[0m\u001b[0;34m,\u001b[0m \u001b[0;34m**\u001b[0m\u001b[0mkwargs\u001b[0m\u001b[0;34m)\u001b[0m\u001b[0;34m\u001b[0m\u001b[0;34m\u001b[0m\u001b[0m\n\u001b[1;32m    138\u001b[0m   \u001b[0mflat_inputs\u001b[0m \u001b[0;34m=\u001b[0m \u001b[0mfunction\u001b[0m\u001b[0;34m.\u001b[0m\u001b[0mfunction_type\u001b[0m\u001b[0;34m.\u001b[0m\u001b[0munpack_inputs\u001b[0m\u001b[0;34m(\u001b[0m\u001b[0mbound_args\u001b[0m\u001b[0;34m)\u001b[0m\u001b[0;34m\u001b[0m\u001b[0;34m\u001b[0m\u001b[0m\n\u001b[0;32m--> 139\u001b[0;31m   return function._call_flat(  # pylint: disable=protected-access\n\u001b[0m\u001b[1;32m    140\u001b[0m       \u001b[0mflat_inputs\u001b[0m\u001b[0;34m,\u001b[0m \u001b[0mcaptured_inputs\u001b[0m\u001b[0;34m=\u001b[0m\u001b[0mfunction\u001b[0m\u001b[0;34m.\u001b[0m\u001b[0mcaptured_inputs\u001b[0m\u001b[0;34m\u001b[0m\u001b[0;34m\u001b[0m\u001b[0m\n\u001b[1;32m    141\u001b[0m   )\n",
            "\u001b[0;32m/usr/local/lib/python3.10/dist-packages/tensorflow/python/eager/polymorphic_function/concrete_function.py\u001b[0m in \u001b[0;36m_call_flat\u001b[0;34m(self, tensor_inputs, captured_inputs)\u001b[0m\n\u001b[1;32m   1321\u001b[0m         and executing_eagerly):\n\u001b[1;32m   1322\u001b[0m       \u001b[0;31m# No tape is watching; skip to running the function.\u001b[0m\u001b[0;34m\u001b[0m\u001b[0;34m\u001b[0m\u001b[0m\n\u001b[0;32m-> 1323\u001b[0;31m       \u001b[0;32mreturn\u001b[0m \u001b[0mself\u001b[0m\u001b[0;34m.\u001b[0m\u001b[0m_inference_function\u001b[0m\u001b[0;34m.\u001b[0m\u001b[0mcall_preflattened\u001b[0m\u001b[0;34m(\u001b[0m\u001b[0margs\u001b[0m\u001b[0;34m)\u001b[0m\u001b[0;34m\u001b[0m\u001b[0;34m\u001b[0m\u001b[0m\n\u001b[0m\u001b[1;32m   1324\u001b[0m     forward_backward = self._select_forward_and_backward_functions(\n\u001b[1;32m   1325\u001b[0m         \u001b[0margs\u001b[0m\u001b[0;34m,\u001b[0m\u001b[0;34m\u001b[0m\u001b[0;34m\u001b[0m\u001b[0m\n",
            "\u001b[0;32m/usr/local/lib/python3.10/dist-packages/tensorflow/python/eager/polymorphic_function/atomic_function.py\u001b[0m in \u001b[0;36mcall_preflattened\u001b[0;34m(self, args)\u001b[0m\n\u001b[1;32m    214\u001b[0m   \u001b[0;32mdef\u001b[0m \u001b[0mcall_preflattened\u001b[0m\u001b[0;34m(\u001b[0m\u001b[0mself\u001b[0m\u001b[0;34m,\u001b[0m \u001b[0margs\u001b[0m\u001b[0;34m:\u001b[0m \u001b[0mSequence\u001b[0m\u001b[0;34m[\u001b[0m\u001b[0mcore\u001b[0m\u001b[0;34m.\u001b[0m\u001b[0mTensor\u001b[0m\u001b[0;34m]\u001b[0m\u001b[0;34m)\u001b[0m \u001b[0;34m->\u001b[0m \u001b[0mAny\u001b[0m\u001b[0;34m:\u001b[0m\u001b[0;34m\u001b[0m\u001b[0;34m\u001b[0m\u001b[0m\n\u001b[1;32m    215\u001b[0m     \u001b[0;34m\"\"\"Calls with flattened tensor inputs and returns the structured output.\"\"\"\u001b[0m\u001b[0;34m\u001b[0m\u001b[0;34m\u001b[0m\u001b[0m\n\u001b[0;32m--> 216\u001b[0;31m     \u001b[0mflat_outputs\u001b[0m \u001b[0;34m=\u001b[0m \u001b[0mself\u001b[0m\u001b[0;34m.\u001b[0m\u001b[0mcall_flat\u001b[0m\u001b[0;34m(\u001b[0m\u001b[0;34m*\u001b[0m\u001b[0margs\u001b[0m\u001b[0;34m)\u001b[0m\u001b[0;34m\u001b[0m\u001b[0;34m\u001b[0m\u001b[0m\n\u001b[0m\u001b[1;32m    217\u001b[0m     \u001b[0;32mreturn\u001b[0m \u001b[0mself\u001b[0m\u001b[0;34m.\u001b[0m\u001b[0mfunction_type\u001b[0m\u001b[0;34m.\u001b[0m\u001b[0mpack_output\u001b[0m\u001b[0;34m(\u001b[0m\u001b[0mflat_outputs\u001b[0m\u001b[0;34m)\u001b[0m\u001b[0;34m\u001b[0m\u001b[0;34m\u001b[0m\u001b[0m\n\u001b[1;32m    218\u001b[0m \u001b[0;34m\u001b[0m\u001b[0m\n",
            "\u001b[0;32m/usr/local/lib/python3.10/dist-packages/tensorflow/python/eager/polymorphic_function/atomic_function.py\u001b[0m in \u001b[0;36mcall_flat\u001b[0;34m(self, *args)\u001b[0m\n\u001b[1;32m    249\u001b[0m         \u001b[0;32mwith\u001b[0m \u001b[0mrecord\u001b[0m\u001b[0;34m.\u001b[0m\u001b[0mstop_recording\u001b[0m\u001b[0;34m(\u001b[0m\u001b[0;34m)\u001b[0m\u001b[0;34m:\u001b[0m\u001b[0;34m\u001b[0m\u001b[0;34m\u001b[0m\u001b[0m\n\u001b[1;32m    250\u001b[0m           \u001b[0;32mif\u001b[0m \u001b[0mself\u001b[0m\u001b[0;34m.\u001b[0m\u001b[0m_bound_context\u001b[0m\u001b[0;34m.\u001b[0m\u001b[0mexecuting_eagerly\u001b[0m\u001b[0;34m(\u001b[0m\u001b[0;34m)\u001b[0m\u001b[0;34m:\u001b[0m\u001b[0;34m\u001b[0m\u001b[0;34m\u001b[0m\u001b[0m\n\u001b[0;32m--> 251\u001b[0;31m             outputs = self._bound_context.call_function(\n\u001b[0m\u001b[1;32m    252\u001b[0m                 \u001b[0mself\u001b[0m\u001b[0;34m.\u001b[0m\u001b[0mname\u001b[0m\u001b[0;34m,\u001b[0m\u001b[0;34m\u001b[0m\u001b[0;34m\u001b[0m\u001b[0m\n\u001b[1;32m    253\u001b[0m                 \u001b[0mlist\u001b[0m\u001b[0;34m(\u001b[0m\u001b[0margs\u001b[0m\u001b[0;34m)\u001b[0m\u001b[0;34m,\u001b[0m\u001b[0;34m\u001b[0m\u001b[0;34m\u001b[0m\u001b[0m\n",
            "\u001b[0;32m/usr/local/lib/python3.10/dist-packages/tensorflow/python/eager/context.py\u001b[0m in \u001b[0;36mcall_function\u001b[0;34m(self, name, tensor_inputs, num_outputs)\u001b[0m\n\u001b[1;32m   1484\u001b[0m     \u001b[0mcancellation_context\u001b[0m \u001b[0;34m=\u001b[0m \u001b[0mcancellation\u001b[0m\u001b[0;34m.\u001b[0m\u001b[0mcontext\u001b[0m\u001b[0;34m(\u001b[0m\u001b[0;34m)\u001b[0m\u001b[0;34m\u001b[0m\u001b[0;34m\u001b[0m\u001b[0m\n\u001b[1;32m   1485\u001b[0m     \u001b[0;32mif\u001b[0m \u001b[0mcancellation_context\u001b[0m \u001b[0;32mis\u001b[0m \u001b[0;32mNone\u001b[0m\u001b[0;34m:\u001b[0m\u001b[0;34m\u001b[0m\u001b[0;34m\u001b[0m\u001b[0m\n\u001b[0;32m-> 1486\u001b[0;31m       outputs = execute.execute(\n\u001b[0m\u001b[1;32m   1487\u001b[0m           \u001b[0mname\u001b[0m\u001b[0;34m.\u001b[0m\u001b[0mdecode\u001b[0m\u001b[0;34m(\u001b[0m\u001b[0;34m\"utf-8\"\u001b[0m\u001b[0;34m)\u001b[0m\u001b[0;34m,\u001b[0m\u001b[0;34m\u001b[0m\u001b[0;34m\u001b[0m\u001b[0m\n\u001b[1;32m   1488\u001b[0m           \u001b[0mnum_outputs\u001b[0m\u001b[0;34m=\u001b[0m\u001b[0mnum_outputs\u001b[0m\u001b[0;34m,\u001b[0m\u001b[0;34m\u001b[0m\u001b[0;34m\u001b[0m\u001b[0m\n",
            "\u001b[0;32m/usr/local/lib/python3.10/dist-packages/tensorflow/python/eager/execute.py\u001b[0m in \u001b[0;36mquick_execute\u001b[0;34m(op_name, num_outputs, inputs, attrs, ctx, name)\u001b[0m\n\u001b[1;32m     51\u001b[0m   \u001b[0;32mtry\u001b[0m\u001b[0;34m:\u001b[0m\u001b[0;34m\u001b[0m\u001b[0;34m\u001b[0m\u001b[0m\n\u001b[1;32m     52\u001b[0m     \u001b[0mctx\u001b[0m\u001b[0;34m.\u001b[0m\u001b[0mensure_initialized\u001b[0m\u001b[0;34m(\u001b[0m\u001b[0;34m)\u001b[0m\u001b[0;34m\u001b[0m\u001b[0;34m\u001b[0m\u001b[0m\n\u001b[0;32m---> 53\u001b[0;31m     tensors = pywrap_tfe.TFE_Py_Execute(ctx._handle, device_name, op_name,\n\u001b[0m\u001b[1;32m     54\u001b[0m                                         inputs, attrs, num_outputs)\n\u001b[1;32m     55\u001b[0m   \u001b[0;32mexcept\u001b[0m \u001b[0mcore\u001b[0m\u001b[0;34m.\u001b[0m\u001b[0m_NotOkStatusException\u001b[0m \u001b[0;32mas\u001b[0m \u001b[0me\u001b[0m\u001b[0;34m:\u001b[0m\u001b[0;34m\u001b[0m\u001b[0;34m\u001b[0m\u001b[0m\n",
            "\u001b[0;31mKeyboardInterrupt\u001b[0m: "
          ]
        }
      ]
    },
    {
      "cell_type": "markdown",
      "source": [
        "**Data Augmentation**"
      ],
      "metadata": {
        "id": "M4UTvZvZQNOk"
      }
    },
    {
      "cell_type": "code",
      "source": [
        "from tensorflow.keras.preprocessing.image import ImageDataGenerator\n",
        "\n",
        "# Shuffle the data before splitting\n",
        "indices = np.arange(train_images.shape[0])\n",
        "np.random.shuffle(indices)\n",
        "train_images = train_images[indices]\n",
        "train_labels = train_labels[indices]\n",
        "\n",
        "train_images = train_images.reshape(train_images.shape[0], 48, 48, 1)\n",
        "\n",
        "datagen = ImageDataGenerator(\n",
        "    rescale=1./255,\n",
        "    shear_range=0.2,\n",
        "    zoom_range=0.2,\n",
        "    horizontal_flip=True,\n",
        "    validation_split=0.1\n",
        ")\n",
        "\n",
        "train_generator = datagen.flow(train_images, train_labels, subset='training')\n",
        "validation_generator = datagen.flow(train_images, train_labels, subset='validation')\n",
        "\n",
        "history = model.fit(train_generator, epochs=30, validation_data=validation_generator, callbacks=[checkpoint])"
      ],
      "metadata": {
        "id": "i51e-g1PibfB",
        "colab": {
          "base_uri": "https://localhost:8080/"
        },
        "outputId": "47513e23-571f-467e-da6e-2328a71c0f66"
      },
      "execution_count": null,
      "outputs": [
        {
          "output_type": "stream",
          "name": "stdout",
          "text": [
            "Epoch 1/30\n",
            "649/649 [==============================] - 86s 130ms/step - loss: 1.7863 - accuracy: 0.2607 - val_loss: 69.3656 - val_accuracy: 0.1409\n",
            "Epoch 2/30\n",
            "649/649 [==============================] - 82s 127ms/step - loss: 1.6677 - accuracy: 0.3360 - val_loss: 1.6666 - val_accuracy: 0.3456\n",
            "Epoch 3/30\n",
            "649/649 [==============================] - 78s 120ms/step - loss: 1.5941 - accuracy: 0.3713 - val_loss: 1.7118 - val_accuracy: 0.3348\n",
            "Epoch 4/30\n",
            "649/649 [==============================] - 78s 120ms/step - loss: 1.5302 - accuracy: 0.4001 - val_loss: 2.8717 - val_accuracy: 0.1873\n",
            "Epoch 5/30\n",
            "649/649 [==============================] - 74s 114ms/step - loss: 1.4696 - accuracy: 0.4364 - val_loss: 4.6489 - val_accuracy: 0.1635\n",
            "Epoch 6/30\n",
            "649/649 [==============================] - 76s 117ms/step - loss: 1.4255 - accuracy: 0.4516 - val_loss: 3.6502 - val_accuracy: 0.2485\n",
            "Epoch 7/30\n",
            "649/649 [==============================] - 73s 113ms/step - loss: 1.4009 - accuracy: 0.4607 - val_loss: 2.1779 - val_accuracy: 0.1405\n",
            "Epoch 8/30\n",
            "649/649 [==============================] - 77s 118ms/step - loss: 1.3844 - accuracy: 0.4647 - val_loss: 1.9265 - val_accuracy: 0.1453\n",
            "Epoch 9/30\n",
            "649/649 [==============================] - 76s 117ms/step - loss: 1.3661 - accuracy: 0.4742 - val_loss: 2.3813 - val_accuracy: 0.1713\n",
            "Epoch 10/30\n",
            "649/649 [==============================] - 75s 116ms/step - loss: 1.3561 - accuracy: 0.4823 - val_loss: 3.4015 - val_accuracy: 0.1479\n",
            "Epoch 11/30\n",
            "649/649 [==============================] - 78s 120ms/step - loss: 1.3360 - accuracy: 0.4879 - val_loss: 3.9493 - val_accuracy: 0.1635\n",
            "Epoch 12/30\n",
            "649/649 [==============================] - 74s 115ms/step - loss: 1.3340 - accuracy: 0.4913 - val_loss: 3.5932 - val_accuracy: 0.2485\n",
            "Epoch 13/30\n",
            "649/649 [==============================] - 76s 117ms/step - loss: 1.3266 - accuracy: 0.4903 - val_loss: 3.5015 - val_accuracy: 0.2485\n",
            "Epoch 14/30\n",
            "649/649 [==============================] - 76s 118ms/step - loss: 1.3134 - accuracy: 0.4996 - val_loss: 2.8246 - val_accuracy: 0.1743\n",
            "Epoch 15/30\n",
            "649/649 [==============================] - 74s 114ms/step - loss: 1.3146 - accuracy: 0.5002 - val_loss: 4.1264 - val_accuracy: 0.1743\n",
            "Epoch 16/30\n",
            "649/649 [==============================] - 75s 116ms/step - loss: 1.3039 - accuracy: 0.5046 - val_loss: 14.4311 - val_accuracy: 0.2485\n",
            "Epoch 17/30\n",
            "649/649 [==============================] - 72s 111ms/step - loss: 1.2964 - accuracy: 0.5086 - val_loss: 2.3887 - val_accuracy: 0.2190\n",
            "Epoch 18/30\n",
            "649/649 [==============================] - 74s 115ms/step - loss: 1.2884 - accuracy: 0.5031 - val_loss: 3.1207 - val_accuracy: 0.2121\n",
            "Epoch 19/30\n",
            "649/649 [==============================] - 76s 117ms/step - loss: 1.2881 - accuracy: 0.5080 - val_loss: 3.7413 - val_accuracy: 0.1635\n",
            "Epoch 20/30\n",
            "649/649 [==============================] - 76s 117ms/step - loss: 1.2883 - accuracy: 0.5077 - val_loss: 2.5241 - val_accuracy: 0.1635\n",
            "Epoch 21/30\n",
            "649/649 [==============================] - 75s 115ms/step - loss: 1.2731 - accuracy: 0.5129 - val_loss: 4.5837 - val_accuracy: 0.1635\n",
            "Epoch 22/30\n",
            "649/649 [==============================] - 76s 117ms/step - loss: 1.2749 - accuracy: 0.5178 - val_loss: 4.5153 - val_accuracy: 0.1401\n",
            "Epoch 23/30\n",
            "649/649 [==============================] - 74s 113ms/step - loss: 1.2558 - accuracy: 0.5239 - val_loss: 4.2077 - val_accuracy: 0.1422\n",
            "Epoch 24/30\n",
            "649/649 [==============================] - 77s 118ms/step - loss: 1.2613 - accuracy: 0.5215 - val_loss: 6.9624 - val_accuracy: 0.1418\n",
            "Epoch 25/30\n",
            "649/649 [==============================] - 77s 118ms/step - loss: 1.2519 - accuracy: 0.5235 - val_loss: 6.3076 - val_accuracy: 0.1418\n",
            "Epoch 26/30\n",
            "649/649 [==============================] - 73s 113ms/step - loss: 1.2491 - accuracy: 0.5257 - val_loss: 2.1219 - val_accuracy: 0.1869\n",
            "Epoch 27/30\n",
            "649/649 [==============================] - 76s 117ms/step - loss: 1.2468 - accuracy: 0.5282 - val_loss: 3.9172 - val_accuracy: 0.1743\n",
            "Epoch 28/30\n",
            "649/649 [==============================] - 74s 113ms/step - loss: 1.2458 - accuracy: 0.5262 - val_loss: 2.4650 - val_accuracy: 0.1743\n",
            "Epoch 29/30\n",
            "649/649 [==============================] - 76s 117ms/step - loss: 1.2412 - accuracy: 0.5284 - val_loss: 2.6935 - val_accuracy: 0.1457\n",
            "Epoch 30/30\n",
            "649/649 [==============================] - 76s 117ms/step - loss: 1.2377 - accuracy: 0.5305 - val_loss: 5.7389 - val_accuracy: 0.1635\n"
          ]
        }
      ]
    },
    {
      "cell_type": "markdown",
      "source": [
        "**Increasing the Complexity of the Model**"
      ],
      "metadata": {
        "id": "jkD9ulesQXdF"
      }
    },
    {
      "cell_type": "code",
      "source": [
        "from tensorflow.keras.models import Sequential\n",
        "from tensorflow.keras.layers import Dense, Dropout, Flatten, Conv2D, MaxPooling2D\n",
        "\n",
        "model = Sequential([\n",
        "    Conv2D(32, (3, 3), activation='relu', input_shape=(50, 50, 1)),\n",
        "    MaxPooling2D((2, 2)),\n",
        "    Dropout(0.2),\n",
        "    Conv2D(64, (3, 3), activation='relu'),\n",
        "    MaxPooling2D((2, 2)),\n",
        "    Dropout(0.2),\n",
        "    Flatten(),\n",
        "    Dense(128, activation='relu'),\n",
        "    Dropout(0.5),\n",
        "    Dense(num_classes, activation='softmax')\n",
        "])\n",
        "\n",
        "model.compile(optimizer='adam', loss='categorical_crossentropy', metrics=['accuracy'])\n"
      ],
      "metadata": {
        "id": "NOs6cb79PmoW"
      },
      "execution_count": null,
      "outputs": []
    },
    {
      "cell_type": "code",
      "source": [],
      "metadata": {
        "id": "0zV9JGUHPmk7"
      },
      "execution_count": null,
      "outputs": []
    },
    {
      "cell_type": "code",
      "source": [],
      "metadata": {
        "id": "PJeZF6H7Pmgx"
      },
      "execution_count": null,
      "outputs": []
    },
    {
      "cell_type": "code",
      "source": [],
      "metadata": {
        "id": "623bEjoKPmaw"
      },
      "execution_count": null,
      "outputs": []
    },
    {
      "cell_type": "code",
      "source": [],
      "metadata": {
        "id": "ca6nHfyzUnpy"
      },
      "execution_count": null,
      "outputs": []
    },
    {
      "cell_type": "markdown",
      "source": [
        "**Fine Tunning : Tune only top layer**"
      ],
      "metadata": {
        "id": "u_ucCNIEh_xI"
      }
    }
  ],
  "metadata": {
    "accelerator": "GPU",
    "colab": {
      "gpuType": "T4",
      "provenance": [],
      "authorship_tag": "ABX9TyNIDGYeNiTWCOOQvHbv/qcT",
      "include_colab_link": true
    },
    "kernelspec": {
      "display_name": "Python 3",
      "name": "python3"
    },
    "language_info": {
      "name": "python"
    }
  },
  "nbformat": 4,
  "nbformat_minor": 0
}