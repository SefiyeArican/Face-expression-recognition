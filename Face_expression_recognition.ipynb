{
  "nbformat": 4,
  "nbformat_minor": 0,
  "metadata": {
    "colab": {
      "provenance": [],
      "authorship_tag": "ABX9TyP8sJGhqv7BLu+uYxyIKFgn",
      "include_colab_link": true
    },
    "kernelspec": {
      "name": "python3",
      "display_name": "Python 3"
    },
    "language_info": {
      "name": "python"
    }
  },
  "cells": [
    {
      "cell_type": "markdown",
      "metadata": {
        "id": "view-in-github",
        "colab_type": "text"
      },
      "source": [
        "<a href=\"https://colab.research.google.com/github/SefiyeArican/Face-expression-recognition-with-CNN/blob/main/Face_expression_recognition.ipynb\" target=\"_parent\"><img src=\"https://colab.research.google.com/assets/colab-badge.svg\" alt=\"Open In Colab\"/></a>"
      ]
    },
    {
      "cell_type": "markdown",
      "source": [
        "Access to the dataset via google drive"
      ],
      "metadata": {
        "id": "AQmSl9Nvaa-w"
      }
    },
    {
      "cell_type": "code",
      "execution_count": 1,
      "metadata": {
        "id": "hYn130DRry7V",
        "colab": {
          "base_uri": "https://localhost:8080/"
        },
        "outputId": "0d894bdb-d82a-47b3-85f4-b0dc6fdd6c23"
      },
      "outputs": [
        {
          "output_type": "stream",
          "name": "stdout",
          "text": [
            "Mounted at /content/drive\n"
          ]
        }
      ],
      "source": [
        "from google.colab import drive\n",
        "drive.mount('/content/drive')"
      ]
    },
    {
      "cell_type": "code",
      "source": [
        "import zipfile\n",
        "import os\n",
        "\n",
        "dataset_path = \"/content/drive/MyDrive/archive.zip\"\n",
        "\n",
        "with zipfile.ZipFile(os.path.join(dataset_path), 'r') as zip_ref:\n",
        "    zip_ref.extractall(\"/content/\")"
      ],
      "metadata": {
        "id": "t9e_FbNYaknD"
      },
      "execution_count": 2,
      "outputs": []
    },
    {
      "cell_type": "markdown",
      "source": [
        "Data loading and review"
      ],
      "metadata": {
        "id": "zPm-Vo8mvxm4"
      }
    },
    {
      "cell_type": "code",
      "source": [
        "import os\n",
        "from PIL import Image\n",
        "\n",
        "data_dir = '/content/images/images'\n",
        "\n",
        "def count_images_in_directory(data_dir):\n",
        "    image_extensions = ['.jpg', '.jpeg', '.png', '.gif', '.bmp', '.tiff', '.webp']\n",
        "\n",
        "    image_count = 0\n",
        "\n",
        "    for root, dirs, files in os.walk(data_dir):\n",
        "        for file in files:\n",
        "            if any(file.lower().endswith(ext) for ext in image_extensions):\n",
        "                try:\n",
        "                    # Check if it is visual\n",
        "                    with Image.open(os.path.join(root, file)) as img:\n",
        "                        img.verify()  # This line checks if the image is broken\n",
        "                    image_count += 1\n",
        "                except (IOError, SyntaxError):\n",
        "                    # Skip non-visual files\n",
        "                    continue\n",
        "\n",
        "    return image_count\n",
        "\n",
        "data_dir = '/content/images/images/train'\n",
        "print(f\"Number of images in the train folder: {count_images_in_directory(data_dir)}\")\n",
        "data_dir = '/content/images/images/validation'\n",
        "print(f\"Number of images in the validation folder: {count_images_in_directory(data_dir)}\")"
      ],
      "metadata": {
        "id": "uR9knopva-XC",
        "colab": {
          "base_uri": "https://localhost:8080/"
        },
        "outputId": "4c35eb38-1979-48cc-872d-e229943111f7"
      },
      "execution_count": 9,
      "outputs": [
        {
          "output_type": "stream",
          "name": "stdout",
          "text": [
            "Number of images in the train folder: 28821\n",
            "Number of images in the validation folder: 7066\n"
          ]
        }
      ]
    },
    {
      "cell_type": "code",
      "source": [],
      "metadata": {
        "id": "WV_WmpGD0uXB"
      },
      "execution_count": null,
      "outputs": []
    }
  ]
}